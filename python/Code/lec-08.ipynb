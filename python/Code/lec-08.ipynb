{
 "cells": [
  {
   "cell_type": "markdown",
   "id": "19af2d7d",
   "metadata": {},
   "source": [
    "Write OOP classes to handle the following scenarios :\n",
    "\n",
    "- A user can create and view 2D coordinates.\n",
    "- A user can find out thr distance between 2 coordinates\n",
    "- A user can find the distance of a coordinate from origin\n",
    "- A user can check if a point lies on a given line\n",
    "- A user can find the distance between a given 2D point and a given line"
   ]
  },
  {
   "cell_type": "code",
   "execution_count": 7,
   "id": "aef738ed",
   "metadata": {},
   "outputs": [],
   "source": [
    "class Point :\n",
    "\n",
    "    def __init__(self,x,y):\n",
    "        self.x_cod = x\n",
    "        self.y_cod = y\n",
    "\n",
    "    def __str__(self):\n",
    "        return '<{},{}>'.format(self.x_cod,self.y_cod)\n",
    "    \n",
    "    def euclidean_distance(self,other):\n",
    "        return ((self.x_cod - other.x_cod)**2 + (self.y_cod - other.y_cod)**2)**0.5\n",
    "    \n",
    "    def distance_from_origin(self):\n",
    "        return self.euclidean_distance(Point(0,0))\n",
    "    \n",
    "\n",
    "class Line:\n",
    "\n",
    "    def __init__(self,A,B,C):\n",
    "        self.A  = A\n",
    "        self.B  = B\n",
    "        self.C  = C\n",
    "\n",
    "    def __str__(self):\n",
    "        return '{}x+{}y+{}=0'.format(self.A,self.B  )\n",
    "\n"
   ]
  },
  {
   "cell_type": "code",
   "execution_count": 8,
   "id": "dd148350",
   "metadata": {},
   "outputs": [
    {
     "name": "stdout",
     "output_type": "stream",
     "text": [
      "<0,0>\n"
     ]
    },
    {
     "data": {
      "text/plain": [
       "5.656854249492381"
      ]
     },
     "execution_count": 8,
     "metadata": {},
     "output_type": "execute_result"
    }
   ],
   "source": [
    "p1 = Point(0,0)\n",
    "p2 = Point(4,4)\n",
    "p3 = Point(3,4)\n",
    "print(p1)\n",
    "p1.euclidean_distance(p3)\n",
    "p2.distance_from_origin()"
   ]
  },
  {
   "cell_type": "markdown",
   "id": "824e62a7",
   "metadata": {},
   "source": [
    "Reference Variables\n",
    "\n",
    "- Reference variables hold the objects\n",
    "- We can create objects without reference variable as well\n",
    "- An object can have multiple reference variables\n",
    "- Assigning a new reference variable to an existing object does not create a new object"
   ]
  },
  {
   "cell_type": "code",
   "execution_count": 9,
   "id": "05ac57be",
   "metadata": {},
   "outputs": [
    {
     "name": "stdout",
     "output_type": "stream",
     "text": [
      "<__main__.Person object at 0x00000279D98B9D30>\n",
      "2722364103984\n"
     ]
    }
   ],
   "source": [
    "# object without a reference \n",
    "\n",
    "class Person :\n",
    "\n",
    "    def __init__(self):\n",
    "        self.name = 'nitish'\n",
    "        self.gender = 'male'\n",
    "\n",
    "p = Person()\n",
    "print(p)\n",
    "print(id(p))\n",
    "\n",
    "\n",
    "\n"
   ]
  },
  {
   "cell_type": "markdown",
   "id": "4d729849",
   "metadata": {},
   "source": [
    "Pass by reference\n"
   ]
  },
  {
   "cell_type": "code",
   "execution_count": 10,
   "id": "59e14af0",
   "metadata": {},
   "outputs": [
    {
     "name": "stdout",
     "output_type": "stream",
     "text": [
      "Hi my name is  ankit and I am a male\n",
      "nitsish\n",
      "male\n"
     ]
    }
   ],
   "source": [
    "class Person :\n",
    "\n",
    "    def __init__(self,name,gender):\n",
    "        self.name = name\n",
    "        self.gender = gender\n",
    "\n",
    "\n",
    "def greet(person):\n",
    "    print('Hi my name is ',person.name,'and I am a',person.gender)\n",
    "    p1 = Person('nitsish','male')\n",
    "    return p1\n",
    "\n",
    "p = Person('ankit','male')\n",
    "x = greet(p)\n",
    "print(x.name)\n",
    "print(x.gender)"
   ]
  },
  {
   "cell_type": "code",
   "execution_count": 11,
   "id": "8562d2c1",
   "metadata": {},
   "outputs": [
    {
     "name": "stdout",
     "output_type": "stream",
     "text": [
      "<__main__.Person object at 0x00000279D98B9D30>\n",
      "<class '__main__.Person'>\n",
      "2722364103984\n",
      "<__main__.Person object at 0x00000279D98B9D30>\n",
      "<class '__main__.Person'>\n",
      "2722364103984\n",
      "Hi my name is  ankit and I am a male\n",
      "nitish\n"
     ]
    }
   ],
   "source": [
    "class Person :\n",
    "\n",
    "    def __init__(self,name,gender):\n",
    "        self.name = name\n",
    "        self.gender = gender\n",
    "\n",
    "\n",
    "def greet(person):\n",
    "    print(person)\n",
    "    print(type(person))\n",
    "    print(id(person))\n",
    "    print('Hi my name is ',person.name,'and I am a',person.gender)\n",
    "    person.name = 'nitish'\n",
    "\n",
    "p = Person('ankit','male')\n",
    "print(p)\n",
    "print(type(p))\n",
    "print(id(p))\n",
    "greet(p)\n",
    "print(p.name)"
   ]
  },
  {
   "cell_type": "code",
   "execution_count": 12,
   "id": "a779dc45",
   "metadata": {},
   "outputs": [
    {
     "name": "stdout",
     "output_type": "stream",
     "text": [
      "2722364103648\n",
      "2722364103648\n"
     ]
    }
   ],
   "source": [
    "# Objects are mutable\n",
    "\n",
    "class Person :\n",
    "\n",
    "    def __init__(self,name,gender):\n",
    "        self.name = name\n",
    "        self.gender = gender\n",
    "\n",
    "\n",
    "def greet(person):\n",
    "    person.name = 'nitish'\n",
    "    return person\n",
    "\n",
    "p = Person('ankit','male')\n",
    "\n",
    "print(id(p))\n",
    "p1 = greet(p)\n",
    "print(id(p1))"
   ]
  },
  {
   "cell_type": "markdown",
   "id": "affb4b26",
   "metadata": {},
   "source": [
    "Encapsulation\n"
   ]
  },
  {
   "cell_type": "code",
   "execution_count": 13,
   "id": "9cd54c6a",
   "metadata": {},
   "outputs": [],
   "source": [
    "# instance var -> python tutor\n",
    "#instance var value depends on object\n",
    "class Person:\n",
    "\n",
    "    def __init__(self,name,country):\n",
    "        self.name = name\n",
    "        self.country = country\n",
    "\n",
    "p1 = Person('prince','india')\n",
    "p2 = Person('steve','austrailia')"
   ]
  },
  {
   "cell_type": "code",
   "execution_count": 14,
   "id": "8b5414e1",
   "metadata": {},
   "outputs": [],
   "source": [
    "#Encapsulation \n",
    "#for private - __varname\n",
    "# private variables (e.g __balance) into _classname__varname (e.g _Atm__balance)\n",
    "\n",
    "\n",
    "class Atm:\n",
    "\n",
    "  # constructor(special function)->superpower -> \n",
    "  def __init__(self):\n",
    "    print(id(self))\n",
    "    self.pin = ''\n",
    "    self.__balance = 0\n",
    "    #self.menu()\n",
    "\n",
    "  def get_balance(self):\n",
    "    return self.__balance\n",
    "\n",
    "  def set_balance(self,new_value):\n",
    "    if type(new_value) == int:\n",
    "      self.__balance = new_value\n",
    "    else:\n",
    "      print('beta bahot maarenge')\n",
    "\n",
    "  def __menu(self):\n",
    "    user_input = input(\"\"\"\n",
    "    Hi how can I help you?\n",
    "    1. Press 1 to create pin\n",
    "    2. Press 2 to change pin\n",
    "    3. Press 3 to check balance\n",
    "    4. Press 4 to withdraw\n",
    "    5. Anything else to exit\n",
    "    \"\"\")\n",
    "\n",
    "    if user_input == '1':\n",
    "      self.create_pin()\n",
    "    elif user_input == '2':\n",
    "      self.change_pin()\n",
    "    elif user_input == '3':\n",
    "      self.check_balance()\n",
    "    elif user_input == '4':\n",
    "      self.withdraw()\n",
    "    else:\n",
    "      exit()\n",
    "\n",
    "  def create_pin(self):\n",
    "    user_pin = input('enter your pin')\n",
    "    self.pin = user_pin\n",
    "\n",
    "    user_balance = int(input('enter balance'))\n",
    "    self.__balance = user_balance\n",
    "\n",
    "    print('pin created successfully')\n",
    "\n",
    "  def change_pin(self):\n",
    "    old_pin = input('enter old pin')\n",
    "\n",
    "    if old_pin == self.pin:\n",
    "      # let him change the pin\n",
    "      new_pin = input('enter new pin')\n",
    "      self.pin = new_pin\n",
    "      print('pin change successful')\n",
    "    else:\n",
    "      print('nai karne de sakta re baba')\n",
    "\n",
    "  def check_balance(self):\n",
    "    user_pin = input('enter your pin')\n",
    "    if user_pin == self.pin:\n",
    "      print('your balance is ',self.__balance)\n",
    "    else:\n",
    "      print('chal nikal yahan se')\n",
    "\n",
    "  def withdraw(self):\n",
    "    user_pin = input('enter the pin')\n",
    "    if user_pin == self.pin:\n",
    "      # allow to withdraw\n",
    "      amount = int(input('enter the amount'))\n",
    "      if amount <= self.__balance:\n",
    "        self.__balance = self.__balance - amount\n",
    "        print('withdrawl successful.balance is',self.__balance)\n",
    "      else:\n",
    "        print('abe garib')\n",
    "    else:\n",
    "      print('sale chor')"
   ]
  },
  {
   "cell_type": "code",
   "execution_count": 15,
   "id": "4b4692f8",
   "metadata": {},
   "outputs": [
    {
     "name": "stdout",
     "output_type": "stream",
     "text": [
      "2722364104656\n"
     ]
    },
    {
     "ename": "ValueError",
     "evalue": "invalid literal for int() with base 10: ''",
     "output_type": "error",
     "traceback": [
      "\u001b[1;31m---------------------------------------------------------------------------\u001b[0m",
      "\u001b[1;31mValueError\u001b[0m                                Traceback (most recent call last)",
      "Cell \u001b[1;32mIn[15], line 4\u001b[0m\n\u001b[0;32m      2\u001b[0m obj\u001b[38;5;241m.\u001b[39mget_balance()\n\u001b[0;32m      3\u001b[0m obj\u001b[38;5;241m.\u001b[39mset_balance(\u001b[38;5;241m1000\u001b[39m)\n\u001b[1;32m----> 4\u001b[0m obj\u001b[38;5;241m.\u001b[39mwithdraw()\n",
      "Cell \u001b[1;32mIn[14], line 76\u001b[0m, in \u001b[0;36mAtm.withdraw\u001b[1;34m(self)\u001b[0m\n\u001b[0;32m     73\u001b[0m user_pin \u001b[38;5;241m=\u001b[39m \u001b[38;5;28minput\u001b[39m(\u001b[38;5;124m'\u001b[39m\u001b[38;5;124menter the pin\u001b[39m\u001b[38;5;124m'\u001b[39m)\n\u001b[0;32m     74\u001b[0m \u001b[38;5;28;01mif\u001b[39;00m user_pin \u001b[38;5;241m==\u001b[39m \u001b[38;5;28mself\u001b[39m\u001b[38;5;241m.\u001b[39mpin:\n\u001b[0;32m     75\u001b[0m   \u001b[38;5;66;03m# allow to withdraw\u001b[39;00m\n\u001b[1;32m---> 76\u001b[0m   amount \u001b[38;5;241m=\u001b[39m \u001b[38;5;28mint\u001b[39m(\u001b[38;5;28minput\u001b[39m(\u001b[38;5;124m'\u001b[39m\u001b[38;5;124menter the amount\u001b[39m\u001b[38;5;124m'\u001b[39m))\n\u001b[0;32m     77\u001b[0m   \u001b[38;5;28;01mif\u001b[39;00m amount \u001b[38;5;241m<\u001b[39m\u001b[38;5;241m=\u001b[39m \u001b[38;5;28mself\u001b[39m\u001b[38;5;241m.\u001b[39m__balance:\n\u001b[0;32m     78\u001b[0m     \u001b[38;5;28mself\u001b[39m\u001b[38;5;241m.\u001b[39m__balance \u001b[38;5;241m=\u001b[39m \u001b[38;5;28mself\u001b[39m\u001b[38;5;241m.\u001b[39m__balance \u001b[38;5;241m-\u001b[39m amount\n",
      "\u001b[1;31mValueError\u001b[0m: invalid literal for int() with base 10: ''"
     ]
    }
   ],
   "source": [
    "obj = Atm()\n",
    "obj.get_balance()\n",
    "obj.set_balance(1000)\n",
    "obj.withdraw()"
   ]
  },
  {
   "cell_type": "code",
   "execution_count": 22,
   "id": "3818c10d",
   "metadata": {},
   "outputs": [
    {
     "name": "stdout",
     "output_type": "stream",
     "text": [
      "[<__main__.Person object at 0x00000279D98BAE40>, <__main__.Person object at 0x00000279D9ED4690>, <__main__.Person object at 0x00000279D9D7B110>]\n",
      "nitish male\n",
      "ankit male\n",
      "ankita female\n"
     ]
    }
   ],
   "source": [
    "# list of objects\n",
    "class Person:\n",
    "\n",
    "  def __init__(self,name,gender):\n",
    "    self.name = name\n",
    "    self.gender = gender\n",
    "\n",
    "p1 = Person('nitish','male')\n",
    "p2 = Person('ankit','male')\n",
    "p3 = Person('ankita','female')\n",
    "\n",
    "L = [p1,p2,p3]\n",
    "print(L)\n",
    "\n",
    "for i in L:\n",
    "  print(i.name,i.gender)"
   ]
  },
  {
   "cell_type": "code",
   "execution_count": null,
   "id": "417e7796",
   "metadata": {},
   "outputs": [
    {
     "name": "stdout",
     "output_type": "stream",
     "text": [
      "male\n",
      "male\n",
      "female\n"
     ]
    }
   ],
   "source": [
    "# dict of objects\n",
    "# list of objects\n",
    "class Person:\n",
    "\n",
    "  def __init__(self,name,gender):\n",
    "    self.name = name\n",
    "    self.gender = gender\n",
    "\n",
    "p1 = Person('nitish','male')\n",
    "p2 = Person('ankit','male')\n",
    "p3 = Person('ankita','female')\n",
    "\n",
    "d = {'p1':p1,'p2':p2,'p3':p3}\n",
    "\n",
    "for i in d:\n",
    "  print(d[i].gender)"
   ]
  },
  {
   "cell_type": "markdown",
   "id": "e2c865cf",
   "metadata": {},
   "source": [
    "Static Variables(Vs Instance variables)"
   ]
  },
  {
   "cell_type": "code",
   "execution_count": 16,
   "id": "34e67c1e",
   "metadata": {},
   "outputs": [],
   "source": [
    "class Atm:\n",
    "\n",
    "  __counter = 1\n",
    "\n",
    "  # constructor(special function)->superpower -> \n",
    "  def __init__(self):\n",
    "    print(id(self))\n",
    "    self.pin = ''\n",
    "    self.__balance = 0\n",
    "    self.cid = Atm.__counter\n",
    "    Atm.__counter = Atm.__counter + 1\n",
    "    #self.menu()\n",
    "\n",
    "  # utility functions\n",
    "  @staticmethod\n",
    "  def get_counter():\n",
    "    return Atm.__counter\n",
    "\n",
    "\n",
    "  def get_balance(self):\n",
    "    return self.__balance\n",
    "\n",
    "  def set_balance(self,new_value):\n",
    "    if type(new_value) == int:\n",
    "      self.__balance = new_value\n",
    "    else:\n",
    "      print('beta bahot maarenge')\n",
    "\n",
    "  def __menu(self):\n",
    "    user_input = input(\"\"\"\n",
    "    Hi how can I help you?\n",
    "    1. Press 1 to create pin\n",
    "    2. Press 2 to change pin\n",
    "    3. Press 3 to check balance\n",
    "    4. Press 4 to withdraw\n",
    "    5. Anything else to exit\n",
    "    \"\"\")\n",
    "\n",
    "    if user_input == '1':\n",
    "      self.create_pin()\n",
    "    elif user_input == '2':\n",
    "      self.change_pin()\n",
    "    elif user_input == '3':\n",
    "      self.check_balance()\n",
    "    elif user_input == '4':\n",
    "      self.withdraw()\n",
    "    else:\n",
    "      exit()\n",
    "\n",
    "  def create_pin(self):\n",
    "    user_pin = input('enter your pin')\n",
    "    self.pin = user_pin\n",
    "\n",
    "    user_balance = int(input('enter balance'))\n",
    "    self.__balance = user_balance\n",
    "\n",
    "    print('pin created successfully')\n",
    "\n",
    "  def change_pin(self):\n",
    "    old_pin = input('enter old pin')\n",
    "\n",
    "    if old_pin == self.pin:\n",
    "      # let him change the pin\n",
    "      new_pin = input('enter new pin')\n",
    "      self.pin = new_pin\n",
    "      print('pin change successful')\n",
    "    else:\n",
    "      print('nai karne de sakta re baba')\n",
    "\n",
    "  def check_balance(self):\n",
    "    user_pin = input('enter your pin')\n",
    "    if user_pin == self.pin:\n",
    "      print('your balance is ',self.__balance)\n",
    "    else:\n",
    "      print('chal nikal yahan se')\n",
    "\n",
    "  def withdraw(self):\n",
    "    user_pin = input('enter the pin')\n",
    "    if user_pin == self.pin:\n",
    "      # allow to withdraw\n",
    "      amount = int(input('enter the amount'))\n",
    "      if amount <= self.__balance:\n",
    "        self.__balance = self.__balance - amount\n",
    "        print('withdrawl successful.balance is',self.__balance)\n",
    "      else:\n",
    "        print('abe garib')\n",
    "    else:\n",
    "      print('sale chor')"
   ]
  },
  {
   "cell_type": "code",
   "execution_count": 21,
   "id": "6f43b9ce",
   "metadata": {},
   "outputs": [
    {
     "name": "stdout",
     "output_type": "stream",
     "text": [
      "2722370208848\n",
      "2722370208080\n",
      "10\n",
      "11\n"
     ]
    }
   ],
   "source": [
    "c1 = Atm()\n",
    "Atm.get_counter()\n",
    "c3 = Atm()\n",
    "print(c3.cid)\n",
    "print(Atm.get_counter())"
   ]
  },
  {
   "cell_type": "markdown",
   "id": "40ddabc0",
   "metadata": {},
   "source": [
    "Points to remember about static\n",
    "\n",
    "- Static attributes are created at class level.\n",
    "\n",
    "- Static attributes are accessed using ClassName.\n",
    "\n",
    "- Static attributes are object independent. We can access them without creating instance (object) of the class in which they are defined.\n",
    "\n",
    "- The value stored in static attribute is shared between all instances(objects) of the class in which the static attribute is defined."
   ]
  },
  {
   "cell_type": "markdown",
   "id": "92681a7a",
   "metadata": {},
   "source": [
    "HW\n"
   ]
  },
  {
   "cell_type": "code",
   "execution_count": 23,
   "id": "8fa37a4a",
   "metadata": {},
   "outputs": [
    {
     "name": "stdout",
     "output_type": "stream",
     "text": [
      "No of intance =  3\n"
     ]
    }
   ],
   "source": [
    "# 1.Count number of instances of a class created in Python?\n",
    "\n",
    "class Car :\n",
    "    noofinstance = 0\n",
    "\n",
    "    def __init__(self):\n",
    "        Car.noofinstance += 1\n",
    "\n",
    "maruti = Car()\n",
    "bmw = Car()\n",
    "honda = Car()\n",
    "\n",
    "print(\"No of intance = \",Car.noofinstance)\n"
   ]
  },
  {
   "cell_type": "code",
   "execution_count": 51,
   "id": "32d5fd6e",
   "metadata": {},
   "outputs": [
    {
     "name": "stdout",
     "output_type": "stream",
     "text": [
      "king of 4\n",
      "[('diamond', 8), ('diamond', 'J'), ('spade', 5), ('hearts', 'Q'), ('diamond', 4), ('hearts', 8), ('hearts', 3), ('Clubs', 10), ('hearts', 5), ('spade', 3), ('Clubs', 7), ('hearts', 7), ('Clubs', 5), ('hearts', 6), ('diamond', 'Q'), ('Clubs', 9), ('hearts', 9), ('hearts', 4), ('diamond', 3), ('diamond', 5), ('hearts', 'J'), ('Clubs', 3), ('spade', 'K'), ('diamond', 7), ('spade', 7), ('spade', 8), ('Clubs', 'K'), ('diamond', 6), ('diamond', 9), ('Clubs', 'Q'), ('Clubs', 'A'), ('Clubs', 8), ('Clubs', 'J'), ('spade', 4), ('diamond', 'A'), ('spade', 6), ('Clubs', 6), ('spade', 'Q'), ('hearts', 10), ('hearts', 'K'), ('diamond', 10), ('hearts', 'A'), ('spade', 'A'), ('spade', 10), ('hearts', 2), ('spade', 2), ('diamond', 'K'), ('Clubs', 4), ('spade', 'J'), ('diamond', 2), ('Clubs', 2), ('spade', 9)]\n",
      "No of cards remaining in deck - 52\n",
      "('spade', 9)\n",
      "No of cards remaining in deck - 51\n"
     ]
    }
   ],
   "source": [
    "#2\n",
    "import random\n",
    "\n",
    "class Card :\n",
    "\n",
    "    def __init__(self,name,val):\n",
    "        self.suit = name\n",
    "        self.value = val\n",
    "\n",
    "    def __str__(self):\n",
    "        return '{} of {}'.format(self.suit,self.value)\n",
    "    \n",
    "\n",
    "\n",
    "class deck :\n",
    "\n",
    "    def __init__(self):\n",
    "        self.cards = []\n",
    "        self.build_shuffle()\n",
    "        self.number = 52\n",
    "\n",
    "    def build_shuffle(self):\n",
    "        suits = [\"Clubs\",\"hearts\",\"diamond\",\"spade\"]\n",
    "        values = ['A','K','Q','J',2,3,4,5,6,7,8,9,10]\n",
    "\n",
    "        for i in suits:\n",
    "            for j in values:\n",
    "                self.cards.append((i,j))\n",
    "       # print(len(self.cards))\n",
    "        random.shuffle(self.cards)\n",
    "\n",
    "    def deal(self):\n",
    "        if len(self.cards) > 0 :\n",
    "            return self.cards.pop()\n",
    "        pass\n",
    "        \n",
    "    def __str__(self):\n",
    "       return  'No of cards remaining in deck - {}'.format(len(self.cards))\n",
    "\n",
    "c1 = Card(\"king\",4)\n",
    "print(c1)\n",
    "d = deck()\n",
    "print(d.cards)\n",
    "print(d)\n",
    "print(d.deal())\n",
    "print(d)\n"
   ]
  },
  {
   "cell_type": "code",
   "execution_count": 55,
   "id": "e582d55d",
   "metadata": {},
   "outputs": [
    {
     "name": "stdout",
     "output_type": "stream",
     "text": [
      "inside class method\n"
     ]
    },
    {
     "data": {
      "text/plain": [
       "False"
      ]
     },
     "execution_count": 55,
     "metadata": {},
     "output_type": "execute_result"
    }
   ],
   "source": [
    "#3\n",
    "\n",
    "class Rectangle:\n",
    "\n",
    "    def __init__(self,l,b):\n",
    "        self.l = l\n",
    "        self.h = b\n",
    "\n",
    "\n",
    "    @classmethod\n",
    "    def property(cls,l,b):\n",
    "        print(\"inside class method\")\n",
    "        return cls(l,b)\n",
    "\n",
    "    def area(self):\n",
    "        return self.l*self.h\n",
    "    \n",
    "    def is_square(self):\n",
    "        return True if self.l==self.h else False\n",
    "    \n",
    "\n",
    "r = Rectangle.property(2,5)\n",
    "r.is_square()"
   ]
  },
  {
   "cell_type": "code",
   "execution_count": null,
   "id": "37854e22",
   "metadata": {},
   "outputs": [
    {
     "name": "stdout",
     "output_type": "stream",
     "text": [
      "2024-12-14 00:00:00\n",
      "2025-09-24 00:00:00\n",
      "284 days, 0:00:00\n",
      "no of days to be expire  284\n"
     ]
    }
   ],
   "source": [
    "#4\n",
    "\n",
    "import datetime\n",
    "\n",
    "class Expiry:\n",
    "\n",
    "    def __init__(self):\n",
    "        self.mfg = datetime.datetime(int(input(\"Enter year\")),int(input(\"Enter month\")),int(input(\"Enter day\")))\n",
    "        self.exp = datetime.datetime(int(input(\"Enter year\")),int(input(\"Enter month\")),int(input(\"Enter day\")))\n",
    "\n",
    "\n",
    "e = Expiry()\n",
    "print(e.mfg)\n",
    "print(e.exp)\n",
    "\n",
    "difference = e.exp - e.mfg\n",
    "print(difference)\n",
    "\n",
    "print(\"no of days to be expire \",difference.days)\n",
    "print(\"no of months to be expire \",difference.days/30)\n",
    "print(\"no of year to be expire \",difference.days/365)"
   ]
  },
  {
   "cell_type": "code",
   "execution_count": 67,
   "id": "6b0415cd",
   "metadata": {},
   "outputs": [
    {
     "name": "stdout",
     "output_type": "stream",
     "text": [
      "s1@gmail.com\n",
      "None\n"
     ]
    },
    {
     "data": {
      "text/plain": [
       "True"
      ]
     },
     "execution_count": 67,
     "metadata": {},
     "output_type": "execute_result"
    }
   ],
   "source": [
    "#5\n",
    "\n",
    "class Student:\n",
    "\n",
    "    def __init__(self):\n",
    "        self._student_id = None\n",
    "        self._marks = None\n",
    "        self._age = None\n",
    "        pass\n",
    "\n",
    "    @property\n",
    "    def student_id(self):\n",
    "        print(self._student_id)\n",
    "\n",
    "    @student_id.setter\n",
    "    def student_id(self,new_id):\n",
    "        self._student_id = new_id\n",
    "\n",
    "    @property #getter\n",
    "    def marks(self):\n",
    "        return self._marks\n",
    "\n",
    "    @marks.setter\n",
    "    def marks(self,new_marks):\n",
    "        self._marks = new_marks\n",
    "    \n",
    "    \n",
    "    @property\n",
    "    def age(self):\n",
    "        print(self._age)\n",
    "\n",
    "    @age.setter\n",
    "    def age(self,new_age):\n",
    "        self._age = new_age\n",
    "\n",
    "    def validatemarks(self):\n",
    "        if 0<=self.marks<=100 :\n",
    "            return True\n",
    "\n",
    "s1 = Student()\n",
    "s1.student_id = 's1@gmail.com'\n",
    "s1.marks = 86\n",
    "s1.age = 16\n",
    "print(s1.student_id)\n",
    "s1.validatemarks()"
   ]
  },
  {
   "cell_type": "code",
   "execution_count": null,
   "id": "332ba66f",
   "metadata": {},
   "outputs": [],
   "source": []
  }
 ],
 "metadata": {
  "kernelspec": {
   "display_name": "base",
   "language": "python",
   "name": "python3"
  },
  "language_info": {
   "codemirror_mode": {
    "name": "ipython",
    "version": 3
   },
   "file_extension": ".py",
   "mimetype": "text/x-python",
   "name": "python",
   "nbconvert_exporter": "python",
   "pygments_lexer": "ipython3",
   "version": "3.13.5"
  }
 },
 "nbformat": 4,
 "nbformat_minor": 5
}
