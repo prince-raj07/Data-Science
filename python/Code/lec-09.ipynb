{
 "cells": [
  {
   "cell_type": "markdown",
   "id": "b8ff4a75",
   "metadata": {},
   "source": [
    "Class Relationships\n",
    "\n",
    "- Aggregation\n",
    "- Inheritance"
   ]
  },
  {
   "cell_type": "markdown",
   "id": "cf9be17a",
   "metadata": {},
   "source": [
    "Aggregation(Has - A relationship)"
   ]
  },
  {
   "cell_type": "code",
   "execution_count": 5,
   "id": "7451fa86",
   "metadata": {},
   "outputs": [
    {
     "name": "stdout",
     "output_type": "stream",
     "text": [
      "mmm boakro jahrl\n"
     ]
    }
   ],
   "source": [
    "#eample\n",
    "class Customer:\n",
    "\n",
    "    def __init__(self,name,gender,address):\n",
    "        self.name = name\n",
    "        self.gender = gender\n",
    "        self.address = address\n",
    "\n",
    "    def print_address(self):\n",
    "         print(self.address.get_city,self.address.pin,self.address.state)\n",
    "\n",
    "    def edit_profile(self,new_name,new_city,new_state):\n",
    "         self.name = new_name\n",
    "         self.address.edit_address(new_name,new_city,new_state)\n",
    "         \n",
    "\n",
    "class Address:\n",
    "\n",
    "        def __init__(self,city,pin,state):\n",
    "            self.__city = city \n",
    "            self.pin = pin \n",
    "            self.state = state\n",
    "        \n",
    "        @property\n",
    "        def get_city(self):\n",
    "             return self.__city\n",
    "        \n",
    "        def edit_address(self,new_city,new_pin,new_state):\n",
    "             self.__city = new_city\n",
    "             self.pin = new_pin\n",
    "             self.state = new_state\n",
    "\n",
    "\n",
    "add1 = Address('gurgaon',122011,'haryana')\n",
    "cust = Customer('nitish','male',add1)\n",
    "\n",
    "cust.edit_profile('mmm','boakro','jahrl')\n",
    "cust.print_address()\n",
    "            "
   ]
  },
  {
   "cell_type": "markdown",
   "id": "f7c418d4",
   "metadata": {},
   "source": [
    "Inheritance\n"
   ]
  },
  {
   "cell_type": "code",
   "execution_count": 6,
   "id": "be75ef0b",
   "metadata": {},
   "outputs": [
    {
     "name": "stdout",
     "output_type": "stream",
     "text": [
      "nitish\n",
      "login\n",
      "enroll into course\n"
     ]
    }
   ],
   "source": [
    "class User :\n",
    "    \n",
    "    def __init__(self):\n",
    "        self.name = 'nitish'\n",
    "        self.gender = 'male'\n",
    "\n",
    "    def login(self):\n",
    "        print('login')\n",
    "\n",
    "        #child\n",
    "class Student(User):\n",
    "\n",
    "    def enroll(self):\n",
    "        print('enroll into course')\n",
    "\n",
    "u = User()\n",
    "s = Student()\n",
    "\n",
    "print(s.name)\n",
    "s.login()\n",
    "s.enroll()"
   ]
  },
  {
   "cell_type": "markdown",
   "id": "c80da663",
   "metadata": {},
   "source": [
    "What gets inherited?\n",
    "\n",
    "- Non-private attributes\n",
    "- Non-private methods\n",
    "- constructor"
   ]
  },
  {
   "cell_type": "code",
   "execution_count": 7,
   "id": "b7f9e019",
   "metadata": {},
   "outputs": [
    {
     "name": "stdout",
     "output_type": "stream",
     "text": [
      "inside phone constructor\n"
     ]
    }
   ],
   "source": [
    "#constructor example\n",
    "\n",
    "class Phone:\n",
    "    def __init__(self,price,brand,camera):\n",
    "        print(\"inside phone constructor\")\n",
    "        self.price = price\n",
    "        self.brand = brand\n",
    "        self.camera = camera\n",
    "\n",
    "    def buy(self):\n",
    "        print(\"Buysing a phone\")\n",
    "\n",
    "class SmartPhone(Phone):\n",
    "    pass\n",
    "\n",
    "s = SmartPhone(20000,'Apple',133)"
   ]
  },
  {
   "cell_type": "code",
   "execution_count": 9,
   "id": "a9c2165b",
   "metadata": {},
   "outputs": [
    {
     "name": "stdout",
     "output_type": "stream",
     "text": [
      "Inside smartphone constructor\n"
     ]
    },
    {
     "ename": "AttributeError",
     "evalue": "'SmartPhone' object has no attribute 'brand'",
     "output_type": "error",
     "traceback": [
      "\u001b[1;31m---------------------------------------------------------------------------\u001b[0m",
      "\u001b[1;31mAttributeError\u001b[0m                            Traceback (most recent call last)",
      "Cell \u001b[1;32mIn[9], line 20\u001b[0m\n\u001b[0;32m     17\u001b[0m         \u001b[38;5;28mprint\u001b[39m(\u001b[38;5;124m\"\u001b[39m\u001b[38;5;124mInside smartphone constructor\u001b[39m\u001b[38;5;124m\"\u001b[39m)\n\u001b[0;32m     19\u001b[0m s \u001b[38;5;241m=\u001b[39m SmartPhone(\u001b[38;5;124m'\u001b[39m\u001b[38;5;124mApple\u001b[39m\u001b[38;5;124m'\u001b[39m,\u001b[38;5;241m133\u001b[39m)\n\u001b[1;32m---> 20\u001b[0m \u001b[38;5;28mprint\u001b[39m(s\u001b[38;5;241m.\u001b[39mbrand)\n",
      "\u001b[1;31mAttributeError\u001b[0m: 'SmartPhone' object has no attribute 'brand'"
     ]
    }
   ],
   "source": [
    "#ex 2\n",
    "\n",
    "class Phone:\n",
    "    def __init__(self,price,brand,camera):\n",
    "        print(\"inside phone constructor\")\n",
    "        self.price = price\n",
    "        self.brand = brand\n",
    "        self.camera = camera\n",
    "\n",
    "    def buy(self):\n",
    "        print(\"Buysing a phone\")\n",
    "\n",
    "class SmartPhone(Phone):\n",
    "    def __init__(self,os,ram):\n",
    "        self.os = os\n",
    "        self.ram = ram\n",
    "        print(\"Inside smartphone constructor\")\n",
    "\n",
    "s = SmartPhone('Apple',133)\n",
    "print(s.brand)"
   ]
  },
  {
   "cell_type": "code",
   "execution_count": null,
   "id": "cc8ffb9a",
   "metadata": {},
   "outputs": [
    {
     "name": "stdout",
     "output_type": "stream",
     "text": [
      "inside phone constructor\n",
      "Apple\n"
     ]
    },
    {
     "ename": "AttributeError",
     "evalue": "'SmartPhone' object has no attribute '__show'",
     "output_type": "error",
     "traceback": [
      "\u001b[1;31m---------------------------------------------------------------------------\u001b[0m",
      "\u001b[1;31mAttributeError\u001b[0m                            Traceback (most recent call last)",
      "Cell \u001b[1;32mIn[11], line 17\u001b[0m\n\u001b[0;32m     15\u001b[0m s \u001b[38;5;241m=\u001b[39m SmartPhone(\u001b[38;5;241m20000\u001b[39m,\u001b[38;5;124m'\u001b[39m\u001b[38;5;124mApple\u001b[39m\u001b[38;5;124m'\u001b[39m,\u001b[38;5;241m133\u001b[39m)\n\u001b[0;32m     16\u001b[0m \u001b[38;5;28mprint\u001b[39m(s\u001b[38;5;241m.\u001b[39mbrand)\n\u001b[1;32m---> 17\u001b[0m s\u001b[38;5;241m.\u001b[39m__show()\n",
      "\u001b[1;31mAttributeError\u001b[0m: 'SmartPhone' object has no attribute '__show'"
     ]
    }
   ],
   "source": [
    "#child can't access private members of the class\n",
    "\n",
    "class Phone:\n",
    "    def __init__(self,price,brand,camera):\n",
    "        print(\"inside phone constructor\")\n",
    "        self.__price = price\n",
    "        self.brand = brand\n",
    "        self.camera = camera\n",
    "\n",
    "    def __show(self):\n",
    "        print(self.__price)\n",
    "\n",
    "class SmartPhone(Phone):\n",
    "    def check(self):\n",
    "        print(self.__price)\n",
    "\n",
    "s = SmartPhone(20000,'Apple',133)\n",
    "print(s.brand)\n",
    "s.__show()"
   ]
  },
  {
   "cell_type": "code",
   "execution_count": 12,
   "id": "f6e51901",
   "metadata": {},
   "outputs": [
    {
     "name": "stdout",
     "output_type": "stream",
     "text": [
      "inside phone constructor\n",
      "buying a smartphone\n"
     ]
    }
   ],
   "source": [
    "#Method Overriding\n",
    "\n",
    "class Phone:\n",
    "    def __init__(self,price,brand,camera):\n",
    "        print(\"inside phone constructor\")\n",
    "        self.__price = price\n",
    "        self.brand = brand\n",
    "        self.camera = camera\n",
    "\n",
    "    def buy(self):\n",
    "        print(\"buying a phone\")\n",
    "\n",
    "class SmartPhone(Phone):\n",
    "    def buy(self):\n",
    "        print(\"buying a smartphone\")\n",
    "\n",
    "s = SmartPhone(20000,'Apple',133)\n",
    "s.buy()"
   ]
  },
  {
   "cell_type": "code",
   "execution_count": null,
   "id": "b40fc30a",
   "metadata": {},
   "outputs": [
    {
     "name": "stdout",
     "output_type": "stream",
     "text": [
      "inside phone constructor\n",
      "buying a smartphone\n",
      "buying a phone\n"
     ]
    }
   ],
   "source": [
    "#Super Keyword\n",
    "# super keyword always inside class\n",
    "# using super cannot access attributes\n",
    "#Method Overriding\n",
    "\n",
    "class Phone:\n",
    "    def __init__(self,price,brand,camera):\n",
    "        print(\"inside phone constructor\")\n",
    "        self.__price = price\n",
    "        self.brand = brand\n",
    "        self.camera = camera\n",
    "\n",
    "    def buy(self):\n",
    "        print(\"buying a phone\")\n",
    "\n",
    "class SmartPhone(Phone):\n",
    "    def buy(self):\n",
    "        print(\"buying a smartphone\")\n",
    "        #syntax to call parent ka buy method\n",
    "        super().buy()\n",
    "\n",
    "s = SmartPhone(20000,'Apple',133)\n",
    "s.buy()\n"
   ]
  },
  {
   "cell_type": "code",
   "execution_count": 14,
   "id": "a19cdd46",
   "metadata": {},
   "outputs": [
    {
     "name": "stdout",
     "output_type": "stream",
     "text": [
      "inside phone constructor\n",
      "Inside smartphone constructor\n",
      "Apple\n",
      "android\n"
     ]
    }
   ],
   "source": [
    "#super -> constructor\n",
    "\n",
    "class Phone:\n",
    "    def __init__(self,price,brand,camera):\n",
    "        print(\"inside phone constructor\")\n",
    "        self.price = price\n",
    "        self.brand = brand\n",
    "        self.camera = camera\n",
    "\n",
    "    def buy(self):\n",
    "        print(\"Buysing a phone\")\n",
    "\n",
    "class SmartPhone(Phone):\n",
    "    def __init__(self,price,brand,camera,os,ram):\n",
    "        super().__init__(price,brand,camera)\n",
    "        self.os = os\n",
    "        self.ram = ram\n",
    "        print(\"Inside smartphone constructor\")\n",
    "\n",
    "s = SmartPhone(20000,'Apple',12,\"android\",133)\n",
    "print(s.brand)\n",
    "print(s.os)"
   ]
  },
  {
   "cell_type": "markdown",
   "id": "a38764c4",
   "metadata": {},
   "source": [
    "Type of Inheritance\n",
    "\n",
    "- Single Inheritance\n",
    "- Multilevel \n",
    "- Hierarchial \n",
    "- Multiple Inheritance\n",
    "- Hybrid"
   ]
  }
 ],
 "metadata": {
  "kernelspec": {
   "display_name": "base",
   "language": "python",
   "name": "python3"
  },
  "language_info": {
   "codemirror_mode": {
    "name": "ipython",
    "version": 3
   },
   "file_extension": ".py",
   "mimetype": "text/x-python",
   "name": "python",
   "nbconvert_exporter": "python",
   "pygments_lexer": "ipython3",
   "version": "3.13.5"
  }
 },
 "nbformat": 4,
 "nbformat_minor": 5
}
