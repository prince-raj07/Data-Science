{
 "cells": [
  {
   "cell_type": "markdown",
   "id": "a0cf748e",
   "metadata": {},
   "source": [
    "There are 2 stages where error may happen in a program\n",
    "\n",
    "- During compilation -> Syntax Error\n",
    "- During execution -> Exceptions"
   ]
  },
  {
   "cell_type": "markdown",
   "id": "33ff36a3",
   "metadata": {},
   "source": [
    "### Syntax Error\n",
    "\n",
    "- Something in the program is not written according to the program grammar.\n",
    "- Error is raised by the interpreter/compiler\n",
    "- You can solve it by rectifying the program\n"
   ]
  },
  {
   "cell_type": "code",
   "execution_count": 1,
   "id": "30c644ff",
   "metadata": {},
   "outputs": [
    {
     "ename": "SyntaxError",
     "evalue": "Missing parentheses in call to 'print'. Did you mean print(...)? (533074811.py, line 2)",
     "output_type": "error",
     "traceback": [
      "\u001b[1;36m  Cell \u001b[1;32mIn[1], line 2\u001b[1;36m\u001b[0m\n\u001b[1;33m    print 'hello world'\u001b[0m\n\u001b[1;37m    ^\u001b[0m\n\u001b[1;31mSyntaxError\u001b[0m\u001b[1;31m:\u001b[0m Missing parentheses in call to 'print'. Did you mean print(...)?\n"
     ]
    }
   ],
   "source": [
    "#Examples of syntax error\n",
    "print 'hello world'"
   ]
  },
  {
   "cell_type": "code",
   "execution_count": 2,
   "id": "325c99eb",
   "metadata": {},
   "outputs": [
    {
     "ename": "IndexError",
     "evalue": "list index out of range",
     "output_type": "error",
     "traceback": [
      "\u001b[1;31m---------------------------------------------------------------------------\u001b[0m",
      "\u001b[1;31mIndexError\u001b[0m                                Traceback (most recent call last)",
      "Cell \u001b[1;32mIn[2], line 4\u001b[0m\n\u001b[0;32m      1\u001b[0m \u001b[38;5;66;03m# IndexError\u001b[39;00m\n\u001b[0;32m      2\u001b[0m \u001b[38;5;66;03m# The IndexError is thrown when trying to access an item at an invalid index.\u001b[39;00m\n\u001b[0;32m      3\u001b[0m L \u001b[38;5;241m=\u001b[39m [\u001b[38;5;241m1\u001b[39m,\u001b[38;5;241m2\u001b[39m,\u001b[38;5;241m3\u001b[39m]\n\u001b[1;32m----> 4\u001b[0m L[\u001b[38;5;241m100\u001b[39m]\n",
      "\u001b[1;31mIndexError\u001b[0m: list index out of range"
     ]
    }
   ],
   "source": [
    "# IndexError\n",
    "# The IndexError is thrown when trying to access an item at an invalid index.\n",
    "L = [1,2,3]\n",
    "L[100]"
   ]
  },
  {
   "cell_type": "code",
   "execution_count": null,
   "id": "7bb210b6",
   "metadata": {},
   "outputs": [],
   "source": [
    "# ModuleNotFoundError\n",
    "# The ModuleNotFoundError is thrown when a module could not be found.\n",
    "import mathi\n",
    "math.floor(5.3)"
   ]
  },
  {
   "cell_type": "code",
   "execution_count": null,
   "id": "b6e16f5e",
   "metadata": {},
   "outputs": [],
   "source": [
    "# KeyError\n",
    "# The KeyError is thrown when a key is not found\n",
    "\n",
    "d = {'name':'nitish'}\n",
    "d['age']"
   ]
  },
  {
   "cell_type": "code",
   "execution_count": null,
   "id": "a3854163",
   "metadata": {},
   "outputs": [],
   "source": [
    "# TypeError\n",
    "# The TypeError is thrown when an operation or function is applied to an object of an inappropriate type.\n",
    "1 + 'a'"
   ]
  },
  {
   "cell_type": "code",
   "execution_count": 3,
   "id": "7265bf33",
   "metadata": {},
   "outputs": [
    {
     "ename": "ValueError",
     "evalue": "invalid literal for int() with base 10: 'a'",
     "output_type": "error",
     "traceback": [
      "\u001b[1;31m---------------------------------------------------------------------------\u001b[0m",
      "\u001b[1;31mValueError\u001b[0m                                Traceback (most recent call last)",
      "Cell \u001b[1;32mIn[3], line 3\u001b[0m\n\u001b[0;32m      1\u001b[0m \u001b[38;5;66;03m# ValueError\u001b[39;00m\n\u001b[0;32m      2\u001b[0m \u001b[38;5;66;03m# The ValueError is thrown when a function's argument is of an inappropriate type.\u001b[39;00m\n\u001b[1;32m----> 3\u001b[0m \u001b[38;5;28mint\u001b[39m(\u001b[38;5;124m'\u001b[39m\u001b[38;5;124ma\u001b[39m\u001b[38;5;124m'\u001b[39m)\n",
      "\u001b[1;31mValueError\u001b[0m: invalid literal for int() with base 10: 'a'"
     ]
    }
   ],
   "source": [
    "# ValueError\n",
    "# The ValueError is thrown when a function's argument is of an inappropriate type.\n",
    "int('a')"
   ]
  },
  {
   "cell_type": "code",
   "execution_count": null,
   "id": "04c67c52",
   "metadata": {},
   "outputs": [],
   "source": [
    "# NameError\n",
    "# The NameError is thrown when an object could not be found.\n",
    "print(k)"
   ]
  },
  {
   "cell_type": "code",
   "execution_count": null,
   "id": "e2f9363f",
   "metadata": {},
   "outputs": [],
   "source": [
    "# AttributeError\n",
    "L = [1,2,3]\n",
    "L.upper()"
   ]
  },
  {
   "cell_type": "markdown",
   "id": "d3ae5474",
   "metadata": {},
   "source": [
    "### Exceptions\n",
    "\n",
    "If things go wrong during the execution of the program(runtime). It generally happens when something unforeseen has happened.\n",
    "\n",
    "- Exceptions are raised by python runtime\n",
    "- You have to takle is on the fly\n",
    "\n",
    "#### **Examples**\n",
    "\n",
    "- Memory overflow\n",
    "- Divide by 0 -> logical error\n",
    "- Database error"
   ]
  },
  {
   "cell_type": "code",
   "execution_count": null,
   "id": "30792e97",
   "metadata": {},
   "outputs": [],
   "source": [
    "# Why is it important to handle exceptions\n",
    "# how to handle exceptions\n",
    "# -> Try except block"
   ]
  },
  {
   "cell_type": "code",
   "execution_count": 4,
   "id": "420065ea",
   "metadata": {},
   "outputs": [
    {
     "name": "stdout",
     "output_type": "stream",
     "text": [
      "sorry file not found\n"
     ]
    }
   ],
   "source": [
    "# try catch demo\n",
    "try:\n",
    "  with open('sample1.txt','r') as f:\n",
    "    print(f.read())\n",
    "except:\n",
    "  print('sorry file not found')"
   ]
  },
  {
   "cell_type": "code",
   "execution_count": 6,
   "id": "1107f564",
   "metadata": {},
   "outputs": [
    {
     "name": "stdout",
     "output_type": "stream",
     "text": [
      "<built-in method with_traceback of ZeroDivisionError object at 0x000002C801047D00>\n"
     ]
    }
   ],
   "source": [
    "#catching specific exception\n",
    "try:\n",
    "    print(5/0)\n",
    "    f = open(\"sample1.txt\",'r')\n",
    "    print(f.read())\n",
    "    print(m)\n",
    "except FileNotFoundError:\n",
    "    print(\"File not found\")\n",
    "except NameError:\n",
    "    print(\"Varialble not found\")\n",
    "except Exception as e:\n",
    "    print(e.with_traceback)"
   ]
  },
  {
   "cell_type": "code",
   "execution_count": 7,
   "id": "6bda4956",
   "metadata": {},
   "outputs": [
    {
     "name": "stdout",
     "output_type": "stream",
     "text": [
      "hello world\n"
     ]
    }
   ],
   "source": [
    "#else\n",
    "\n",
    "try:\n",
    "    f = open(\"sample.txt\",'r')\n",
    "except FileNotFoundError:\n",
    "    print(\"File ni mili\")\n",
    "except Exception:\n",
    "    print(\"kuch hua\")\n",
    "else :\n",
    "    print(f.read())\n",
    "    f.close()"
   ]
  },
  {
   "cell_type": "code",
   "execution_count": 8,
   "id": "7e1f0369",
   "metadata": {},
   "outputs": [
    {
     "name": "stdout",
     "output_type": "stream",
     "text": [
      "hello world\n",
      "ye final chlga hee\n"
     ]
    }
   ],
   "source": [
    "#finally\n",
    "\n",
    "try:\n",
    "    f = open(\"sample.txt\",'r')\n",
    "except FileNotFoundError:\n",
    "    print(\"File ni mili\")\n",
    "except Exception:\n",
    "    print(\"kuch hua\")\n",
    "else :\n",
    "    print(f.read())\n",
    "finally:\n",
    "    print(\"ye final chlga hee\")"
   ]
  },
  {
   "cell_type": "code",
   "execution_count": null,
   "id": "71af6f99",
   "metadata": {},
   "outputs": [],
   "source": [
    "# raise Exception\n",
    "# In Python programming, exceptions are raised when errors occur at runtime. \n",
    "# We can also manually raise exceptions using the raise keyword.\n",
    "\n",
    "# We can optionally pass values to the exception to clarify why that exception was raised\n"
   ]
  },
  {
   "cell_type": "code",
   "execution_count": 9,
   "id": "c4650d37",
   "metadata": {},
   "outputs": [
    {
     "ename": "ZeroDivisionError",
     "evalue": "aise hi try kar raha hu",
     "output_type": "error",
     "traceback": [
      "\u001b[1;31m---------------------------------------------------------------------------\u001b[0m",
      "\u001b[1;31mZeroDivisionError\u001b[0m                         Traceback (most recent call last)",
      "Cell \u001b[1;32mIn[9], line 1\u001b[0m\n\u001b[1;32m----> 1\u001b[0m \u001b[38;5;28;01mraise\u001b[39;00m \u001b[38;5;167;01mZeroDivisionError\u001b[39;00m(\u001b[38;5;124m'\u001b[39m\u001b[38;5;124maise hi try kar raha hu\u001b[39m\u001b[38;5;124m'\u001b[39m)\n",
      "\u001b[1;31mZeroDivisionError\u001b[0m: aise hi try kar raha hu"
     ]
    }
   ],
   "source": [
    "raise ZeroDivisionError('aise hi try kar raha hu')\n",
    "# Java\n",
    "# try -> try\n",
    "# except -> catch\n",
    "# raise -> throw"
   ]
  },
  {
   "cell_type": "code",
   "execution_count": 21,
   "id": "38ae32d5",
   "metadata": {},
   "outputs": [
    {
     "name": "stdout",
     "output_type": "stream",
     "text": [
      "<built-in method with_traceback of FileNotFoundError object at 0x000002C80122BEB0>\n"
     ]
    }
   ],
   "source": [
    "class Bank:\n",
    "\n",
    "    def __init__(self,balance):\n",
    "        self.balance = balance\n",
    "\n",
    "    def withdraw(self,amount):\n",
    "        if amount<0:\n",
    "            raise Exception(\"Requested amount negative\")\n",
    "        if amount>self.balance:\n",
    "            raise FileNotFoundError\n",
    "        self.balance = self.balance - amount\n",
    "\n",
    "obj = Bank(10000)\n",
    "try:\n",
    "    obj.withdraw(50000)\n",
    "except Exception as e :\n",
    "    print(e.with_traceback)\n",
    "else:\n",
    "    print(obj.balance)"
   ]
  },
  {
   "cell_type": "code",
   "execution_count": 14,
   "id": "3b8fba00",
   "metadata": {},
   "outputs": [
    {
     "name": "stdout",
     "output_type": "stream",
     "text": [
      "paise nai hai tere paas\n"
     ]
    }
   ],
   "source": [
    "class MyException(Exception):\n",
    "  def __init__(self,message):\n",
    "    print(message)\n",
    "\n",
    "class Bank:\n",
    "\n",
    "  def __init__(self,balance):\n",
    "    self.balance = balance\n",
    "\n",
    "  def withdraw(self,amount):\n",
    "    if amount < 0:\n",
    "      raise MyException('amount cannot be -ve')\n",
    "    if self.balance < amount:\n",
    "      raise MyException('paise nai hai tere paas')\n",
    "    self.balance = self.balance - amount\n",
    "\n",
    "obj = Bank(10000)\n",
    "try:\n",
    "  obj.withdraw(50000)\n",
    "except MyException as e:\n",
    "  pass\n",
    "else:\n",
    "  print(obj.balance)"
   ]
  },
  {
   "cell_type": "code",
   "execution_count": 17,
   "id": "f7587fc8",
   "metadata": {},
   "outputs": [
    {
     "name": "stdout",
     "output_type": "stream",
     "text": [
      "Tere toh lag gye\n",
      "logut done\n"
     ]
    }
   ],
   "source": [
    "class SecurityError(Exception):\n",
    "    def __init__(self,message):\n",
    "        print(message)\n",
    "\n",
    "    def logout(self):\n",
    "        print(\"logut done\")\n",
    "\n",
    "class Google:\n",
    "\n",
    "    def __init__(self,name,password,email,device):\n",
    "        self.name = name\n",
    "        self.email = email\n",
    "        self.password  = password\n",
    "        self.device = device\n",
    "\n",
    "    def login(self,email,password,device):\n",
    "        if self.device != device :\n",
    "            raise SecurityError(\"Tere toh lag gye\")\n",
    "        if self.email==email and self.password== password:\n",
    "            print(\"login successful\")\n",
    "\n",
    "obj = Google(\"nitish\",\"1234\",\"nitish@gmail.com\",\"android\")\n",
    "try:\n",
    "    obj.login(\"nitish@gmail.com\",\"1234\",\"androida\")\n",
    "except SecurityError as e:\n",
    "    e.logout()\n",
    "else:\n",
    "    print(\"welcome\")\n"
   ]
  },
  {
   "cell_type": "markdown",
   "id": "7a76c0ac",
   "metadata": {},
   "source": [
    "HW\n"
   ]
  },
  {
   "cell_type": "code",
   "execution_count": 20,
   "id": "79042b21",
   "metadata": {},
   "outputs": [
    {
     "name": "stdout",
     "output_type": "stream",
     "text": [
      "{'p': 10}\n",
      "Division by zero\n"
     ]
    }
   ],
   "source": [
    "#1\n",
    "def function(l: list, s, **args):\n",
    "    last_element = l[-1]\n",
    "    print(args)\n",
    "    l[int(s)]=10 #index error value error\n",
    "    any_element = l[int(s)+10]\n",
    "    l[s]=10\n",
    "\n",
    "    res = sum(l) #type error\n",
    "    \n",
    "    p = args['p'] #key error\n",
    "    # print(p)\n",
    "    return res/last_element * p + any_element #type error zero division error\n",
    "\n",
    "try:\n",
    "    #function([1,2,1], 12)\n",
    "    #function([1,2,1]*9, '1-2')\n",
    "    #function([1,'2',1]*9, 12)\n",
    "    #function([1,'2',1]*9, 12)\n",
    "    #function([1,2,0]*9, 12  )\n",
    "    #function([1,2,1]*9, 12, p=None)\n",
    "    function([1,2,0]*9, 12, p=10)\n",
    "except IndexError:\n",
    "    print(\"Out if index\")\n",
    "except ValueError:\n",
    "    print(\"Gives value error\")\n",
    "except TypeError as e:\n",
    "    print(\"Gives type error\")\n",
    "except KeyError:\n",
    "    print(\"Giving key error\")\n",
    "except ZeroDivisionError:\n",
    "    print(\"Division by zero\")\n"
   ]
  },
  {
   "cell_type": "code",
   "execution_count": 21,
   "id": "d220323b",
   "metadata": {},
   "outputs": [
    {
     "name": "stdout",
     "output_type": "stream",
     "text": [
      "26\n"
     ]
    }
   ],
   "source": [
    "l = [{0:2},2,3,4,'5', {5:10}]\n",
    "# For calculating sum of above list\n",
    "s=0\n",
    "for i in range(len(l)):\n",
    "    #You can Edit code from here\n",
    "    try:\n",
    "        s += l[i].get(i)\n",
    "    except Exception:\n",
    "        try:\n",
    "            s += l[i]\n",
    "        except Exception:    \n",
    "            s += int(l[i])\n",
    "\n",
    "\n",
    "print(s)"
   ]
  },
  {
   "cell_type": "code",
   "execution_count": 23,
   "id": "70781aa9",
   "metadata": {},
   "outputs": [
    {
     "name": "stdout",
     "output_type": "stream",
     "text": [
      "<built-in method with_traceback of UnsupportedOperation object at 0x000001D0F8285B30>\n"
     ]
    }
   ],
   "source": [
    "#3\n",
    "\n",
    "try:\n",
    "    with open(\"sample.txt\",'r') as f:\n",
    "        f.write(\"Hello,good Morning\")\n",
    "except Exception as e:\n",
    "    print(e.with_traceback)\n",
    "else:\n",
    "    print(\"mission successful\")"
   ]
  },
  {
   "cell_type": "code",
   "execution_count": null,
   "id": "993f451c",
   "metadata": {},
   "outputs": [
    {
     "name": "stdout",
     "output_type": "stream",
     "text": [
      "num2 is smaller\n",
      "num2 is greater\n",
      "num2 is smaller\n",
      "num2 is greater\n",
      "User guessed correctly\n"
     ]
    }
   ],
   "source": [
    "#4\n",
    "\n",
    "class ValueTooSmall(Exception):\n",
    "\n",
    "    def __init__(self,message):\n",
    "        print(message)\n",
    "\n",
    "class ValueTooLarge(Exception):\n",
    "\n",
    "    def __init__(self,message):\n",
    "        print(message)\n",
    "\n",
    "class GuessError(Exception):\n",
    "\n",
    "    def __init__(self,message):\n",
    "        print(message)\n",
    "\n",
    "\n",
    "def guess(num1,num2):\n",
    "    if num2 < 1:\n",
    "        raise GuessError(\"num2 is less than 1\")\n",
    "    if num1 < num2:\n",
    "        raise ValueTooLarge(\"num2 is greater\")\n",
    "    if num1 > num2:\n",
    "        raise ValueTooSmall(\"num2 is smaller\")\n",
    "\n",
    "    return \"User guessed correctly\"\n",
    "\n",
    "num1 = int(input(\"Enter number\"))\n",
    "\n",
    "while True:\n",
    "    num2 = float(input(\"Enter number\"))\n",
    "    try:\n",
    "       print(guess(num1,num2))\n",
    "    except Exception :\n",
    "        pass\n",
    "    else:\n",
    "        break"
   ]
  },
  {
   "cell_type": "code",
   "execution_count": null,
   "id": "2faaa3d1",
   "metadata": {},
   "outputs": [],
   "source": []
  }
 ],
 "metadata": {
  "kernelspec": {
   "display_name": "base",
   "language": "python",
   "name": "python3"
  },
  "language_info": {
   "codemirror_mode": {
    "name": "ipython",
    "version": 3
   },
   "file_extension": ".py",
   "mimetype": "text/x-python",
   "name": "python",
   "nbconvert_exporter": "python",
   "pygments_lexer": "ipython3",
   "version": "3.13.5"
  }
 },
 "nbformat": 4,
 "nbformat_minor": 5
}
