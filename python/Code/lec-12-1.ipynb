{
 "cells": [
  {
   "cell_type": "markdown",
   "id": "dd35fbd5",
   "metadata": {},
   "source": [
    "\n",
    "What is an Iteration\n",
    "- Iteration is a general term for taking each item of something, one after another. Any time you use a loop, explicit or implicit, to go over a group of items, that is iteration"
   ]
  },
  {
   "cell_type": "code",
   "execution_count": 1,
   "id": "f2c1cbc7",
   "metadata": {},
   "outputs": [
    {
     "name": "stdout",
     "output_type": "stream",
     "text": [
      "1\n",
      "2\n",
      "3\n"
     ]
    }
   ],
   "source": [
    "#Example\n",
    "\n",
    "num = [1,2,3]\n",
    "for i in num:\n",
    "    print(i)"
   ]
  },
  {
   "cell_type": "markdown",
   "id": "5ad74b81",
   "metadata": {},
   "source": [
    "What is Iterator\n",
    "- An Iterator is an object that allows the programmer to traverse through a sequence of data without having to store the entire data in the memory"
   ]
  },
  {
   "cell_type": "code",
   "execution_count": 2,
   "id": "569880a1",
   "metadata": {},
   "outputs": [
    {
     "name": "stdout",
     "output_type": "stream",
     "text": [
      "1330.875\n",
      "0.75\n"
     ]
    }
   ],
   "source": [
    "# Example\n",
    "L = [x for x in range(1,10000)]\n",
    "\n",
    "#for i in L:\n",
    "    #print(i*2)\n",
    "    \n",
    "import sys\n",
    "\n",
    "print(sys.getsizeof(L)/64)\n",
    "\n",
    "x = range(1,10000000000)\n",
    "\n",
    "#for i in x:\n",
    "    #print(i*2)\n",
    "    \n",
    "print(sys.getsizeof(x)/64)"
   ]
  },
  {
   "cell_type": "markdown",
   "id": "283e647b",
   "metadata": {},
   "source": [
    "What is Iterable\n",
    "- Iterable is an object, which one can iterate over\n",
    "\n",
    "It generates an Iterator when passed to iter() method."
   ]
  },
  {
   "cell_type": "code",
   "execution_count": null,
   "id": "1c3fef07",
   "metadata": {},
   "outputs": [
    {
     "data": {
      "text/plain": [
       "list_iterator"
      ]
     },
     "execution_count": 2,
     "metadata": {},
     "output_type": "execute_result"
    }
   ],
   "source": [
    "#example\n",
    "L = [1,2,3]\n",
    "type(L)\n",
    "\n",
    "# L is an iterable\n",
    "type(iter(L))"
   ]
  },
  {
   "cell_type": "markdown",
   "id": "815207d9",
   "metadata": {},
   "source": [
    "\n",
    "Point to remember\n",
    "\n",
    "- Every Iterator is also and Iterable\n",
    "- Not all Iterables are Iterators"
   ]
  },
  {
   "cell_type": "markdown",
   "id": "7d706e11",
   "metadata": {},
   "source": [
    "- Every Iterable has an iter function\n",
    "- Every Iterator has both iter function as well as a next function"
   ]
  },
  {
   "cell_type": "code",
   "execution_count": 3,
   "id": "5c704c57",
   "metadata": {},
   "outputs": [
    {
     "data": {
      "text/plain": [
       "['__abs__',\n",
       " '__add__',\n",
       " '__and__',\n",
       " '__bool__',\n",
       " '__ceil__',\n",
       " '__class__',\n",
       " '__delattr__',\n",
       " '__dir__',\n",
       " '__divmod__',\n",
       " '__doc__',\n",
       " '__eq__',\n",
       " '__float__',\n",
       " '__floor__',\n",
       " '__floordiv__',\n",
       " '__format__',\n",
       " '__ge__',\n",
       " '__getattribute__',\n",
       " '__getnewargs__',\n",
       " '__getstate__',\n",
       " '__gt__',\n",
       " '__hash__',\n",
       " '__index__',\n",
       " '__init__',\n",
       " '__init_subclass__',\n",
       " '__int__',\n",
       " '__invert__',\n",
       " '__le__',\n",
       " '__lshift__',\n",
       " '__lt__',\n",
       " '__mod__',\n",
       " '__mul__',\n",
       " '__ne__',\n",
       " '__neg__',\n",
       " '__new__',\n",
       " '__or__',\n",
       " '__pos__',\n",
       " '__pow__',\n",
       " '__radd__',\n",
       " '__rand__',\n",
       " '__rdivmod__',\n",
       " '__reduce__',\n",
       " '__reduce_ex__',\n",
       " '__repr__',\n",
       " '__rfloordiv__',\n",
       " '__rlshift__',\n",
       " '__rmod__',\n",
       " '__rmul__',\n",
       " '__ror__',\n",
       " '__round__',\n",
       " '__rpow__',\n",
       " '__rrshift__',\n",
       " '__rshift__',\n",
       " '__rsub__',\n",
       " '__rtruediv__',\n",
       " '__rxor__',\n",
       " '__setattr__',\n",
       " '__sizeof__',\n",
       " '__str__',\n",
       " '__sub__',\n",
       " '__subclasshook__',\n",
       " '__truediv__',\n",
       " '__trunc__',\n",
       " '__xor__',\n",
       " 'as_integer_ratio',\n",
       " 'bit_count',\n",
       " 'bit_length',\n",
       " 'conjugate',\n",
       " 'denominator',\n",
       " 'from_bytes',\n",
       " 'imag',\n",
       " 'is_integer',\n",
       " 'numerator',\n",
       " 'real',\n",
       " 'to_bytes']"
      ]
     },
     "execution_count": 3,
     "metadata": {},
     "output_type": "execute_result"
    }
   ],
   "source": [
    "a = 5\n",
    "dir(a)"
   ]
  },
  {
   "cell_type": "code",
   "execution_count": 7,
   "id": "c79645bb",
   "metadata": {},
   "outputs": [
    {
     "name": "stdout",
     "output_type": "stream",
     "text": [
      "1\n",
      "2\n",
      "3\n"
     ]
    },
    {
     "ename": "StopIteration",
     "evalue": "",
     "output_type": "error",
     "traceback": [
      "\u001b[1;31m---------------------------------------------------------------------------\u001b[0m",
      "\u001b[1;31mStopIteration\u001b[0m                             Traceback (most recent call last)",
      "Cell \u001b[1;32mIn[7], line 10\u001b[0m\n\u001b[0;32m      8\u001b[0m \u001b[38;5;28mprint\u001b[39m(\u001b[38;5;28mnext\u001b[39m(iter_num))\n\u001b[0;32m      9\u001b[0m \u001b[38;5;28mprint\u001b[39m(\u001b[38;5;28mnext\u001b[39m(iter_num))\n\u001b[1;32m---> 10\u001b[0m \u001b[38;5;28mnext\u001b[39m(iter_num)\n",
      "\u001b[1;31mStopIteration\u001b[0m: "
     ]
    }
   ],
   "source": [
    "num = [1,2,3]\n",
    "\n",
    "# fetch the iterator\n",
    "iter_num = iter(num)\n",
    "\n",
    "# step2 --> next\n",
    "print(next(iter_num))\n",
    "print(next(iter_num))\n",
    "print(next(iter_num))\n",
    "next(iter_num)"
   ]
  },
  {
   "cell_type": "code",
   "execution_count": 12,
   "id": "e97c1449",
   "metadata": {},
   "outputs": [
    {
     "name": "stdout",
     "output_type": "stream",
     "text": [
      "1\n",
      "2\n",
      "3\n",
      "4\n"
     ]
    }
   ],
   "source": [
    "def khud_ka_loop(obj):\n",
    "    c = iter(obj)\n",
    "\n",
    "    while True:\n",
    "        try:\n",
    "            print(next(c))\n",
    "        except StopIteration:\n",
    "            break\n",
    "\n",
    "\n",
    "\n",
    "a = [1,2,3,4]\n",
    "\n",
    "khud_ka_loop(a)"
   ]
  },
  {
   "cell_type": "code",
   "execution_count": 13,
   "id": "bbfac155",
   "metadata": {},
   "outputs": [
    {
     "data": {
      "text/plain": [
       "['__bool__',\n",
       " '__class__',\n",
       " '__contains__',\n",
       " '__delattr__',\n",
       " '__dir__',\n",
       " '__doc__',\n",
       " '__eq__',\n",
       " '__format__',\n",
       " '__ge__',\n",
       " '__getattribute__',\n",
       " '__getitem__',\n",
       " '__getstate__',\n",
       " '__gt__',\n",
       " '__hash__',\n",
       " '__init__',\n",
       " '__init_subclass__',\n",
       " '__iter__',\n",
       " '__le__',\n",
       " '__len__',\n",
       " '__lt__',\n",
       " '__ne__',\n",
       " '__new__',\n",
       " '__reduce__',\n",
       " '__reduce_ex__',\n",
       " '__repr__',\n",
       " '__reversed__',\n",
       " '__setattr__',\n",
       " '__sizeof__',\n",
       " '__str__',\n",
       " '__subclasshook__',\n",
       " 'count',\n",
       " 'index',\n",
       " 'start',\n",
       " 'step',\n",
       " 'stop']"
      ]
     },
     "execution_count": 13,
     "metadata": {},
     "output_type": "execute_result"
    }
   ],
   "source": [
    "dir(range)"
   ]
  },
  {
   "cell_type": "code",
   "execution_count": 26,
   "id": "26ebd7ca",
   "metadata": {},
   "outputs": [
    {
     "name": "stdout",
     "output_type": "stream",
     "text": [
      "1\n",
      "2\n",
      "3\n"
     ]
    }
   ],
   "source": [
    "class mera_range:\n",
    "    def __init__(self,a,b):\n",
    "        self.start = a\n",
    "        self.end = b\n",
    "        \n",
    "\n",
    "    def _iter(self):\n",
    "        return mera_range_iterator(self)\n",
    "    \n",
    "\n",
    "class mera_range_iterator:\n",
    "\n",
    "    def __init__(self,iterable_object):\n",
    "        self.iterator_obj = iterable_object\n",
    "\n",
    "    def _iter(self):\n",
    "        return self \n",
    "    \n",
    "    def _next(self):\n",
    "\n",
    "        if self.iterator_obj.start >= self.iterator_obj.end:\n",
    "            raise StopIteration\n",
    "        \n",
    "        current = self.iterator_obj.start\n",
    "        self.iterator_obj.start +=1\n",
    "        return current\n",
    "\n",
    "x = mera_range(1,11)\n",
    "X = x._iter()\n",
    "print(X._next())\n",
    "print(X._next())\n",
    "print(X._next())"
   ]
  },
  {
   "cell_type": "markdown",
   "id": "ddfa6caf",
   "metadata": {},
   "source": [
    "Generators\n"
   ]
  },
  {
   "cell_type": "code",
   "execution_count": 2,
   "id": "c27790ad",
   "metadata": {},
   "outputs": [
    {
     "name": "stdout",
     "output_type": "stream",
     "text": [
      "<class 'generator'>\n",
      "hello1\n",
      "hello2\n"
     ]
    },
    {
     "data": {
      "text/plain": [
       "'hello3'"
      ]
     },
     "execution_count": 2,
     "metadata": {},
     "output_type": "execute_result"
    }
   ],
   "source": [
    "def gen_rator():\n",
    "    yield \"hello1\"\n",
    "    yield \"hello2\"\n",
    "    yield \"hello3\"\n",
    "\n",
    "gen = gen_rator() # it returns an iterator object\n",
    "\n",
    "print(type(gen))\n",
    "print(next(gen))\n",
    "print(next(gen))\n",
    "gen.__next__()\n"
   ]
  },
  {
   "cell_type": "code",
   "execution_count": 29,
   "id": "dd670dc8",
   "metadata": {},
   "outputs": [
    {
     "name": "stdout",
     "output_type": "stream",
     "text": [
      "<class 'generator'>\n",
      "hello1\n",
      "hello2\n",
      "hello3\n"
     ]
    }
   ],
   "source": [
    "def gen_rator():\n",
    "    yield \"hello1\"\n",
    "    yield \"hello2\"\n",
    "    yield \"hello3\"\n",
    "\n",
    "gen = gen_rator() # it returns an iterator object\n",
    "\n",
    "print(type(gen))\n",
    "\n",
    "for i in gen:\n",
    "    print(i)"
   ]
  },
  {
   "cell_type": "code",
   "execution_count": 32,
   "id": "6d38807e",
   "metadata": {},
   "outputs": [
    {
     "name": "stdout",
     "output_type": "stream",
     "text": [
      "1\n",
      "4\n",
      "9\n",
      "1\n",
      "4\n",
      "9\n",
      "16\n",
      "25\n",
      "36\n",
      "16\n",
      "25\n",
      "36\n"
     ]
    }
   ],
   "source": [
    "def square(num):\n",
    "    for i in range(1,num+1):\n",
    "        yield i**2\n",
    "\n",
    "sq = square(6)\n",
    "\n",
    "print(next(sq))\n",
    "print(next(sq))\n",
    "print(next(sq))\n",
    "\n",
    "sq1 = square(6)\n",
    "\n",
    "for i in sq1:\n",
    "    print(i)\n",
    "\n",
    "for i in sq:\n",
    "    print(i)"
   ]
  }
 ],
 "metadata": {
  "kernelspec": {
   "display_name": "base",
   "language": "python",
   "name": "python3"
  },
  "language_info": {
   "codemirror_mode": {
    "name": "ipython",
    "version": 3
   },
   "file_extension": ".py",
   "mimetype": "text/x-python",
   "name": "python",
   "nbconvert_exporter": "python",
   "pygments_lexer": "ipython3",
   "version": "3.13.5"
  }
 },
 "nbformat": 4,
 "nbformat_minor": 5
}
