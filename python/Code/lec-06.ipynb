{
 "cells": [
  {
   "cell_type": "code",
   "execution_count": 11,
   "id": "a393bb48",
   "metadata": {},
   "outputs": [
    {
     "name": "stdout",
     "output_type": "stream",
     "text": [
      "odd\n",
      "even\n",
      "odd\n",
      "even\n",
      "odd\n",
      "even\n",
      "odd\n",
      "even\n",
      "odd\n",
      "even\n",
      "\n",
      "This function returns if a given number is odd or even\n",
      "input - any valid integer\n",
      "output - odd/even\n",
      "\n"
     ]
    }
   ],
   "source": [
    "#function\n",
    "\n",
    "def is_even(num):\n",
    "    \"\"\"\n",
    "    This function returns if a given number is odd or even\n",
    "    input - any valid integer\n",
    "    output - odd/even\n",
    "    \"\"\"\n",
    "    if num%2==0:\n",
    "        return \"even\"\n",
    "    else:\n",
    "        return \"odd\"\n",
    "    \n",
    "for i in range(1,11):\n",
    "        x = is_even(i)\n",
    "        print(x)\n",
    "\n",
    "print(is_even.__doc__)        \n"
   ]
  },
  {
   "cell_type": "code",
   "execution_count": 6,
   "id": "c64a4918",
   "metadata": {},
   "outputs": [
    {
     "data": {
      "text/plain": [
       "2"
      ]
     },
     "execution_count": 6,
     "metadata": {},
     "output_type": "execute_result"
    }
   ],
   "source": [
    "#Types of argument\n",
    "\n",
    "#Default argument\n",
    "\n",
    "def power(a=1,b=1):\n",
    "    return a**b\n",
    "\n",
    "power(2)"
   ]
  },
  {
   "cell_type": "code",
   "execution_count": 7,
   "id": "75155890",
   "metadata": {},
   "outputs": [
    {
     "data": {
      "text/plain": [
       "8"
      ]
     },
     "execution_count": 7,
     "metadata": {},
     "output_type": "execute_result"
    }
   ],
   "source": [
    "# Positional arguments\n",
    "\n",
    "power(2,3)"
   ]
  },
  {
   "cell_type": "code",
   "execution_count": 8,
   "id": "3b2de1f5",
   "metadata": {},
   "outputs": [
    {
     "data": {
      "text/plain": [
       "8"
      ]
     },
     "execution_count": 8,
     "metadata": {},
     "output_type": "execute_result"
    }
   ],
   "source": [
    "# Keyword argument\n",
    "power(b=3,a=2)"
   ]
  },
  {
   "cell_type": "code",
   "execution_count": 10,
   "id": "5c0540bb",
   "metadata": {},
   "outputs": [
    {
     "name": "stdout",
     "output_type": "stream",
     "text": [
      "(1, 2, 3, 4, 5, 6, 7)\n"
     ]
    },
    {
     "data": {
      "text/plain": [
       "5040"
      ]
     },
     "execution_count": 10,
     "metadata": {},
     "output_type": "execute_result"
    }
   ],
   "source": [
    "# *args\n",
    "#allows us to pass a variable number of non-keyword argumnets to a function\n",
    "\n",
    "def multiply(* args):\n",
    "    product = 1\n",
    "\n",
    "    for i in args:\n",
    "        product = product * i\n",
    "\n",
    "    print(args)    \n",
    "    return product\n",
    "\n",
    "multiply(1,2,3,4,5,6,7)"
   ]
  },
  {
   "cell_type": "code",
   "execution_count": 16,
   "id": "6dc89151",
   "metadata": {},
   "outputs": [
    {
     "name": "stdout",
     "output_type": "stream",
     "text": [
      "{'india': 'delhi', 'srilanka': 'colombo', 'usa': 'washington'}\n",
      "india - delhi\n",
      "srilanka - colombo\n",
      "usa - washington\n"
     ]
    }
   ],
   "source": [
    "# **kwargs\n",
    "# **kwargs allows us to pass any number of keyword arguments.\n",
    "# Keyword arguments mean that the contain a key-value pair,like apython dictionary.\n",
    "\n",
    "def display(**kwargs):\n",
    "    print(kwargs)\n",
    "    for(key,value) in kwargs.items():\n",
    "        print(key,'-',value)     \n",
    "\n",
    "display(india=\"delhi\",srilanka='colombo',usa=\"washington\")"
   ]
  },
  {
   "cell_type": "code",
   "execution_count": null,
   "id": "90f550f3",
   "metadata": {},
   "outputs": [],
   "source": [
    "#   ORDER of arguments matter(normal -> *args -> **kwargs)\n",
    "# funtion default return value is none"
   ]
  },
  {
   "cell_type": "code",
   "execution_count": null,
   "id": "447f43df",
   "metadata": {},
   "outputs": [
    {
     "name": "stdout",
     "output_type": "stream",
     "text": [
      "5\n",
      "5\n"
     ]
    }
   ],
   "source": [
    "#variable scope\n",
    "\n",
    "def g(y):\n",
    "    #global x\n",
    "    #x=1\n",
    "    #x +=1\n",
    "    print(x)\n",
    "\n",
    "x = 5\n",
    "g(x)\n",
    "print(x)    "
   ]
  },
  {
   "cell_type": "code",
   "execution_count": 1,
   "id": "5b5282aa",
   "metadata": {},
   "outputs": [
    {
     "name": "stdout",
     "output_type": "stream",
     "text": [
      "in f(x): x = 4\n",
      "in main progress scope z = 4\n",
      "in main program scope: x= 3\n"
     ]
    }
   ],
   "source": [
    "def f(x):\n",
    "    x = x + 1\n",
    "    print('in f(x): x =',x)\n",
    "    return x\n",
    "\n",
    "x = 3\n",
    "z = f(x)\n",
    "print('in main progress scope z =',z)\n",
    "print('in main program scope: x=',x)"
   ]
  },
  {
   "cell_type": "code",
   "execution_count": 23,
   "id": "6a5e03fa",
   "metadata": {},
   "outputs": [
    {
     "name": "stdout",
     "output_type": "stream",
     "text": [
      "inside function g\n",
      "inside function f\n"
     ]
    }
   ],
   "source": [
    "#Nested Functions\n",
    "\n",
    "def f():\n",
    "    def g():\n",
    "        print('inside function g')\n",
    "    g()\n",
    "    print('inside function f')\n",
    "\n",
    "f()\n"
   ]
  },
  {
   "cell_type": "code",
   "execution_count": 24,
   "id": "4fe2c2fd",
   "metadata": {},
   "outputs": [
    {
     "name": "stdout",
     "output_type": "stream",
     "text": [
      "in g(x) : x =  4\n",
      "in h(x): x =  5\n",
      "in main program scope x =  3\n",
      "in main program scope z =  4\n"
     ]
    }
   ],
   "source": [
    "def g(x):\n",
    "    def h(x):\n",
    "        x =x+1\n",
    "        print(\"in h(x): x = \",x)\n",
    "    x = x + 1\n",
    "    print(\"in g(x) : x = \",x)\n",
    "    h(x)\n",
    "    return x \n",
    "\n",
    "x = 3\n",
    "z = g(x)\n",
    "print(\"in main program scope x = \",x)\n",
    "print(\"in main program scope z = \",z)    "
   ]
  },
  {
   "cell_type": "code",
   "execution_count": 25,
   "id": "748f681f",
   "metadata": {},
   "outputs": [
    {
     "name": "stdout",
     "output_type": "stream",
     "text": [
      "<class 'function'>\n",
      "2845759996288\n"
     ]
    }
   ],
   "source": [
    "# functions are 1st class citizen\n",
    "\n",
    "#type and id\n",
    "\n",
    "def square(num):\n",
    "    return num**2\n",
    "\n",
    "print(type(square))\n",
    "print(id(square))"
   ]
  },
  {
   "cell_type": "code",
   "execution_count": 27,
   "id": "0f53dfcf",
   "metadata": {},
   "outputs": [
    {
     "name": "stdout",
     "output_type": "stream",
     "text": [
      "2845759996288\n"
     ]
    },
    {
     "data": {
      "text/plain": [
       "9"
      ]
     },
     "execution_count": 27,
     "metadata": {},
     "output_type": "execute_result"
    }
   ],
   "source": [
    "# reassign\n",
    "\n",
    "x = square\n",
    "print(id(x))\n",
    "x(3)"
   ]
  },
  {
   "cell_type": "code",
   "execution_count": 30,
   "id": "0bb2e1ff",
   "metadata": {},
   "outputs": [],
   "source": [
    "#deleting a function\n",
    "# del square\n",
    "# square(3)"
   ]
  },
  {
   "cell_type": "code",
   "execution_count": null,
   "id": "12880e6b",
   "metadata": {},
   "outputs": [],
   "source": [
    "def square(num):\n",
    "    return num**2"
   ]
  },
  {
   "cell_type": "code",
   "execution_count": 41,
   "id": "92759447",
   "metadata": {},
   "outputs": [
    {
     "data": {
      "text/plain": [
       "9"
      ]
     },
     "execution_count": 41,
     "metadata": {},
     "output_type": "execute_result"
    }
   ],
   "source": [
    "# storing \n",
    "\n",
    "def square(num):\n",
    "    return num**2\n",
    "\n",
    "l = [1,2,3,4,square]\n",
    "l[-1](3)"
   ]
  },
  {
   "cell_type": "code",
   "execution_count": null,
   "id": "1030c38c",
   "metadata": {},
   "outputs": [
    {
     "data": {
      "text/plain": [
       "{<function __main__.square(num)>}"
      ]
     },
     "execution_count": 42,
     "metadata": {},
     "output_type": "execute_result"
    }
   ],
   "source": [
    "s = {square} # function is immutable data type\n",
    "s"
   ]
  },
  {
   "cell_type": "code",
   "execution_count": 46,
   "id": "17bb9aed",
   "metadata": {},
   "outputs": [
    {
     "name": "stdout",
     "output_type": "stream",
     "text": [
      "7\n"
     ]
    }
   ],
   "source": [
    "# returning a function\n",
    "\n",
    "def f():\n",
    "    def x(a,b):\n",
    "        return a+b\n",
    "    return x\n",
    "\n",
    "val = f()(3,4)\n",
    "print(val)"
   ]
  },
  {
   "cell_type": "code",
   "execution_count": 48,
   "id": "65cf653f",
   "metadata": {},
   "outputs": [
    {
     "name": "stdout",
     "output_type": "stream",
     "text": [
      "b\n",
      "a\n",
      "None\n"
     ]
    }
   ],
   "source": [
    "def a():\n",
    "    print(\"a\")\n",
    "\n",
    "def b(z):\n",
    "    print(\"b\")\n",
    "    return z()\n",
    "\n",
    "print(b(a))\n"
   ]
  },
  {
   "cell_type": "code",
   "execution_count": 49,
   "id": "1f687c4a",
   "metadata": {},
   "outputs": [
    {
     "data": {
      "text/plain": [
       "9"
      ]
     },
     "execution_count": 49,
     "metadata": {},
     "output_type": "execute_result"
    }
   ],
   "source": [
    "# lambda function\n",
    "# it can rake any number of arguments,but can only have one expression\n",
    "\n",
    "a = lambda x:x**2\n",
    "a(3)"
   ]
  },
  {
   "cell_type": "code",
   "execution_count": 50,
   "id": "b8c7f943",
   "metadata": {},
   "outputs": [
    {
     "data": {
      "text/plain": [
       "7"
      ]
     },
     "execution_count": 50,
     "metadata": {},
     "output_type": "execute_result"
    }
   ],
   "source": [
    "a = lambda x,y:x+y\n",
    "a(5,2)"
   ]
  },
  {
   "cell_type": "code",
   "execution_count": null,
   "id": "2136e787",
   "metadata": {},
   "outputs": [],
   "source": [
    "#Diff between lambda and normal\n",
    "#no name\n",
    "#lambda has no return value(return a function)\n",
    "#lambda is wriiten in 1 line\n",
    "#not reusable\n",
    "#used with higher oreder function"
   ]
  },
  {
   "cell_type": "code",
   "execution_count": 51,
   "id": "9aa64bee",
   "metadata": {},
   "outputs": [
    {
     "data": {
      "text/plain": [
       "False"
      ]
     },
     "execution_count": 51,
     "metadata": {},
     "output_type": "execute_result"
    }
   ],
   "source": [
    "# check if a string has 'a'\n",
    "a = lambda s:'a' in s\n",
    "a('hello')"
   ]
  },
  {
   "cell_type": "code",
   "execution_count": 53,
   "id": "19c01873",
   "metadata": {},
   "outputs": [
    {
     "data": {
      "text/plain": [
       "'even'"
      ]
     },
     "execution_count": 53,
     "metadata": {},
     "output_type": "execute_result"
    }
   ],
   "source": [
    "#odd or even\n",
    "a =lambda x:'even' if x%2 == 0 else 'odd'\n",
    "a(6)"
   ]
  },
  {
   "cell_type": "code",
   "execution_count": 56,
   "id": "78160f10",
   "metadata": {},
   "outputs": [
    {
     "name": "stdout",
     "output_type": "stream",
     "text": [
      "[1, 4, 9, 16, 25, 36]\n",
      "[1, 4, 9, 16, 25, 36]\n"
     ]
    }
   ],
   "source": [
    "# Higher order functions\n",
    "\n",
    "def square(x):\n",
    "    return x**2\n",
    "\n",
    "\n",
    "#HOF\n",
    "def transform(f,L):\n",
    "    output = []\n",
    "    for i in L:\n",
    "        output.append(f(i))\n",
    "\n",
    "    print(output)  \n",
    "\n",
    "L = [1,2,3,4,5,6]\n",
    "transform(square,L) \n",
    "transform(lambda x:x**2,L) \n"
   ]
  },
  {
   "cell_type": "code",
   "execution_count": 59,
   "id": "52990bef",
   "metadata": {},
   "outputs": [
    {
     "data": {
      "text/plain": [
       "[1, 4, 9, 16, 25]"
      ]
     },
     "execution_count": 59,
     "metadata": {},
     "output_type": "execute_result"
    }
   ],
   "source": [
    "#Map\n",
    "\n",
    "#square the items of a list\n",
    "list(map(lambda x:x**2,[1,2,3,4,5]))"
   ]
  },
  {
   "cell_type": "code",
   "execution_count": 60,
   "id": "6f7cfdd2",
   "metadata": {},
   "outputs": [
    {
     "data": {
      "text/plain": [
       "['odd', 'even', 'odd', 'even', 'odd']"
      ]
     },
     "execution_count": 60,
     "metadata": {},
     "output_type": "execute_result"
    }
   ],
   "source": [
    "#odd even labeliing  of list items\n",
    "\n",
    "l = [1,2,3,4,5]\n",
    "list(map(lambda x:'even' if x%2 == 0 else 'odd',l))\n"
   ]
  },
  {
   "cell_type": "code",
   "execution_count": 61,
   "id": "e75fbf94",
   "metadata": {},
   "outputs": [
    {
     "data": {
      "text/plain": [
       "[6, 7, 8, 9]"
      ]
     },
     "execution_count": 61,
     "metadata": {},
     "output_type": "execute_result"
    }
   ],
   "source": [
    "#filter\n",
    "\n",
    "#numbers greater than 5 \n",
    "\n",
    "l = [1,2,4,6,7,8,9]\n",
    "\n",
    "list(filter(lambda x:x>5,l))"
   ]
  },
  {
   "cell_type": "code",
   "execution_count": 62,
   "id": "9e531175",
   "metadata": {},
   "outputs": [
    {
     "data": {
      "text/plain": [
       "15"
      ]
     },
     "execution_count": 62,
     "metadata": {},
     "output_type": "execute_result"
    }
   ],
   "source": [
    "# reduce\n",
    "\n",
    "#sum of all items\n",
    "\n",
    "import functools\n",
    "\n",
    "functools.reduce(lambda x,y:x+y,[1,2,3,4,5])"
   ]
  },
  {
   "cell_type": "code",
   "execution_count": 63,
   "id": "53276e56",
   "metadata": {},
   "outputs": [
    {
     "data": {
      "text/plain": [
       "1"
      ]
     },
     "execution_count": 63,
     "metadata": {},
     "output_type": "execute_result"
    }
   ],
   "source": [
    "#find min\n",
    "\n",
    "functools.reduce(lambda x,y:x if x<y else y,[23,11,45,10,1])"
   ]
  }
 ],
 "metadata": {
  "kernelspec": {
   "display_name": "base",
   "language": "python",
   "name": "python3"
  },
  "language_info": {
   "codemirror_mode": {
    "name": "ipython",
    "version": 3
   },
   "file_extension": ".py",
   "mimetype": "text/x-python",
   "name": "python",
   "nbconvert_exporter": "python",
   "pygments_lexer": "ipython3",
   "version": "3.13.5"
  }
 },
 "nbformat": 4,
 "nbformat_minor": 5
}
