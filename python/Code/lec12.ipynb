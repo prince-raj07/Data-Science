{
 "cells": [
  {
   "cell_type": "markdown",
   "id": "a0c0d247",
   "metadata": {},
   "source": [
    "### Namespaces\n",
    "\n",
    "A namespace is a space that holds names(identifiers).Programmatically speaking, namespaces are dictionary of identifiers(keys) and their objects(values)\n",
    "\n",
    "There are 4 types of namespaces:\n",
    "- Builtin Namespace\n",
    "- Global Namespace\n",
    "- Enclosing Namespace\n",
    "- Local Namespace"
   ]
  },
  {
   "cell_type": "markdown",
   "id": "f5e84e6d",
   "metadata": {},
   "source": [
    "### Scope and LEGB Rule\n",
    "\n",
    "A scope is a textual region of a Python program where a namespace is directly accessible.\n",
    "\n",
    "The interpreter searches for a name from the inside out, looking in the local, enclosing, global, and finally the built-in scope. If the interpreter doesn’t find the name in any of these locations, then Python raises a NameError exception."
   ]
  },
  {
   "cell_type": "code",
   "execution_count": 3,
   "id": "b89bbf05",
   "metadata": {},
   "outputs": [
    {
     "name": "stdout",
     "output_type": "stream",
     "text": [
      "3\n",
      "2\n"
     ]
    }
   ],
   "source": [
    "#local and global\n",
    "#global var\n",
    "a = 2 \n",
    "\n",
    "def temp():\n",
    "    #localvar\n",
    "    b = 3\n",
    "    print(b)\n",
    "\n",
    "temp()\n",
    "print(a)"
   ]
  },
  {
   "cell_type": "code",
   "execution_count": 2,
   "id": "3479e6ae",
   "metadata": {},
   "outputs": [
    {
     "name": "stdout",
     "output_type": "stream",
     "text": [
      "3\n",
      "2\n"
     ]
    }
   ],
   "source": [
    "#local and global ->same name\n",
    "#global var\n",
    "a = 2 \n",
    "\n",
    "def temp():\n",
    "    #localvar\n",
    "    a = 3\n",
    "    print(a)\n",
    "\n",
    "temp()\n",
    "print(a)"
   ]
  },
  {
   "cell_type": "code",
   "execution_count": 1,
   "id": "7fd88a13",
   "metadata": {},
   "outputs": [
    {
     "name": "stdout",
     "output_type": "stream",
     "text": [
      "2\n",
      "2\n"
     ]
    }
   ],
   "source": [
    "#local and global -> local does not have but global has\n",
    "\n",
    "a = 2\n",
    "\n",
    "def temp():\n",
    "    print(a)\n",
    "\n",
    "temp()\n",
    "print(a)"
   ]
  },
  {
   "cell_type": "code",
   "execution_count": null,
   "id": "936c08a8",
   "metadata": {},
   "outputs": [
    {
     "ename": "UnboundLocalError",
     "evalue": "cannot access local variable 'a' where it is not associated with a value",
     "output_type": "error",
     "traceback": [
      "\u001b[1;31m---------------------------------------------------------------------------\u001b[0m",
      "\u001b[1;31mUnboundLocalError\u001b[0m                         Traceback (most recent call last)",
      "Cell \u001b[1;32mIn[4], line 9\u001b[0m\n\u001b[0;32m      6\u001b[0m     a \u001b[38;5;241m+\u001b[39m\u001b[38;5;241m=\u001b[39m\u001b[38;5;241m1\u001b[39m\n\u001b[0;32m      7\u001b[0m     \u001b[38;5;28mprint\u001b[39m(a) \n\u001b[1;32m----> 9\u001b[0m temp()\n\u001b[0;32m     10\u001b[0m \u001b[38;5;28mprint\u001b[39m(a)\n",
      "Cell \u001b[1;32mIn[4], line 6\u001b[0m, in \u001b[0;36mtemp\u001b[1;34m()\u001b[0m\n\u001b[0;32m      5\u001b[0m \u001b[38;5;28;01mdef\u001b[39;00m\u001b[38;5;250m \u001b[39m\u001b[38;5;21mtemp\u001b[39m():\n\u001b[1;32m----> 6\u001b[0m     a \u001b[38;5;241m+\u001b[39m\u001b[38;5;241m=\u001b[39m\u001b[38;5;241m1\u001b[39m\n\u001b[0;32m      7\u001b[0m     \u001b[38;5;28mprint\u001b[39m(a)\n",
      "\u001b[1;31mUnboundLocalError\u001b[0m: cannot access local variable 'a' where it is not associated with a value"
     ]
    }
   ],
   "source": [
    "# local and global -> editing global\n",
    "\n",
    "a = 2\n",
    "\n",
    "def temp():\n",
    "    a +=1\n",
    "    print(a) \n",
    "\n",
    "temp()\n",
    "print(a)"
   ]
  },
  {
   "cell_type": "code",
   "execution_count": 5,
   "id": "eac29afb",
   "metadata": {},
   "outputs": [
    {
     "name": "stdout",
     "output_type": "stream",
     "text": [
      "3\n",
      "3\n"
     ]
    }
   ],
   "source": [
    "# local and global -> editing global\n",
    "\n",
    "a = 2\n",
    "\n",
    "def temp():\n",
    "    global a\n",
    "    a +=1\n",
    "    print(a) \n",
    "\n",
    "temp()\n",
    "print(a)"
   ]
  },
  {
   "cell_type": "code",
   "execution_count": 3,
   "id": "31bf6b45",
   "metadata": {},
   "outputs": [
    {
     "name": "stdout",
     "output_type": "stream",
     "text": [
      "1\n",
      "1\n",
      "3\n"
     ]
    }
   ],
   "source": [
    "# local and global -> editing global\n",
    "\n",
    "def temp():\n",
    "    global a\n",
    "    a = 1\n",
    "    print(a) \n",
    "\n",
    "temp()\n",
    "print(a)\n",
    "a += 2\n",
    "print(a)"
   ]
  },
  {
   "cell_type": "code",
   "execution_count": 7,
   "id": "8e712c8f",
   "metadata": {},
   "outputs": [
    {
     "name": "stdout",
     "output_type": "stream",
     "text": [
      "5\n",
      "5\n"
     ]
    },
    {
     "ename": "NameError",
     "evalue": "name 'z' is not defined",
     "output_type": "error",
     "traceback": [
      "\u001b[1;31m---------------------------------------------------------------------------\u001b[0m",
      "\u001b[1;31mNameError\u001b[0m                                 Traceback (most recent call last)",
      "Cell \u001b[1;32mIn[7], line 9\u001b[0m\n\u001b[0;32m      7\u001b[0m temp(\u001b[38;5;241m5\u001b[39m)\n\u001b[0;32m      8\u001b[0m \u001b[38;5;28mprint\u001b[39m(a)\n\u001b[1;32m----> 9\u001b[0m \u001b[38;5;28mprint\u001b[39m(z)\n",
      "\u001b[1;31mNameError\u001b[0m: name 'z' is not defined"
     ]
    }
   ],
   "source": [
    "# local and global -> function parameter is local\n",
    "def temp(z):\n",
    "  # local var\n",
    "  print(z)\n",
    "\n",
    "a = 5\n",
    "temp(5)\n",
    "print(a)\n",
    "print(z)"
   ]
  },
  {
   "cell_type": "code",
   "execution_count": 8,
   "id": "ba69b6fb",
   "metadata": {},
   "outputs": [
    {
     "name": "stdout",
     "output_type": "stream",
     "text": [
      "['ArithmeticError', 'AssertionError', 'AttributeError', 'BaseException', 'BaseExceptionGroup', 'BlockingIOError', 'BrokenPipeError', 'BufferError', 'BytesWarning', 'ChildProcessError', 'ConnectionAbortedError', 'ConnectionError', 'ConnectionRefusedError', 'ConnectionResetError', 'DeprecationWarning', 'EOFError', 'Ellipsis', 'EncodingWarning', 'EnvironmentError', 'Exception', 'ExceptionGroup', 'False', 'FileExistsError', 'FileNotFoundError', 'FloatingPointError', 'FutureWarning', 'GeneratorExit', 'IOError', 'ImportError', 'ImportWarning', 'IndentationError', 'IndexError', 'InterruptedError', 'IsADirectoryError', 'KeyError', 'KeyboardInterrupt', 'LookupError', 'MemoryError', 'ModuleNotFoundError', 'NameError', 'None', 'NotADirectoryError', 'NotImplemented', 'NotImplementedError', 'OSError', 'OverflowError', 'PendingDeprecationWarning', 'PermissionError', 'ProcessLookupError', 'PythonFinalizationError', 'RecursionError', 'ReferenceError', 'ResourceWarning', 'RuntimeError', 'RuntimeWarning', 'StopAsyncIteration', 'StopIteration', 'SyntaxError', 'SyntaxWarning', 'SystemError', 'SystemExit', 'TabError', 'TimeoutError', 'True', 'TypeError', 'UnboundLocalError', 'UnicodeDecodeError', 'UnicodeEncodeError', 'UnicodeError', 'UnicodeTranslateError', 'UnicodeWarning', 'UserWarning', 'ValueError', 'Warning', 'WindowsError', 'ZeroDivisionError', '_IncompleteInputError', '__IPYTHON__', '__build_class__', '__debug__', '__doc__', '__import__', '__loader__', '__name__', '__package__', '__spec__', 'abs', 'aiter', 'all', 'anext', 'any', 'ascii', 'bin', 'bool', 'breakpoint', 'bytearray', 'bytes', 'callable', 'chr', 'classmethod', 'compile', 'complex', 'copyright', 'credits', 'delattr', 'dict', 'dir', 'display', 'divmod', 'enumerate', 'eval', 'exec', 'execfile', 'filter', 'float', 'format', 'frozenset', 'get_ipython', 'getattr', 'globals', 'hasattr', 'hash', 'help', 'hex', 'id', 'input', 'int', 'isinstance', 'issubclass', 'iter', 'len', 'license', 'list', 'locals', 'map', 'max', 'memoryview', 'min', 'next', 'object', 'oct', 'open', 'ord', 'pow', 'print', 'property', 'range', 'repr', 'reversed', 'round', 'runfile', 'set', 'setattr', 'slice', 'sorted', 'staticmethod', 'str', 'sum', 'super', 'tuple', 'type', 'vars', 'zip']\n"
     ]
    }
   ],
   "source": [
    "#built-in scope\n",
    "import builtins\n",
    "print(dir(builtins))"
   ]
  },
  {
   "cell_type": "code",
   "execution_count": 7,
   "id": "ad71d8df",
   "metadata": {},
   "outputs": [
    {
     "ename": "TypeError",
     "evalue": "max() takes 0 positional arguments but 1 was given",
     "output_type": "error",
     "traceback": [
      "\u001b[1;31m---------------------------------------------------------------------------\u001b[0m",
      "\u001b[1;31mTypeError\u001b[0m                                 Traceback (most recent call last)",
      "Cell \u001b[1;32mIn[7], line 4\u001b[0m\n\u001b[0;32m      1\u001b[0m \u001b[38;5;66;03m#renaming builtin\u001b[39;00m\n\u001b[0;32m      2\u001b[0m L \u001b[38;5;241m=\u001b[39m [\u001b[38;5;241m1\u001b[39m,\u001b[38;5;241m2\u001b[39m,\u001b[38;5;241m3\u001b[39m]\n\u001b[1;32m----> 4\u001b[0m \u001b[38;5;28mprint\u001b[39m(\u001b[38;5;28mmax\u001b[39m(L)) \u001b[38;5;66;03m#interpreter searches for max in local scope which is global scope so it finds a functoin , hence does not searches nuilt in sscope.\u001b[39;00m\n\u001b[0;32m      6\u001b[0m \u001b[38;5;28;01mdef\u001b[39;00m\u001b[38;5;250m \u001b[39m\u001b[38;5;21mmax\u001b[39m():\n\u001b[0;32m      7\u001b[0m     \u001b[38;5;28mprint\u001b[39m(\u001b[38;5;124m\"\u001b[39m\u001b[38;5;124mHello\u001b[39m\u001b[38;5;124m\"\u001b[39m)\n",
      "\u001b[1;31mTypeError\u001b[0m: max() takes 0 positional arguments but 1 was given"
     ]
    }
   ],
   "source": [
    "#renaming builtin\n",
    "L = [1,2,3]\n",
    "\n",
    "print(max(L)) #interpreter searches for max in local scope which is global scope so it finds a functoin , hence does not searches nuilt in sscope.\n",
    "\n",
    "def max():\n",
    "    print(\"Hello\")\n",
    "\n",
    "#max()"
   ]
  },
  {
   "cell_type": "code",
   "execution_count": 3,
   "id": "491fa38d",
   "metadata": {},
   "outputs": [
    {
     "ename": "NameError",
     "evalue": "name 'a' is not defined",
     "output_type": "error",
     "traceback": [
      "\u001b[1;31m---------------------------------------------------------------------------\u001b[0m",
      "\u001b[1;31mNameError\u001b[0m                                 Traceback (most recent call last)",
      "Cell \u001b[1;32mIn[3], line 11\u001b[0m\n\u001b[0;32m      8\u001b[0m     inner()\n\u001b[0;32m      9\u001b[0m     \u001b[38;5;28mprint\u001b[39m(\u001b[38;5;124m'\u001b[39m\u001b[38;5;124mouter function\u001b[39m\u001b[38;5;124m'\u001b[39m)\n\u001b[1;32m---> 11\u001b[0m outer()\n\u001b[0;32m     12\u001b[0m \u001b[38;5;28mprint\u001b[39m(\u001b[38;5;124m'\u001b[39m\u001b[38;5;124mmain program\u001b[39m\u001b[38;5;124m'\u001b[39m)\n",
      "Cell \u001b[1;32mIn[3], line 8\u001b[0m, in \u001b[0;36mouter\u001b[1;34m()\u001b[0m\n\u001b[0;32m      6\u001b[0m     \u001b[38;5;28;01mglobal\u001b[39;00m a\n\u001b[0;32m      7\u001b[0m     \u001b[38;5;28mprint\u001b[39m(a)\n\u001b[1;32m----> 8\u001b[0m inner()\n\u001b[0;32m      9\u001b[0m \u001b[38;5;28mprint\u001b[39m(\u001b[38;5;124m'\u001b[39m\u001b[38;5;124mouter function\u001b[39m\u001b[38;5;124m'\u001b[39m)\n",
      "Cell \u001b[1;32mIn[3], line 7\u001b[0m, in \u001b[0;36mouter.<locals>.inner\u001b[1;34m()\u001b[0m\n\u001b[0;32m      5\u001b[0m \u001b[38;5;28;01mdef\u001b[39;00m\u001b[38;5;250m \u001b[39m\u001b[38;5;21minner\u001b[39m():\n\u001b[0;32m      6\u001b[0m     \u001b[38;5;28;01mglobal\u001b[39;00m a\n\u001b[1;32m----> 7\u001b[0m     \u001b[38;5;28mprint\u001b[39m(a)\n",
      "\u001b[1;31mNameError\u001b[0m: name 'a' is not defined"
     ]
    }
   ],
   "source": [
    "#enclosing scope\n",
    "\n",
    "def outer():\n",
    "    a = 2\n",
    "    def inner():\n",
    "        global a\n",
    "        print(a)\n",
    "    inner()\n",
    "    print('outer function')\n",
    "\n",
    "outer()\n",
    "print('main program')"
   ]
  },
  {
   "cell_type": "code",
   "execution_count": null,
   "id": "12c742b4",
   "metadata": {},
   "outputs": [
    {
     "ename": "SyntaxError",
     "evalue": "no binding for nonlocal 'a' found (1657693641.py, line 4)",
     "output_type": "error",
     "traceback": [
      "\u001b[1;36m  Cell \u001b[1;32mIn[33], line 4\u001b[1;36m\u001b[0m\n\u001b[1;33m    nonlocal a\u001b[0m\n\u001b[1;37m    ^\u001b[0m\n\u001b[1;31mSyntaxError\u001b[0m\u001b[1;31m:\u001b[0m no binding for nonlocal 'a' found\n"
     ]
    }
   ],
   "source": [
    "# nonlocal keyword\n",
    "def outer():\n",
    "  a = 1\n",
    "  def inner():\n",
    "    nonlocal a\n",
    "    a += 1\n",
    "    print('inner',a)\n",
    "  inner()\n",
    "  print('outer',a)\n",
    "\n",
    "\n",
    "outer()\n",
    "print('main program')"
   ]
  },
  {
   "cell_type": "markdown",
   "id": "dcd70d2e",
   "metadata": {},
   "source": [
    "### Decorators\n",
    "\n",
    "A decorator in python is a function that receives another function as input and adds some functionality(decoration) to and it and returns it.\n",
    "\n",
    "This can happen only because python functions are 1st class citizens.\n",
    "\n",
    "There are 2 types of decorators available in python\n",
    "- `Built in decorators` like `@staticmethod`, `@classmethod`, `@abstractmethod` and `@property` etc\n",
    "- `User defined decorators` that we programmers can create according to our needs"
   ]
  },
  {
   "cell_type": "code",
   "execution_count": 34,
   "id": "4953fa0e",
   "metadata": {},
   "outputs": [
    {
     "data": {
      "text/plain": [
       "4"
      ]
     },
     "execution_count": 34,
     "metadata": {},
     "output_type": "execute_result"
    }
   ],
   "source": [
    "#Python are 1st class function\n",
    "def modify(func,num):\n",
    "    return func(num)\n",
    "\n",
    "def square(num):\n",
    "    return num**2\n",
    "\n",
    "modify(square,2)\n"
   ]
  },
  {
   "cell_type": "code",
   "execution_count": 36,
   "id": "bb32984e",
   "metadata": {},
   "outputs": [
    {
     "name": "stdout",
     "output_type": "stream",
     "text": [
      "************************\n",
      "hello\n",
      "************************\n",
      "************************\n",
      "hello nitish\n",
      "************************\n"
     ]
    }
   ],
   "source": [
    "#simple example\n",
    "\n",
    "def my_decorator(func):\n",
    "    def wrapper():\n",
    "        print(\"************************\")\n",
    "        func()\n",
    "        print(\"************************\")\n",
    "    return wrapper\n",
    "\n",
    "def hello():\n",
    "    print(\"hello\")\n",
    "\n",
    "def display():\n",
    "    print('hello nitish')\n",
    "\n",
    "a = my_decorator(hello)\n",
    "a()\n",
    "\n",
    "b = my_decorator(display)\n",
    "b()"
   ]
  },
  {
   "cell_type": "code",
   "execution_count": 37,
   "id": "cd996a8e",
   "metadata": {},
   "outputs": [
    {
     "name": "stdout",
     "output_type": "stream",
     "text": [
      "***********************\n",
      "hello\n",
      "***********************\n"
     ]
    }
   ],
   "source": [
    "# Better syntax?\n",
    "# simple example\n",
    "\n",
    "def my_decorator(func):\n",
    "  def wrapper():\n",
    "    print('***********************')\n",
    "    func()\n",
    "    print('***********************')\n",
    "  return wrapper\n",
    "\n",
    "@my_decorator\n",
    "def hello():\n",
    "  print('hello')\n",
    "\n",
    "hello()"
   ]
  },
  {
   "cell_type": "code",
   "execution_count": 38,
   "id": "d509294f",
   "metadata": {},
   "outputs": [
    {
     "name": "stdout",
     "output_type": "stream",
     "text": [
      "hello\n",
      "time taken by hello 2.0005452632904053 secs\n"
     ]
    }
   ],
   "source": [
    "#anything meaningful ?\n",
    "import time\n",
    "\n",
    "def timer(func):\n",
    "    def wrapper():\n",
    "        start = time.time()\n",
    "        func()\n",
    "        print('time taken by',func.__name__,time.time()-start,'secs')\n",
    "    return wrapper\n",
    "\n",
    "@timer\n",
    "def hello():\n",
    "    print(\"hello\")\n",
    "    time.sleep(2)\n",
    "\n",
    "hello()"
   ]
  },
  {
   "cell_type": "code",
   "execution_count": 1,
   "id": "ba01a37a",
   "metadata": {},
   "outputs": [
    {
     "name": "stdout",
     "output_type": "stream",
     "text": [
      "hello wolrd\n",
      "time taken by hello 2.0014052391052246 secs\n",
      "4\n",
      "time taken by square 1.0005359649658203 secs\n",
      "8\n",
      "time taken by power 2.574920654296875e-05 secs\n"
     ]
    }
   ],
   "source": [
    "# anything meaningful?\n",
    "import time\n",
    "\n",
    "def timer(func):\n",
    "  def wrapper(*args):\n",
    "    start = time.time()\n",
    "    func(*args)\n",
    "    print('time taken by',func.__name__,time.time()-start,'secs')\n",
    "  return wrapper\n",
    "\n",
    "@timer\n",
    "def hello():\n",
    "  print('hello wolrd')\n",
    "  time.sleep(2)\n",
    "\n",
    "@timer\n",
    "def square(num):\n",
    "  time.sleep(1)\n",
    "  print(num**2)\n",
    "\n",
    "@timer\n",
    "def power(a,b):\n",
    "  print(a**b)\n",
    "\n",
    "hello()\n",
    "square(2)\n",
    "power(2,3)\n"
   ]
  },
  {
   "cell_type": "code",
   "execution_count": 2,
   "id": "9dd2b5fa",
   "metadata": {},
   "outputs": [
    {
     "name": "stdout",
     "output_type": "stream",
     "text": [
      "4\n"
     ]
    }
   ],
   "source": [
    "def sanity_check(data_type):\n",
    "  def outer_wrapper(func):\n",
    "    def inner_wrapper(*args):\n",
    "      if type(*args) == data_type:\n",
    "        func(*args)\n",
    "      else:\n",
    "        raise TypeError('Ye datatype nai chalega')\n",
    "    return inner_wrapper\n",
    "  return outer_wrapper\n",
    "\n",
    "@sanity_check(int)\n",
    "def square(num):\n",
    "  print(num**2)\n",
    "\n",
    "@sanity_check(str)\n",
    "def greet(name):\n",
    "  print('hello',name)\n",
    "\n",
    "square(2)"
   ]
  },
  {
   "cell_type": "code",
   "execution_count": null,
   "id": "2983caf0",
   "metadata": {},
   "outputs": [
    {
     "name": "stdout",
     "output_type": "stream",
     "text": [
      "1\n"
     ]
    }
   ],
   "source": []
  },
  {
   "cell_type": "markdown",
   "id": "73c6f756",
   "metadata": {},
   "source": [
    "HW\n"
   ]
  },
  {
   "cell_type": "code",
   "execution_count": 5,
   "id": "b5ba08dd",
   "metadata": {},
   "outputs": [
    {
     "name": "stdout",
     "output_type": "stream",
     "text": [
      "prince,bihar,patna\n",
      "__module__\n",
      "__firstlineno__\n",
      "__init__\n",
      "city\n",
      "__str__\n",
      "__static_attributes__\n",
      "__dict__\n",
      "__weakref__\n",
      "__doc__\n"
     ]
    }
   ],
   "source": [
    "class Person:\n",
    "\n",
    "    def __init__(self,name,state,newcity,age):\n",
    "        self.name = name\n",
    "        self.state = state\n",
    "        self.__city = None\n",
    "        self.__age = age\n",
    "        self.city = newcity\n",
    "\n",
    "    @property\n",
    "    def city(self):\n",
    "        return self.__city\n",
    "    \n",
    "    @city.setter \n",
    "    def city(self,newcity):\n",
    "        self.__city = newcity\n",
    "\n",
    "    def __str__(self):\n",
    "        return \"{},{},{}\".format(self.name,self.state,self.city)\n",
    "\n",
    "p = Person(\"prince\",\"bihar\",\"patna\",222)\n",
    "print(p)\n",
    "\n",
    "for i in Person.__dict__:\n",
    "    print(i)"
   ]
  },
  {
   "cell_type": "code",
   "execution_count": 6,
   "id": "468acce8",
   "metadata": {},
   "outputs": [
    {
     "name": "stdout",
     "output_type": "stream",
     "text": [
      "name\n",
      "state\n",
      "_Person__city\n",
      "_Person__age\n"
     ]
    }
   ],
   "source": [
    "for i in p.__dict__:\n",
    "    print(i)"
   ]
  },
  {
   "cell_type": "code",
   "execution_count": 22,
   "id": "54b0993d",
   "metadata": {},
   "outputs": [
    {
     "name": "stdout",
     "output_type": "stream",
     "text": [
      "'int' object is not iterable\n"
     ]
    },
    {
     "ename": "TypeError",
     "evalue": "'MyEnumerate' object is not iterable",
     "output_type": "error",
     "traceback": [
      "\u001b[1;31m---------------------------------------------------------------------------\u001b[0m",
      "\u001b[1;31mTypeError\u001b[0m                                 Traceback (most recent call last)",
      "Cell \u001b[1;32mIn[22], line 24\u001b[0m\n\u001b[0;32m     19\u001b[0m             \u001b[38;5;28;01mexcept\u001b[39;00m:\n\u001b[0;32m     20\u001b[0m                 \u001b[38;5;28;01mreturn\u001b[39;00m l \n\u001b[1;32m---> 24\u001b[0m \u001b[38;5;28;01mfor\u001b[39;00m  letter \u001b[38;5;129;01min\u001b[39;00m MyEnumerate(\u001b[38;5;241m1\u001b[39m):\n\u001b[0;32m     25\u001b[0m     \u001b[38;5;28mprint\u001b[39m(letter)\n",
      "\u001b[1;31mTypeError\u001b[0m: 'MyEnumerate' object is not iterable"
     ]
    }
   ],
   "source": [
    "class MyEnumerate :\n",
    "\n",
    "    def __init__(self,obj):\n",
    "        try:\n",
    "            self.obj1 = iter(obj)\n",
    "            self.index = 0\n",
    "            self.current = next(self.obj1)\n",
    "            print(33)\n",
    "            self.func()\n",
    "        except Exception as e:\n",
    "            print(e)\n",
    "\n",
    "    def func(self):\n",
    "         l = list()\n",
    "         while True:\n",
    "            try:\n",
    "                list.append(self.current)\n",
    "                self.current = next(self.obj1)\n",
    "            except:\n",
    "                return l \n",
    "\n",
    "    \n",
    "\n",
    "for  letter in MyEnumerate(1):\n",
    "    print(letter)"
   ]
  },
  {
   "cell_type": "code",
   "execution_count": null,
   "id": "8a4b4036",
   "metadata": {},
   "outputs": [
    {
     "ename": "TypeError",
     "evalue": "'int' object is not iterable",
     "output_type": "error",
     "traceback": [
      "\u001b[1;31m---------------------------------------------------------------------------\u001b[0m",
      "\u001b[1;31mTypeError\u001b[0m                                 Traceback (most recent call last)",
      "Cell \u001b[1;32mIn[10], line 3\u001b[0m\n\u001b[0;32m      1\u001b[0m a \u001b[38;5;241m=\u001b[39m \u001b[38;5;241m10\u001b[39m\n\u001b[1;32m----> 3\u001b[0m \u001b[38;5;28miter\u001b[39m(a)\n",
      "\u001b[1;31mTypeError\u001b[0m: 'int' object is not iterable"
     ]
    }
   ],
   "source": []
  },
  {
   "cell_type": "code",
   "execution_count": 17,
   "id": "b6ebe9af",
   "metadata": {},
   "outputs": [
    {
     "name": "stdout",
     "output_type": "stream",
     "text": [
      "1\n",
      "2\n"
     ]
    }
   ],
   "source": [
    "dic ={\n",
    "    1 : \"prince\",\n",
    "    2 : \"ankit\"\n",
    "}\n",
    "\n",
    "for i in dic:\n",
    "    print(i)"
   ]
  },
  {
   "cell_type": "code",
   "execution_count": 35,
   "id": "61f01703",
   "metadata": {},
   "outputs": [
    {
     "name": "stdout",
     "output_type": "stream",
     "text": [
      "0 : a\n",
      "1 : b\n",
      "2 : c\n"
     ]
    }
   ],
   "source": [
    "def MyEnumerate(obj):\n",
    "    try:\n",
    "        obj1 = iter(obj)\n",
    "        index = 0\n",
    "        current = next(obj1)\n",
    "        dic = {}\n",
    "        while True:\n",
    "            try:\n",
    "                dic[index] = current\n",
    "                current = next(obj1)\n",
    "                index += 1\n",
    "            \n",
    "            except StopIteration:\n",
    "                items =tuple(dic.items())\n",
    "                return items\n",
    "    except Exception as e:\n",
    "        print(e)\n",
    "\n",
    "for  index,letter in MyEnumerate('abc'):\n",
    "    print(f'{index} : {letter}')"
   ]
  },
  {
   "cell_type": "code",
   "execution_count": 3,
   "id": "83a7d6b7",
   "metadata": {},
   "outputs": [
    {
     "name": "stdout",
     "output_type": "stream",
     "text": [
      "0 : a\n",
      "1 : b\n",
      "2 : c\n"
     ]
    }
   ],
   "source": [
    "class MyEnumerate :\n",
    "\n",
    "    def __init__(self,data):\n",
    "        self.data = data\n",
    "\n",
    "    def __iter__(self):\n",
    "        return Mera_iterator(self)\n",
    "    \n",
    "class Mera_iterator:\n",
    "\n",
    "    def __init__(self,obj):\n",
    "        self.data = obj.data \n",
    "        self.index = 0\n",
    "\n",
    "    def __next__(self):\n",
    "        if self.index >= len(self.data):\n",
    "            raise StopIteration\n",
    "        value = (self.index,self.data[self.index])\n",
    "        self.index += 1\n",
    "        return value\n",
    "        \n",
    "\n",
    "for index, letter in MyEnumerate('abc'):\n",
    "    print(f'{index} : {letter}')\n"
   ]
  },
  {
   "cell_type": "code",
   "execution_count": 30,
   "id": "49885b24",
   "metadata": {},
   "outputs": [
    {
     "name": "stdout",
     "output_type": "stream",
     "text": [
      "['a', 'b', 'c', 'a', 'b', 'c', 'a']\n"
     ]
    }
   ],
   "source": [
    "class Circle:\n",
    "\n",
    "    def __init__(self,str,num):\n",
    "        self.str = str\n",
    "        self.num = num\n",
    "\n",
    "    def __str__(self):\n",
    "        a = \"\"\n",
    "        \n",
    "        for i in CircleIterator(self):\n",
    "               #print(type(i))\n",
    "               a = a + i\n",
    "              # print(a)\n",
    "        b = str(list(a))\n",
    "        return b\n",
    "    \n",
    "class CircleIterator:\n",
    "\n",
    "    def __init__(self,obj):\n",
    "        self.str = obj.str\n",
    "        self.num = obj.num\n",
    "\n",
    "    def __iter__(self):\n",
    "        return CircleIter(self)\n",
    "    \n",
    "\n",
    "class CircleIter:\n",
    "\n",
    "    def __init__(self,obj):\n",
    "        self.num = obj.num\n",
    "        self.count = 0\n",
    "        self.index = 0\n",
    "        self.str = list(obj.str)\n",
    "\n",
    "    def __next__(self):\n",
    "        if self.count>=self.num :\n",
    "            raise StopIteration\n",
    "        if self.index >= len(self.str):\n",
    "            self.index = 0\n",
    "        self.count += 1 \n",
    "        a = self.str[self.index]\n",
    "        self.index += 1 \n",
    "        return a\n",
    "        \n",
    "\n",
    "d = Circle('abc', 7)\n",
    "#print(list(d))\n",
    "print(d)\n",
    "\n",
    "\n"
   ]
  },
  {
   "cell_type": "code",
   "execution_count": 101,
   "id": "b9b43516",
   "metadata": {},
   "outputs": [
    {
     "name": "stdout",
     "output_type": "stream",
     "text": [
      "['a', 'b', 'c', 'a', 'b']\n"
     ]
    }
   ],
   "source": [
    "#5 \n",
    "class Circle:\n",
    "\n",
    "    def __init__(self,str,num):\n",
    "        self.str = str\n",
    "        self.num = num \n",
    "        self.index = 0\n",
    "    def __iter__(self):\n",
    "        return self\n",
    "    \n",
    "    def __next__(self):\n",
    "        if self.index >=self.num:\n",
    "            raise StopIteration\n",
    "        value = self.str[self.index % len(self.str)]\n",
    "        self.index+=1\n",
    "        return value\n",
    "\n",
    "c = Circle('abc' ,5)\n",
    "print(list(c))"
   ]
  },
  {
   "cell_type": "code",
   "execution_count": 104,
   "id": "4d97374f",
   "metadata": {},
   "outputs": [
    {
     "name": "stdout",
     "output_type": "stream",
     "text": [
      "(1753798326.65271, 'a')\n",
      "(2.000845193862915, 'b')\n",
      "(2.0003881454467773, 'c')\n",
      "(2.000729560852051, 'd')\n"
     ]
    }
   ],
   "source": [
    "#6\n",
    "\n",
    "import time\n",
    "\n",
    "def elapsed_since(str):\n",
    "    start = time.time()\n",
    "    \n",
    "    for i in str:\n",
    "        \n",
    "        a = tuple()\n",
    "        global b \n",
    "        a = (time.time()-b,i)\n",
    "        b = time.time()\n",
    "        yield a\n",
    "\n",
    "b = 0.0\n",
    "\n",
    "for t in elapsed_since('abcd'):\n",
    "    print(t)\n",
    "    time.sleep(2)"
   ]
  },
  {
   "cell_type": "code",
   "execution_count": null,
   "id": "69c2c2d3",
   "metadata": {},
   "outputs": [
    {
     "name": "stdout",
     "output_type": "stream",
     "text": [
      "<i>hello world</i>\n"
     ]
    }
   ],
   "source": [
    "#8\n",
    "import html\n",
    "\n",
    "def _deco(func):\n",
    "    def wrapper():\n",
    "        value = func()\n",
    "        print(\"<i>\"+value+\"</i>\")\n",
    "    return wrapper\n",
    "\n",
    "@_deco\n",
    "def hello():\n",
    "    return \"hello world\"\n",
    "\n",
    "hello()"
   ]
  },
  {
   "cell_type": "code",
   "execution_count": 116,
   "id": "06a147af",
   "metadata": {},
   "outputs": [
    {
     "name": "stdout",
     "output_type": "stream",
     "text": [
      "string\n",
      "Help on function hello in module __main__:\n",
      "\n",
      "hello(string)\n",
      "\n"
     ]
    }
   ],
   "source": [
    "#8\n",
    "from functools import wraps\n",
    "def printer(func):\n",
    "    @wraps(func)\n",
    "    def wrapeer(*args,**kwargs):\n",
    "        return_value = func(*args,**kwargs)\n",
    "        if return_value != None:\n",
    "            print(return_value)\n",
    "        return return_value\n",
    "    return wrapeer\n",
    "\n",
    "@printer\n",
    "def hello(string):\n",
    "    return string\n",
    "\n",
    "hello(\"string\")\n",
    "help(hello)\n"
   ]
  },
  {
   "cell_type": "code",
   "execution_count": null,
   "id": "dc8c3661",
   "metadata": {},
   "outputs": [],
   "source": []
  }
 ],
 "metadata": {
  "kernelspec": {
   "display_name": "base",
   "language": "python",
   "name": "python3"
  },
  "language_info": {
   "codemirror_mode": {
    "name": "ipython",
    "version": 3
   },
   "file_extension": ".py",
   "mimetype": "text/x-python",
   "name": "python",
   "nbconvert_exporter": "python",
   "pygments_lexer": "ipython3",
   "version": "3.13.5"
  }
 },
 "nbformat": 4,
 "nbformat_minor": 5
}
