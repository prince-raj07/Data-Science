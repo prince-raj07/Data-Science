{
 "cells": [
  {
   "cell_type": "code",
   "execution_count": 1,
   "id": "ae2fca00",
   "metadata": {},
   "outputs": [
    {
     "name": "stdout",
     "output_type": "stream",
     "text": [
      "10 10000\n",
      "9 9090.90909090909\n",
      "8 8264.462809917353\n",
      "7 7513.148009015775\n",
      "6 6830.134553650703\n",
      "5 6209.213230591548\n",
      "4 5644.739300537771\n",
      "3 5131.5811823070635\n",
      "2 4665.07380209733\n",
      "1 4240.976183724845\n"
     ]
    }
   ],
   "source": [
    "cur_pop = 10000\n",
    "\n",
    "for i in range(10,0,-1):\n",
    "    print(i,cur_pop)\n",
    "    cur_pop = cur_pop/1.1"
   ]
  },
  {
   "cell_type": "code",
   "execution_count": null,
   "id": "5a59272c",
   "metadata": {},
   "outputs": [],
   "source": [
    "n = int(input(\"Enter n\"))\n",
    "result = 0\n",
    "fact = 1\n",
    "for i in range(1,n+1):\n",
    "    fact = fact * i\n",
    "    result = result + (i/fact)\n",
    "\n",
    "print(result)"
   ]
  },
  {
   "cell_type": "code",
   "execution_count": 1,
   "id": "d08cc113",
   "metadata": {},
   "outputs": [
    {
     "name": "stdout",
     "output_type": "stream",
     "text": [
      "1 1\n",
      "1 2\n",
      "1 3\n",
      "1 4\n",
      "2 1\n",
      "2 2\n",
      "2 3\n",
      "2 4\n",
      "3 1\n",
      "3 2\n",
      "3 3\n",
      "3 4\n",
      "4 1\n",
      "4 2\n",
      "4 3\n",
      "4 4\n"
     ]
    }
   ],
   "source": [
    "#Nested loops\n",
    "\n",
    "for i  in range(1,5):\n",
    "    for j in range(1,5):\n",
    "        print(i,j)"
   ]
  },
  {
   "cell_type": "code",
   "execution_count": 2,
   "id": "a0c8412d",
   "metadata": {},
   "outputs": [
    {
     "name": "stdout",
     "output_type": "stream",
     "text": [
      "*\n",
      "**\n",
      "***\n",
      "****\n"
     ]
    }
   ],
   "source": [
    "row = int(input(\"Enter number of rows\"))\n",
    "\n",
    "for i in range(1,row+1):\n",
    "    for j in range(1,i+1):\n",
    "        print('*',end='')\n",
    "    print()    "
   ]
  },
  {
   "cell_type": "code",
   "execution_count": 4,
   "id": "e19aa72d",
   "metadata": {},
   "outputs": [
    {
     "name": "stdout",
     "output_type": "stream",
     "text": [
      "1\n",
      "121\n",
      "12321\n",
      "1234321\n"
     ]
    }
   ],
   "source": [
    "row = int(input(\"Enter number of rows\"))\n",
    "\n",
    "for i in range(1,row+1):\n",
    "    r = 0\n",
    "    for j in range(1,2*i):\n",
    "        if j<=i:\n",
    "            print(j,end='')\n",
    "            r += 1\n",
    "        else :\n",
    "            r-=1  \n",
    "            print(r,end='')\n",
    "              \n",
    "    print()  "
   ]
  },
  {
   "cell_type": "code",
   "execution_count": null,
   "id": "a034ce7a",
   "metadata": {},
   "outputs": [
    {
     "name": "stdout",
     "output_type": "stream",
     "text": [
      "now\n",
      "1\n",
      "2\n",
      "now\n",
      "1\n",
      "2\n",
      "now\n",
      "1\n",
      "2\n"
     ]
    }
   ],
   "source": [
    "for i in range(1,4):\n",
    "    print(\"now\")\n",
    "    for j in range(1,5):\n",
    "        if j==3:\n",
    "            break # it comes out of outer loop\n",
    "        print(j)"
   ]
  },
  {
   "cell_type": "code",
   "execution_count": 7,
   "id": "c43c695d",
   "metadata": {},
   "outputs": [
    {
     "name": "stdout",
     "output_type": "stream",
     "text": [
      "11\n",
      "13\n",
      "17\n",
      "19\n",
      "23\n",
      "29\n",
      "31\n",
      "37\n",
      "41\n",
      "43\n",
      "47\n",
      "53\n",
      "59\n",
      "61\n",
      "67\n",
      "71\n",
      "73\n",
      "79\n",
      "83\n",
      "89\n",
      "97\n"
     ]
    }
   ],
   "source": [
    "#Print Prime\n",
    "lower = int(input(\"Enter lower range\"))\n",
    "upper = int(input(\"Enter upper range\"))\n",
    "\n",
    "for i in range(lower,upper+1):\n",
    "    for j in range(2,i):\n",
    "        if i%j==0:\n",
    "            break\n",
    "    else :    \n",
    "        print(i)"
   ]
  },
  {
   "cell_type": "code",
   "execution_count": 9,
   "id": "9ced7c90",
   "metadata": {},
   "outputs": [
    {
     "name": "stdout",
     "output_type": "stream",
     "text": [
      "1\n",
      "2\n",
      "3\n",
      "4\n",
      "6\n",
      "7\n",
      "8\n",
      "9\n"
     ]
    }
   ],
   "source": [
    "#Continue statement\n",
    "\n",
    "for i in range(1,10):\n",
    "    if i==5:\n",
    "        continue\n",
    "    print(i)"
   ]
  },
  {
   "cell_type": "code",
   "execution_count": 1,
   "id": "fa5d740e",
   "metadata": {},
   "outputs": [],
   "source": [
    "for i in range(1,10):\n",
    "    pass"
   ]
  },
  {
   "cell_type": "code",
   "execution_count": 10,
   "id": "3b63a0de",
   "metadata": {},
   "outputs": [
    {
     "name": "stdout",
     "output_type": "stream",
     "text": [
      "hello\n"
     ]
    }
   ],
   "source": [
    "# Creating Strings\n",
    "\n",
    "s = 'hello'\n",
    "s = \"hello\"\n",
    "#multiline strings\n",
    "s = '''hello'''\n",
    "s = \"\"\"hello\"\"\"\n",
    "s = str('hello')\n",
    "print(s)"
   ]
  },
  {
   "cell_type": "code",
   "execution_count": 13,
   "id": "7558968a",
   "metadata": {},
   "outputs": [
    {
     "name": "stdout",
     "output_type": "stream",
     "text": [
      "h e   w\n"
     ]
    }
   ],
   "source": [
    "# Positive Indexing\n",
    "s = 'hello world'\n",
    "print(s[0],s[1],s[5],s[6])\n"
   ]
  },
  {
   "cell_type": "code",
   "execution_count": 14,
   "id": "a079c8f0",
   "metadata": {},
   "outputs": [
    {
     "name": "stdout",
     "output_type": "stream",
     "text": [
      "d l\n"
     ]
    }
   ],
   "source": [
    "# Negative Indexing\n",
    "s = 'hello world'\n",
    "print(s[-1],s[-2])"
   ]
  },
  {
   "cell_type": "code",
   "execution_count": null,
   "id": "b807cdef",
   "metadata": {},
   "outputs": [
    {
     "name": "stdout",
     "output_type": "stream",
     "text": [
      "hello\n",
      "hello world\n",
      "llo\n",
      "llo world\n",
      "hel\n",
      "hl\n",
      "wol\n",
      "dlrow olleh\n"
     ]
    }
   ],
   "source": [
    "# Slicing\n",
    "s = 'hello world'\n",
    "print(s[0:5])\n",
    "print(s[:])\n",
    "print(s[2:5])\n",
    "print(s[2:])\n",
    "print(s[:3])\n",
    "print(s[0:6:3])\n",
    "print(s[6:0:-2])\n",
    "print(s[::-1]) #reverse string"
   ]
  },
  {
   "cell_type": "code",
   "execution_count": 4,
   "id": "4102a031",
   "metadata": {},
   "outputs": [
    {
     "name": "stdout",
     "output_type": "stream",
     "text": [
      "world\n",
      "w olleh\n",
      "world\n",
      "dlrow\n",
      "\n",
      " ol\n"
     ]
    }
   ],
   "source": [
    "s = 'hello world'\n",
    "print(s[-5:])\n",
    "print(s[-5::-1])\n",
    "print(s[-5::1])\n",
    "print(s[-1:-6:-1])\n",
    "print(s[-5:-7:2])\n",
    "print(s[5:2:-1])"
   ]
  },
  {
   "cell_type": "code",
   "execution_count": 5,
   "id": "5d3b2c2e",
   "metadata": {},
   "outputs": [
    {
     "ename": "TypeError",
     "evalue": "'str' object does not support item assignment",
     "output_type": "error",
     "traceback": [
      "\u001b[1;31m---------------------------------------------------------------------------\u001b[0m",
      "\u001b[1;31mTypeError\u001b[0m                                 Traceback (most recent call last)",
      "Cell \u001b[1;32mIn[5], line 4\u001b[0m\n\u001b[0;32m      1\u001b[0m \u001b[38;5;66;03m# python string are immutable\u001b[39;00m\n\u001b[0;32m      3\u001b[0m s \u001b[38;5;241m=\u001b[39m \u001b[38;5;124m'\u001b[39m\u001b[38;5;124mhello world\u001b[39m\u001b[38;5;124m'\u001b[39m\n\u001b[1;32m----> 4\u001b[0m s[\u001b[38;5;241m0\u001b[39m] \u001b[38;5;241m=\u001b[39m \u001b[38;5;124m'\u001b[39m\u001b[38;5;124mH\u001b[39m\u001b[38;5;124m'\u001b[39m\n",
      "\u001b[1;31mTypeError\u001b[0m: 'str' object does not support item assignment"
     ]
    }
   ],
   "source": [
    "# python string are immutable\n",
    "\n",
    "s = 'hello world'\n",
    "s[0] = 'H'"
   ]
  },
  {
   "cell_type": "code",
   "execution_count": 23,
   "id": "9abf91bf",
   "metadata": {},
   "outputs": [
    {
     "name": "stdout",
     "output_type": "stream",
     "text": [
      "hello world\n"
     ]
    },
    {
     "ename": "NameError",
     "evalue": "name 's' is not defined",
     "output_type": "error",
     "traceback": [
      "\u001b[1;31m---------------------------------------------------------------------------\u001b[0m",
      "\u001b[1;31mNameError\u001b[0m                                 Traceback (most recent call last)",
      "Cell \u001b[1;32mIn[23], line 4\u001b[0m\n\u001b[0;32m      2\u001b[0m \u001b[38;5;28mprint\u001b[39m(s)\n\u001b[0;32m      3\u001b[0m \u001b[38;5;28;01mdel\u001b[39;00m s\n\u001b[1;32m----> 4\u001b[0m \u001b[38;5;28mprint\u001b[39m(s)\n",
      "\u001b[1;31mNameError\u001b[0m: name 's' is not defined"
     ]
    }
   ],
   "source": [
    "s = 'hello world'\n",
    "print(s)\n",
    "del s\n",
    "print(s)"
   ]
  },
  {
   "cell_type": "code",
   "execution_count": 32,
   "id": "5f344f23",
   "metadata": {},
   "outputs": [
    {
     "name": "stdout",
     "output_type": "stream",
     "text": [
      "hello world\n"
     ]
    },
    {
     "ename": "TypeError",
     "evalue": "'str' object doesn't support item deletion",
     "output_type": "error",
     "traceback": [
      "\u001b[1;31m---------------------------------------------------------------------------\u001b[0m",
      "\u001b[1;31mTypeError\u001b[0m                                 Traceback (most recent call last)",
      "Cell \u001b[1;32mIn[32], line 3\u001b[0m\n\u001b[0;32m      1\u001b[0m s \u001b[38;5;241m=\u001b[39m \u001b[38;5;124m'\u001b[39m\u001b[38;5;124mhello world\u001b[39m\u001b[38;5;124m'\u001b[39m\n\u001b[0;32m      2\u001b[0m \u001b[38;5;28mprint\u001b[39m(s)\n\u001b[1;32m----> 3\u001b[0m \u001b[38;5;28;01mdel\u001b[39;00m s[\u001b[38;5;241m0\u001b[39m]\n\u001b[0;32m      4\u001b[0m \u001b[38;5;28mprint\u001b[39m(s)\n",
      "\u001b[1;31mTypeError\u001b[0m: 'str' object doesn't support item deletion"
     ]
    }
   ],
   "source": [
    "s = 'hello world'\n",
    "print(s)\n",
    "del s[0]\n",
    "print(s)"
   ]
  },
  {
   "cell_type": "code",
   "execution_count": 35,
   "id": "6f991172",
   "metadata": {},
   "outputs": [
    {
     "name": "stdout",
     "output_type": "stream",
     "text": [
      "delhimumbai\n",
      "delhi delhi delhi delhi delhi \n"
     ]
    }
   ],
   "source": [
    "print('delhi'+'mumbai')\n",
    "print('delhi '*5)"
   ]
  },
  {
   "cell_type": "code",
   "execution_count": null,
   "id": "577c31fe",
   "metadata": {},
   "outputs": [
    {
     "name": "stdout",
     "output_type": "stream",
     "text": [
      "True\n",
      "False\n",
      "False\n"
     ]
    }
   ],
   "source": [
    "print('delhi' == 'delhi')\n",
    "print('delhi' == 'mumbai')\n",
    "print('delhi' == 'Delhi')"
   ]
  },
  {
   "cell_type": "code",
   "execution_count": 40,
   "id": "1982c9e3",
   "metadata": {},
   "outputs": [
    {
     "name": "stdout",
     "output_type": "stream",
     "text": [
      "False\n",
      "True\n"
     ]
    }
   ],
   "source": [
    "# Lexiographically\n",
    "print('mumbai' > 'pune')\n",
    "print('pune' > 'mumbai')\n",
    "# comapare by ASCII code m = 109 and p = 112"
   ]
  },
  {
   "cell_type": "code",
   "execution_count": null,
   "id": "909ba4e3",
   "metadata": {},
   "outputs": [
    {
     "name": "stdout",
     "output_type": "stream",
     "text": [
      "world\n",
      "hello\n"
     ]
    }
   ],
   "source": [
    "print('hello' and 'world')\n",
    "print('hello' or 'world')\n",
    "\n",
    "# empty strings are false and strings with characters are true"
   ]
  },
  {
   "cell_type": "code",
   "execution_count": 45,
   "id": "7d3b8b4c",
   "metadata": {},
   "outputs": [
    {
     "name": "stdout",
     "output_type": "stream",
     "text": [
      "h\n",
      "e\n",
      "l\n",
      "l\n",
      "o\n",
      " \n",
      "w\n",
      "o\n",
      "r\n",
      "l\n",
      "d\n"
     ]
    }
   ],
   "source": [
    "for i in 'hello world':\n",
    "    print(i)"
   ]
  },
  {
   "cell_type": "code",
   "execution_count": 46,
   "id": "e161b366",
   "metadata": {},
   "outputs": [
    {
     "name": "stdout",
     "output_type": "stream",
     "text": [
      "True\n"
     ]
    }
   ],
   "source": [
    "print('d' in 'delhi')"
   ]
  },
  {
   "cell_type": "code",
   "execution_count": 47,
   "id": "f493114e",
   "metadata": {},
   "outputs": [
    {
     "name": "stdout",
     "output_type": "stream",
     "text": [
      "11\n",
      "w\n",
      " \n",
      "[' ', 'd', 'e', 'h', 'l', 'l', 'l', 'o', 'o', 'r', 'w']\n",
      "['w', 'r', 'o', 'o', 'l', 'l', 'l', 'h', 'e', 'd', ' ']\n"
     ]
    }
   ],
   "source": [
    "# Common funtions\n",
    "print(len('hello world'))\n",
    "print(max('hello world'))\n",
    "print(min('hello world'))\n",
    "print(sorted('hello world'))\n",
    "print(sorted('hello world',reverse=True))"
   ]
  },
  {
   "cell_type": "code",
   "execution_count": 50,
   "id": "676dcfda",
   "metadata": {},
   "outputs": [
    {
     "name": "stdout",
     "output_type": "stream",
     "text": [
      "Hello world\n",
      "Hello World\n",
      "HELLO WORLD\n",
      "hello world\n"
     ]
    }
   ],
   "source": [
    "s = 'hello world'\n",
    "print(s.capitalize()) # capitalize first letter of string\n",
    "print(s.title()) # capitalizze first letter of all word\n",
    "print(s.upper())\n",
    "print(s.lower())"
   ]
  },
  {
   "cell_type": "code",
   "execution_count": 52,
   "id": "93103a4f",
   "metadata": {},
   "outputs": [
    {
     "data": {
      "text/plain": [
       "'hEllO WORlD'"
      ]
     },
     "execution_count": 52,
     "metadata": {},
     "output_type": "execute_result"
    }
   ],
   "source": [
    "s = 'HeLLo worLd'\n",
    "s.swapcase()"
   ]
  },
  {
   "cell_type": "code",
   "execution_count": 53,
   "id": "924ede1a",
   "metadata": {},
   "outputs": [
    {
     "data": {
      "text/plain": [
       "3"
      ]
     },
     "execution_count": 53,
     "metadata": {},
     "output_type": "execute_result"
    }
   ],
   "source": [
    "'my name is nitish'.count('i')"
   ]
  },
  {
   "cell_type": "code",
   "execution_count": 55,
   "id": "624533f1",
   "metadata": {},
   "outputs": [
    {
     "name": "stdout",
     "output_type": "stream",
     "text": [
      "8\n",
      "-1\n"
     ]
    }
   ],
   "source": [
    "print('my name is nitish'.find('i'))\n",
    "print('my name is nitish'.find('x'))"
   ]
  },
  {
   "cell_type": "code",
   "execution_count": 56,
   "id": "ed9d337e",
   "metadata": {},
   "outputs": [
    {
     "name": "stdout",
     "output_type": "stream",
     "text": [
      "8\n"
     ]
    },
    {
     "ename": "ValueError",
     "evalue": "substring not found",
     "output_type": "error",
     "traceback": [
      "\u001b[1;31m---------------------------------------------------------------------------\u001b[0m",
      "\u001b[1;31mValueError\u001b[0m                                Traceback (most recent call last)",
      "Cell \u001b[1;32mIn[56], line 2\u001b[0m\n\u001b[0;32m      1\u001b[0m \u001b[38;5;28mprint\u001b[39m(\u001b[38;5;124m'\u001b[39m\u001b[38;5;124mmy name is nitish\u001b[39m\u001b[38;5;124m'\u001b[39m\u001b[38;5;241m.\u001b[39mindex(\u001b[38;5;124m'\u001b[39m\u001b[38;5;124mi\u001b[39m\u001b[38;5;124m'\u001b[39m))\n\u001b[1;32m----> 2\u001b[0m \u001b[38;5;28mprint\u001b[39m(\u001b[38;5;124m'\u001b[39m\u001b[38;5;124mmy name is nitish\u001b[39m\u001b[38;5;124m'\u001b[39m\u001b[38;5;241m.\u001b[39mindex(\u001b[38;5;124m'\u001b[39m\u001b[38;5;124mx\u001b[39m\u001b[38;5;124m'\u001b[39m))\n",
      "\u001b[1;31mValueError\u001b[0m: substring not found"
     ]
    }
   ],
   "source": [
    "print('my name is nitish'.index('i'))\n",
    "print('my name is nitish'.index('x'))"
   ]
  },
  {
   "cell_type": "code",
   "execution_count": 57,
   "id": "034092f9",
   "metadata": {},
   "outputs": [
    {
     "name": "stdout",
     "output_type": "stream",
     "text": [
      "True\n",
      "False\n"
     ]
    }
   ],
   "source": [
    "print('my name is nitish'.endswith('sh'))\n",
    "print('my name is nitish'.endswith('sho'))"
   ]
  },
  {
   "cell_type": "code",
   "execution_count": 59,
   "id": "0ba28aa2",
   "metadata": {},
   "outputs": [
    {
     "name": "stdout",
     "output_type": "stream",
     "text": [
      "True\n",
      "False\n"
     ]
    }
   ],
   "source": [
    "print('my name is nitish'.startswith('my n'))\n",
    "print('my name is nitish'.startswith('my nw'))"
   ]
  },
  {
   "cell_type": "code",
   "execution_count": 61,
   "id": "c21ac0f8",
   "metadata": {},
   "outputs": [
    {
     "data": {
      "text/plain": [
       "'Hi my name is Prince and I am a male '"
      ]
     },
     "execution_count": 61,
     "metadata": {},
     "output_type": "execute_result"
    }
   ],
   "source": [
    "name = 'Prince'\n",
    "gender = 'male'\n",
    "\n",
    "'Hi my name is {} and I am a {} '.format(name,gender)"
   ]
  },
  {
   "cell_type": "code",
   "execution_count": 62,
   "id": "0f85041c",
   "metadata": {},
   "outputs": [
    {
     "name": "stdout",
     "output_type": "stream",
     "text": [
      "True\n",
      "False\n"
     ]
    }
   ],
   "source": [
    "print('prince1234'.isalnum())\n",
    "print('prince1234%'.isalnum())"
   ]
  },
  {
   "cell_type": "code",
   "execution_count": 63,
   "id": "a767cd0f",
   "metadata": {},
   "outputs": [
    {
     "name": "stdout",
     "output_type": "stream",
     "text": [
      "True\n",
      "False\n"
     ]
    }
   ],
   "source": [
    "print('prince'.isalpha())\n",
    "print('prince1'.isalpha())"
   ]
  },
  {
   "cell_type": "code",
   "execution_count": 64,
   "id": "e95e8966",
   "metadata": {},
   "outputs": [
    {
     "name": "stdout",
     "output_type": "stream",
     "text": [
      "True\n",
      "False\n"
     ]
    }
   ],
   "source": [
    "print('123'.isdigit())\n",
    "print('123a'.isdigit())"
   ]
  },
  {
   "cell_type": "code",
   "execution_count": 65,
   "id": "f32842df",
   "metadata": {},
   "outputs": [
    {
     "name": "stdout",
     "output_type": "stream",
     "text": [
      "False\n",
      "True\n",
      "False\n"
     ]
    }
   ],
   "source": [
    "print('1name'.isidentifier())\n",
    "print('name1'.isidentifier())\n",
    "print('first-name'.isidentifier())"
   ]
  },
  {
   "cell_type": "code",
   "execution_count": 66,
   "id": "60f06bf8",
   "metadata": {},
   "outputs": [
    {
     "name": "stdout",
     "output_type": "stream",
     "text": [
      "['hi', 'my', 'name', 'is', 'prince']\n",
      "['h', ' my name ', 's pr', 'nce']\n"
     ]
    }
   ],
   "source": [
    "print('hi my name is prince'.split())\n",
    "print('hi my name is prince'.split('i'))"
   ]
  },
  {
   "cell_type": "code",
   "execution_count": 67,
   "id": "b572d772",
   "metadata": {},
   "outputs": [
    {
     "data": {
      "text/plain": [
       "'hi-my-name-is-prince'"
      ]
     },
     "execution_count": 67,
     "metadata": {},
     "output_type": "execute_result"
    }
   ],
   "source": [
    "\"-\".join(['hi', 'my', 'name', 'is', 'prince'])"
   ]
  },
  {
   "cell_type": "code",
   "execution_count": 68,
   "id": "1baba030",
   "metadata": {},
   "outputs": [
    {
     "data": {
      "text/plain": [
       "'hi my name is rishi'"
      ]
     },
     "execution_count": 68,
     "metadata": {},
     "output_type": "execute_result"
    }
   ],
   "source": [
    "'hi my name is prince'.replace('prince','rishi')"
   ]
  },
  {
   "cell_type": "code",
   "execution_count": 72,
   "id": "e794661f",
   "metadata": {},
   "outputs": [
    {
     "data": {
      "text/plain": [
       "'nitish'"
      ]
     },
     "execution_count": 72,
     "metadata": {},
     "output_type": "execute_result"
    }
   ],
   "source": [
    "'nitish             '.strip()"
   ]
  },
  {
   "cell_type": "markdown",
   "id": "a6014c12",
   "metadata": {},
   "source": [
    "HW\n"
   ]
  },
  {
   "cell_type": "code",
   "execution_count": 14,
   "id": "88172e3b",
   "metadata": {},
   "outputs": [
    {
     "name": "stdout",
     "output_type": "stream",
     "text": [
      "5 4 3 2 1 \n",
      "4 3 2 1 \n",
      "3 2 1 \n",
      "2 1 \n",
      "1 \n"
     ]
    }
   ],
   "source": [
    "#1\n",
    "\n",
    "for i in range(5,0,-1):\n",
    "    for j in range(i,0,-1):\n",
    "        print(j,end=' ')\n",
    "    print()    "
   ]
  },
  {
   "cell_type": "code",
   "execution_count": 16,
   "id": "9094d373",
   "metadata": {},
   "outputs": [
    {
     "name": "stdout",
     "output_type": "stream",
     "text": [
      "12.0\n"
     ]
    }
   ],
   "source": [
    "#5\n",
    "\n",
    "x = int(input(\"Enter number\"))\n",
    "n = int(input(\"Enter number of terms\"))\n",
    "\n",
    "result = 0\n",
    "\n",
    "for i in range(1,n+1):\n",
    "    result += (x**i)/i\n",
    "\n",
    "else:\n",
    "    print(result)    "
   ]
  },
  {
   "cell_type": "code",
   "execution_count": 31,
   "id": "6eae81a5",
   "metadata": {},
   "outputs": [
    {
     "name": "stdout",
     "output_type": "stream",
     "text": [
      "2+22+222+2222+22222\n",
      "24690\n"
     ]
    }
   ],
   "source": [
    "#7\n",
    "\n",
    "n = int(input(\"Enter number\"))\n",
    "result = 0\n",
    "a = 0 \n",
    "for i in range(1,n+1):\n",
    "    print((10**(i-1))*2 + result,end='')\n",
    "    if i!=n:\n",
    "        print('+',end='')\n",
    "    result = (10**(i-1))*2 + result\n",
    "    a = result + a\n",
    "print()\n",
    "print(a)  "
   ]
  },
  {
   "cell_type": "code",
   "execution_count": 32,
   "id": "751aee59",
   "metadata": {},
   "outputs": [
    {
     "name": "stdout",
     "output_type": "stream",
     "text": [
      "1 1 1 1\n",
      "1 1 1 2\n",
      "1 1 1 3\n",
      "1 1 1 4\n",
      "1 1 2 1\n",
      "1 1 2 2\n",
      "1 1 2 3\n",
      "1 1 2 4\n",
      "1 1 3 1\n",
      "1 1 3 2\n",
      "1 1 3 3\n",
      "1 1 3 4\n",
      "1 1 4 1\n",
      "1 1 4 2\n",
      "1 1 4 3\n",
      "1 1 4 4\n",
      "1 2 1 1\n",
      "1 2 1 2\n",
      "1 2 1 3\n",
      "1 2 1 4\n",
      "1 2 2 1\n",
      "1 2 2 2\n",
      "1 2 2 3\n",
      "1 2 2 4\n",
      "1 2 3 1\n",
      "1 2 3 2\n",
      "1 2 3 3\n",
      "1 2 3 4\n",
      "1 2 4 1\n",
      "1 2 4 2\n",
      "1 2 4 3\n",
      "1 2 4 4\n",
      "1 3 1 1\n",
      "1 3 1 2\n",
      "1 3 1 3\n",
      "1 3 1 4\n",
      "1 3 2 1\n",
      "1 3 2 2\n",
      "1 3 2 3\n",
      "1 3 2 4\n",
      "1 3 3 1\n",
      "1 3 3 2\n",
      "1 3 3 3\n",
      "1 3 3 4\n",
      "1 3 4 1\n",
      "1 3 4 2\n",
      "1 3 4 3\n",
      "1 3 4 4\n",
      "1 4 1 1\n",
      "1 4 1 2\n",
      "1 4 1 3\n",
      "1 4 1 4\n",
      "1 4 2 1\n",
      "1 4 2 2\n",
      "1 4 2 3\n",
      "1 4 2 4\n",
      "1 4 3 1\n",
      "1 4 3 2\n",
      "1 4 3 3\n",
      "1 4 3 4\n",
      "1 4 4 1\n",
      "1 4 4 2\n",
      "1 4 4 3\n",
      "1 4 4 4\n",
      "2 1 1 1\n",
      "2 1 1 2\n",
      "2 1 1 3\n",
      "2 1 1 4\n",
      "2 1 2 1\n",
      "2 1 2 2\n",
      "2 1 2 3\n",
      "2 1 2 4\n",
      "2 1 3 1\n",
      "2 1 3 2\n",
      "2 1 3 3\n",
      "2 1 3 4\n",
      "2 1 4 1\n",
      "2 1 4 2\n",
      "2 1 4 3\n",
      "2 1 4 4\n",
      "2 2 1 1\n",
      "2 2 1 2\n",
      "2 2 1 3\n",
      "2 2 1 4\n",
      "2 2 2 1\n",
      "2 2 2 2\n",
      "2 2 2 3\n",
      "2 2 2 4\n",
      "2 2 3 1\n",
      "2 2 3 2\n",
      "2 2 3 3\n",
      "2 2 3 4\n",
      "2 2 4 1\n",
      "2 2 4 2\n",
      "2 2 4 3\n",
      "2 2 4 4\n",
      "2 3 1 1\n",
      "2 3 1 2\n",
      "2 3 1 3\n",
      "2 3 1 4\n",
      "2 3 2 1\n",
      "2 3 2 2\n",
      "2 3 2 3\n",
      "2 3 2 4\n",
      "2 3 3 1\n",
      "2 3 3 2\n",
      "2 3 3 3\n",
      "2 3 3 4\n",
      "2 3 4 1\n",
      "2 3 4 2\n",
      "2 3 4 3\n",
      "2 3 4 4\n",
      "2 4 1 1\n",
      "2 4 1 2\n",
      "2 4 1 3\n",
      "2 4 1 4\n",
      "2 4 2 1\n",
      "2 4 2 2\n",
      "2 4 2 3\n",
      "2 4 2 4\n",
      "2 4 3 1\n",
      "2 4 3 2\n",
      "2 4 3 3\n",
      "2 4 3 4\n",
      "2 4 4 1\n",
      "2 4 4 2\n",
      "2 4 4 3\n",
      "2 4 4 4\n",
      "3 1 1 1\n",
      "3 1 1 2\n",
      "3 1 1 3\n",
      "3 1 1 4\n",
      "3 1 2 1\n",
      "3 1 2 2\n",
      "3 1 2 3\n",
      "3 1 2 4\n",
      "3 1 3 1\n",
      "3 1 3 2\n",
      "3 1 3 3\n",
      "3 1 3 4\n",
      "3 1 4 1\n",
      "3 1 4 2\n",
      "3 1 4 3\n",
      "3 1 4 4\n",
      "3 2 1 1\n",
      "3 2 1 2\n",
      "3 2 1 3\n",
      "3 2 1 4\n",
      "3 2 2 1\n",
      "3 2 2 2\n",
      "3 2 2 3\n",
      "3 2 2 4\n",
      "3 2 3 1\n",
      "3 2 3 2\n",
      "3 2 3 3\n",
      "3 2 3 4\n",
      "3 2 4 1\n",
      "3 2 4 2\n",
      "3 2 4 3\n",
      "3 2 4 4\n",
      "3 3 1 1\n",
      "3 3 1 2\n",
      "3 3 1 3\n",
      "3 3 1 4\n",
      "3 3 2 1\n",
      "3 3 2 2\n",
      "3 3 2 3\n",
      "3 3 2 4\n",
      "3 3 3 1\n",
      "3 3 3 2\n",
      "3 3 3 3\n",
      "3 3 3 4\n",
      "3 3 4 1\n",
      "3 3 4 2\n",
      "3 3 4 3\n",
      "3 3 4 4\n",
      "3 4 1 1\n",
      "3 4 1 2\n",
      "3 4 1 3\n",
      "3 4 1 4\n",
      "3 4 2 1\n",
      "3 4 2 2\n",
      "3 4 2 3\n",
      "3 4 2 4\n",
      "3 4 3 1\n",
      "3 4 3 2\n",
      "3 4 3 3\n",
      "3 4 3 4\n",
      "3 4 4 1\n",
      "3 4 4 2\n",
      "3 4 4 3\n",
      "3 4 4 4\n",
      "4 1 1 1\n",
      "4 1 1 2\n",
      "4 1 1 3\n",
      "4 1 1 4\n",
      "4 1 2 1\n",
      "4 1 2 2\n",
      "4 1 2 3\n",
      "4 1 2 4\n",
      "4 1 3 1\n",
      "4 1 3 2\n",
      "4 1 3 3\n",
      "4 1 3 4\n",
      "4 1 4 1\n",
      "4 1 4 2\n",
      "4 1 4 3\n",
      "4 1 4 4\n",
      "4 2 1 1\n",
      "4 2 1 2\n",
      "4 2 1 3\n",
      "4 2 1 4\n",
      "4 2 2 1\n",
      "4 2 2 2\n",
      "4 2 2 3\n",
      "4 2 2 4\n",
      "4 2 3 1\n",
      "4 2 3 2\n",
      "4 2 3 3\n",
      "4 2 3 4\n",
      "4 2 4 1\n",
      "4 2 4 2\n",
      "4 2 4 3\n",
      "4 2 4 4\n",
      "4 3 1 1\n",
      "4 3 1 2\n",
      "4 3 1 3\n",
      "4 3 1 4\n",
      "4 3 2 1\n",
      "4 3 2 2\n",
      "4 3 2 3\n",
      "4 3 2 4\n",
      "4 3 3 1\n",
      "4 3 3 2\n",
      "4 3 3 3\n",
      "4 3 3 4\n",
      "4 3 4 1\n",
      "4 3 4 2\n",
      "4 3 4 3\n",
      "4 3 4 4\n",
      "4 4 1 1\n",
      "4 4 1 2\n",
      "4 4 1 3\n",
      "4 4 1 4\n",
      "4 4 2 1\n",
      "4 4 2 2\n",
      "4 4 2 3\n",
      "4 4 2 4\n",
      "4 4 3 1\n",
      "4 4 3 2\n",
      "4 4 3 3\n",
      "4 4 3 4\n",
      "4 4 4 1\n",
      "4 4 4 2\n",
      "4 4 4 3\n",
      "4 4 4 4\n"
     ]
    }
   ],
   "source": [
    "#8\n",
    "\n",
    "for i in range(1,5):\n",
    "    for j in range(1,5):\n",
    "        for k in range(1,5):\n",
    "            for l in range(1,5):\n",
    "               print(i,j,k,l)"
   ]
  },
  {
   "cell_type": "code",
   "execution_count": null,
   "id": "26d8a796",
   "metadata": {},
   "outputs": [
    {
     "name": "stdout",
     "output_type": "stream",
     "text": [
      "19\n",
      "10011\n"
     ]
    }
   ],
   "source": [
    "#9\n",
    "\n",
    "d_no = int(input(\"Enter number\"))\n",
    "b_no = 0\n",
    "print(d_no)\n",
    "a = \"\"\n",
    "while d_no!=0:\n",
    "    a += str(d_no%2)\n",
    "    d_no = d_no//2\n",
    "\n",
    "b_no = int(a[::-1])   \n",
    "print(b_no)\n"
   ]
  },
  {
   "cell_type": "code",
   "execution_count": 48,
   "id": "6e48e060",
   "metadata": {},
   "outputs": [
    {
     "name": "stdout",
     "output_type": "stream",
     "text": [
      "dsmp\n"
     ]
    }
   ],
   "source": [
    "#11\n",
    "word = \"data science mentorship program\"\n",
    "j=0\n",
    "short = \"\"\n",
    "for i in word :\n",
    "    if i==word[0]:\n",
    "        short+=i\n",
    "    elif i==\" \":\n",
    "        short+=word[j+1] \n",
    "    j+=1  \n",
    "\n",
    "print(short)         \n",
    "\n"
   ]
  },
  {
   "cell_type": "code",
   "execution_count": null,
   "id": "1facb3fa",
   "metadata": {},
   "outputs": [
    {
     "name": "stdout",
     "output_type": "stream",
     "text": [
      "camdatapux\n"
     ]
    }
   ],
   "source": [
    "#12\n",
    "\n",
    "first = \"campux\"\n",
    "second = \"data\"\n",
    "\n",
    "first = first[0:len(first)//2] + second + first[len(first)//2:]\n",
    "\n",
    "print(first)"
   ]
  },
  {
   "cell_type": "code",
   "execution_count": null,
   "id": "7b9a0ceb",
   "metadata": {},
   "outputs": [
    {
     "name": "stdout",
     "output_type": "stream",
     "text": [
      "yaivePNT\n"
     ]
    }
   ],
   "source": [
    "#13\n",
    "\n",
    "str1 = 'PyNaTive'\n",
    "cap = ''\n",
    "small = ''\n",
    "for i in str1:\n",
    "    if ord(i)>=97:\n",
    "        small+=i\n",
    "    else:\n",
    "        cap+=i\n",
    "\n",
    "print(small+cap)           "
   ]
  },
  {
   "cell_type": "code",
   "execution_count": 55,
   "id": "fd6d2784",
   "metadata": {},
   "outputs": [
    {
     "name": "stdout",
     "output_type": "stream",
     "text": [
      "104\n",
      "101\n",
      "108\n",
      "108\n",
      "111\n"
     ]
    }
   ],
   "source": [
    "for i in 'hello':\n",
    "    print(ord(i))"
   ]
  },
  {
   "cell_type": "code",
   "execution_count": 58,
   "id": "a15c201b",
   "metadata": {},
   "outputs": [
    {
     "name": "stdout",
     "output_type": "stream",
     "text": [
      "2510\n"
     ]
    }
   ],
   "source": [
    "#15\n",
    "\n",
    "word = 'I am  25 years and 10 months old'\n",
    "num = ''\n",
    "for i in word:\n",
    "    if i.isdigit():\n",
    "        num+=i\n",
    "\n",
    "print(num)        "
   ]
  },
  {
   "cell_type": "code",
   "execution_count": null,
   "id": "85652f32",
   "metadata": {},
   "outputs": [
    {
     "name": "stdout",
     "output_type": "stream",
     "text": [
      "6\n",
      "symmetrical\n"
     ]
    }
   ],
   "source": [
    "word = \"khokho\"\n",
    "print(len(word))\n",
    "if word[:len(word)//2]==word[len(word)//2:]:\n",
    "    print(\"symmetrical\")\n",
    "else:\n",
    "    print(\"Not\")"
   ]
  },
  {
   "cell_type": "code",
   "execution_count": 79,
   "id": "9957709d",
   "metadata": {},
   "outputs": [
    {
     "name": "stdout",
     "output_type": "stream",
     "text": [
      "['geeks', 'quiz', 'practice', 'code']\n",
      "['code', 'practice', 'quiz', 'geeks']\n",
      "code practice quiz geeks\n"
     ]
    }
   ],
   "source": [
    "words = \"geeks quiz practice code\"\n",
    "rev = words.split()\n",
    "print(rev)\n",
    "rev = rev[::-1]\n",
    "print(rev)\n",
    "print(\" \".join(rev))"
   ]
  }
 ],
 "metadata": {
  "kernelspec": {
   "display_name": "base",
   "language": "python",
   "name": "python3"
  },
  "language_info": {
   "codemirror_mode": {
    "name": "ipython",
    "version": 3
   },
   "file_extension": ".py",
   "mimetype": "text/x-python",
   "name": "python",
   "nbconvert_exporter": "python",
   "pygments_lexer": "ipython3",
   "version": "3.13.5"
  }
 },
 "nbformat": 4,
 "nbformat_minor": 5
}
