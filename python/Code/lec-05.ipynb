{
 "cells": [
  {
   "cell_type": "code",
   "execution_count": 5,
   "id": "c0f90f66",
   "metadata": {},
   "outputs": [
    {
     "name": "stdout",
     "output_type": "stream",
     "text": [
      "()\n",
      "<class 'str'>\n",
      "('hello',)\n",
      "(1, 2, 3, True, [1, 2, 3, 4], (6, 8))\n",
      "('h', 'e', 'l', 'l', 'o')\n"
     ]
    }
   ],
   "source": [
    "#Tuples\n",
    "\n",
    "#empty\n",
    "t1 = ()\n",
    "print(t1)\n",
    "\n",
    "#create a tuple with a single item\n",
    "\n",
    "t2 = ('hello')\n",
    "print(type(t2))\n",
    "t3 = ('hello',)\n",
    "print(t3)\n",
    "\n",
    "t4 = (1,2,3,True,[1,2,3,4],(6,8))\n",
    "print(t4)\n",
    "\n",
    "#using type coversion\n",
    "t6 = tuple('hello')\n",
    "print(t6)"
   ]
  },
  {
   "cell_type": "code",
   "execution_count": 7,
   "id": "1dc06b75",
   "metadata": {},
   "outputs": [
    {
     "name": "stdout",
     "output_type": "stream",
     "text": [
      "(1, 2, 3, 4, 5)\n",
      "3\n",
      "5\n"
     ]
    }
   ],
   "source": [
    "#Accesiing items\n",
    "\n",
    "#indexing\n",
    "\n",
    "t3 = (1,2,3,4,5)\n",
    "print(t3)\n",
    "\n",
    "print(t3[2])\n",
    "\n",
    "print(t3[-1])"
   ]
  },
  {
   "cell_type": "code",
   "execution_count": 9,
   "id": "a5f29573",
   "metadata": {},
   "outputs": [
    {
     "name": "stdout",
     "output_type": "stream",
     "text": [
      "(1, 3)\n",
      "(4, 3, 2, 1)\n"
     ]
    }
   ],
   "source": [
    "#slicing\n",
    "\n",
    "t3 = (1,2,3,4)\n",
    "\n",
    "print(t3[:4:2])\n",
    "print(t3[::-1])"
   ]
  },
  {
   "cell_type": "code",
   "execution_count": null,
   "id": "271c2741",
   "metadata": {},
   "outputs": [],
   "source": [
    "# editing\n",
    "\n",
    "t = (1,2,3,4)\n",
    "\n",
    "t3[0] = 100\n",
    "# immutable just like string"
   ]
  },
  {
   "cell_type": "code",
   "execution_count": 10,
   "id": "177b94e4",
   "metadata": {},
   "outputs": [
    {
     "name": "stdout",
     "output_type": "stream",
     "text": [
      "(1, 2, 3, 4)\n"
     ]
    },
    {
     "ename": "NameError",
     "evalue": "name 't3' is not defined",
     "output_type": "error",
     "traceback": [
      "\u001b[1;31m---------------------------------------------------------------------------\u001b[0m",
      "\u001b[1;31mNameError\u001b[0m                                 Traceback (most recent call last)",
      "Cell \u001b[1;32mIn[10], line 8\u001b[0m\n\u001b[0;32m      5\u001b[0m \u001b[38;5;28mprint\u001b[39m(t3)\n\u001b[0;32m      7\u001b[0m \u001b[38;5;28;01mdel\u001b[39;00m t3\n\u001b[1;32m----> 8\u001b[0m \u001b[38;5;28mprint\u001b[39m(t3)\n",
      "\u001b[1;31mNameError\u001b[0m: name 't3' is not defined"
     ]
    }
   ],
   "source": [
    "# deleting\n",
    "\n",
    "t3 = (1,2,3,4)\n",
    "\n",
    "print(t3)\n",
    "\n",
    "del t3\n",
    "print(t3)"
   ]
  },
  {
   "cell_type": "code",
   "execution_count": 11,
   "id": "93c7a0ef",
   "metadata": {},
   "outputs": [
    {
     "name": "stdout",
     "output_type": "stream",
     "text": [
      "(1, 2, 3, 4, 5, 6, 7, 8)\n",
      "(1, 2, 3, 4, 1, 2, 3, 4, 1, 2, 3, 4)\n",
      "True\n",
      "1\n",
      "2\n",
      "3\n",
      "4\n"
     ]
    }
   ],
   "source": [
    "#operations \n",
    "\n",
    "#add\n",
    "t1 = (1,2,3,4)\n",
    "t2 = (5,6,7,8)\n",
    "\n",
    "print(t1+t2)\n",
    "\n",
    "#mult\n",
    "print(t1*3)\n",
    "\n",
    "#membership\n",
    "\n",
    "print(1 in t1)\n",
    "#iteration\n",
    "for i in t1:\n",
    "    print(i)"
   ]
  },
  {
   "cell_type": "code",
   "execution_count": null,
   "id": "cd06b287",
   "metadata": {},
   "outputs": [
    {
     "name": "stdout",
     "output_type": "stream",
     "text": [
      "4\n",
      "10\n",
      "4\n",
      "[1, 2, 3, 4]\n"
     ]
    }
   ],
   "source": [
    "#function\n",
    "\n",
    "#len/sum/min/max/sorted\n",
    "\n",
    "t = (1,2,3,4)\n",
    "print(len(t))\n",
    "print(sum(t)) # only for integers\n",
    "print(max(t))\n",
    "print(sorted(t))"
   ]
  },
  {
   "cell_type": "code",
   "execution_count": 15,
   "id": "0948401f",
   "metadata": {},
   "outputs": [
    {
     "name": "stdout",
     "output_type": "stream",
     "text": [
      "1\n",
      "0\n",
      "3\n"
     ]
    },
    {
     "ename": "ValueError",
     "evalue": "tuple.index(x): x not in tuple",
     "output_type": "error",
     "traceback": [
      "\u001b[1;31m---------------------------------------------------------------------------\u001b[0m",
      "\u001b[1;31mValueError\u001b[0m                                Traceback (most recent call last)",
      "Cell \u001b[1;32mIn[15], line 8\u001b[0m\n\u001b[0;32m      6\u001b[0m \u001b[38;5;28mprint\u001b[39m(t\u001b[38;5;241m.\u001b[39mcount(\u001b[38;5;241m22\u001b[39m))\n\u001b[0;32m      7\u001b[0m \u001b[38;5;28mprint\u001b[39m(t\u001b[38;5;241m.\u001b[39mindex(\u001b[38;5;241m4\u001b[39m))\n\u001b[1;32m----> 8\u001b[0m \u001b[38;5;28mprint\u001b[39m(t\u001b[38;5;241m.\u001b[39mindex(\u001b[38;5;241m55\u001b[39m))\n",
      "\u001b[1;31mValueError\u001b[0m: tuple.index(x): x not in tuple"
     ]
    }
   ],
   "source": [
    "#count and index\n",
    "\n",
    "t = (1,2,3,4,5)\n",
    "\n",
    "print(t.count(5))\n",
    "print(t.count(22))\n",
    "print(t.index(4))\n",
    "print(t.index(55))"
   ]
  },
  {
   "cell_type": "code",
   "execution_count": null,
   "id": "631e4e27",
   "metadata": {},
   "outputs": [
    {
     "name": "stdout",
     "output_type": "stream",
     "text": [
      "()\n"
     ]
    }
   ],
   "source": [
    "# tuples are faster than list , generally immutable data types are faster than mutable data types and also takes less space\n"
   ]
  },
  {
   "cell_type": "code",
   "execution_count": null,
   "id": "bfb3cbb9",
   "metadata": {},
   "outputs": [
    {
     "name": "stdout",
     "output_type": "stream",
     "text": [
      "[1, 2, 3, 4, 5]\n",
      "[1, 2, 3, 4, 5]\n"
     ]
    }
   ],
   "source": [
    "a = [1,2,3]\n",
    "b = a #shares same memory location in list\n",
    "a.append(4)\n",
    "b.append(5)\n",
    "print(a)\n",
    "print(b)"
   ]
  },
  {
   "cell_type": "code",
   "execution_count": 20,
   "id": "a2ffe12a",
   "metadata": {},
   "outputs": [
    {
     "name": "stdout",
     "output_type": "stream",
     "text": [
      "(1, 2, 3, 4)\n",
      "(1, 2, 3)\n"
     ]
    }
   ],
   "source": [
    "a = (1,2,3)\n",
    "b = a\n",
    "\n",
    "a = a + (4,)\n",
    "print(a)\n",
    "print(b)"
   ]
  },
  {
   "cell_type": "code",
   "execution_count": 21,
   "id": "512fa409",
   "metadata": {},
   "outputs": [
    {
     "name": "stdout",
     "output_type": "stream",
     "text": [
      "1 2 3\n"
     ]
    }
   ],
   "source": [
    "#tuple unpacking\n",
    "a,b,c = (1,2,3)\n",
    "print(a,b,c)"
   ]
  },
  {
   "cell_type": "code",
   "execution_count": 22,
   "id": "5eb5398c",
   "metadata": {},
   "outputs": [
    {
     "name": "stdout",
     "output_type": "stream",
     "text": [
      "2 1\n"
     ]
    }
   ],
   "source": [
    "#swap\n",
    "a = 1\n",
    "b = 2\n",
    "a,b = b,a\n",
    "\n",
    "print(a,b)"
   ]
  },
  {
   "cell_type": "code",
   "execution_count": 23,
   "id": "6306baa8",
   "metadata": {},
   "outputs": [
    {
     "name": "stdout",
     "output_type": "stream",
     "text": [
      "1 2\n",
      "[3, 4]\n"
     ]
    }
   ],
   "source": [
    "a,b,*others = (1,2,3,4)\n",
    "print(a,b)\n",
    "print(others)"
   ]
  },
  {
   "cell_type": "code",
   "execution_count": 24,
   "id": "bbc5b3af",
   "metadata": {},
   "outputs": [
    {
     "data": {
      "text/plain": [
       "((1, 5), (2, 6), (3, 7), (4, 8))"
      ]
     },
     "execution_count": 24,
     "metadata": {},
     "output_type": "execute_result"
    }
   ],
   "source": [
    "#zipping tuples\n",
    "\n",
    "a = (1,2,3,4)\n",
    "b = (5,6,7,8)\n",
    "\n",
    "tuple(zip(a,b))"
   ]
  },
  {
   "cell_type": "markdown",
   "id": "014f12c6",
   "metadata": {},
   "source": [
    "SET\n"
   ]
  },
  {
   "cell_type": "code",
   "execution_count": 28,
   "id": "fedf1af9",
   "metadata": {},
   "outputs": [
    {
     "name": "stdout",
     "output_type": "stream",
     "text": [
      "set()\n",
      "<class 'set'>\n",
      "{1, 2, 3}\n",
      "{1, (1, 2, 3), 4.5, 'hello'}\n",
      "{1, 2, 3}\n",
      "{33, 2, 11}\n"
     ]
    },
    {
     "ename": "TypeError",
     "evalue": "unhashable type: 'list'",
     "output_type": "error",
     "traceback": [
      "\u001b[1;31m---------------------------------------------------------------------------\u001b[0m",
      "\u001b[1;31mTypeError\u001b[0m                                 Traceback (most recent call last)",
      "Cell \u001b[1;32mIn[28], line 19\u001b[0m\n\u001b[0;32m     17\u001b[0m \u001b[38;5;28mprint\u001b[39m(s5)\n\u001b[0;32m     18\u001b[0m \u001b[38;5;66;03m#mutable data type not allowed\u001b[39;00m\n\u001b[1;32m---> 19\u001b[0m s6 \u001b[38;5;241m=\u001b[39m {\u001b[38;5;241m1\u001b[39m,\u001b[38;5;241m2\u001b[39m,\u001b[38;5;241m3\u001b[39m,[\u001b[38;5;241m3\u001b[39m,\u001b[38;5;241m4\u001b[39m]}\n\u001b[0;32m     20\u001b[0m \u001b[38;5;28mprint\u001b[39m(s6)\n",
      "\u001b[1;31mTypeError\u001b[0m: unhashable type: 'list'"
     ]
    }
   ],
   "source": [
    "#empty\n",
    "s = set()\n",
    "print(s)\n",
    "print(type(s))\n",
    "#1D and 2D\n",
    "s1 = {1,2,3}\n",
    "print(s1)\n",
    "#s2 = {1,2,3,{4,5}}\n",
    "#homo and hetero\n",
    "s3 = {1,'hello',4.5,(1,2,3)}\n",
    "print(s3)\n",
    "#using type conversion\n",
    "s4 = set([1,2,3])\n",
    "print(s4)\n",
    "#duplicates not allowed\n",
    "s5={11,2,2,33,33,2}\n",
    "print(s5)\n",
    "#mutable data type not allowed\n",
    "s6 = {1,2,3,[3,4]}\n",
    "print(s6)"
   ]
  },
  {
   "cell_type": "code",
   "execution_count": 29,
   "id": "a69b8014",
   "metadata": {},
   "outputs": [
    {
     "name": "stdout",
     "output_type": "stream",
     "text": [
      "hello\n",
      "True\n"
     ]
    }
   ],
   "source": [
    "print(\"hello\")\n",
    "s1 = {1,2,3}\n",
    "s2 = {3,2,1}\n",
    "\n",
    "print(s1 == s2)"
   ]
  },
  {
   "cell_type": "code",
   "execution_count": null,
   "id": "0cead2ea",
   "metadata": {},
   "outputs": [],
   "source": [
    "#Accessing Items\n",
    "\n",
    "s1 = {1,2,3,4}\n",
    "# Cannot do slicing and indexing"
   ]
  },
  {
   "cell_type": "code",
   "execution_count": 30,
   "id": "d3a8b590",
   "metadata": {},
   "outputs": [
    {
     "name": "stdout",
     "output_type": "stream",
     "text": [
      "{1, 2, 3, 4, 5}\n",
      "{1, 2, 3, 4, 5, 6, 7, 8}\n"
     ]
    }
   ],
   "source": [
    "#Adding items\n",
    "s = {1,2,3,4}\n",
    "#add\n",
    "s.add(5)\n",
    "print(s)\n",
    "\n",
    "#update\n",
    "s.update([6,7,8])\n",
    "print(s)\n"
   ]
  },
  {
   "cell_type": "code",
   "execution_count": 34,
   "id": "c5dc17f7",
   "metadata": {},
   "outputs": [
    {
     "name": "stdout",
     "output_type": "stream",
     "text": [
      "{1, 2, 3, 4, 5}\n",
      "set()\n"
     ]
    }
   ],
   "source": [
    "#Deleting items\n",
    "\n",
    "#del\n",
    "s1 = {1,2,3,4,5}\n",
    "print(s1)\n",
    "#del s1 wholly\n",
    "#print(s1)\n",
    "\n",
    "#discard\n",
    "# s.discard(5)\n",
    "# s.discard(50) does not show error\n",
    " #print(s)\n",
    "\n",
    "#remove\n",
    "#s.remove(5)\n",
    "#s.remove(55) throw error\n",
    "#print(s)\n",
    "\n",
    "#pop\n",
    "# s.pop() delete random items\n",
    "\n",
    "#clear\n",
    "s.clear()\n",
    "print(s)"
   ]
  },
  {
   "cell_type": "code",
   "execution_count": null,
   "id": "b35b56a4",
   "metadata": {},
   "outputs": [
    {
     "name": "stdout",
     "output_type": "stream",
     "text": [
      "{1, 2, 3, 4, 5, 6, 7, 8}\n",
      "{4, 5}\n",
      "{1, 2, 3}\n",
      "{8, 6, 7}\n",
      "{1, 2, 3, 6, 7, 8}\n"
     ]
    }
   ],
   "source": [
    "# set operation\n",
    "s1 = {1,2,3,4,5}\n",
    "s2 = {4,5,6,7,8}\n",
    "#union(|)\n",
    "print(s1|s2)\n",
    "#intersection\n",
    "print(s1 & s2)\n",
    "#Difference\n",
    "print(s1 - s2)\n",
    "print(s2 - s1)\n",
    "#Symmetric Difference(^)\n",
    "print(s1^s2)\n",
    "#Membership Test\n",
    "print(1 in s1)\n",
    "print(1 not in s1)\n",
    "#Iteration\n",
    "print(i)\n"
   ]
  },
  {
   "cell_type": "code",
   "execution_count": 38,
   "id": "6804a004",
   "metadata": {},
   "outputs": [
    {
     "name": "stdout",
     "output_type": "stream",
     "text": [
      "6\n",
      "21\n"
     ]
    },
    {
     "data": {
      "text/plain": [
       "6"
      ]
     },
     "execution_count": 38,
     "metadata": {},
     "output_type": "execute_result"
    }
   ],
   "source": [
    "#len/sum/min/max/sorted\n",
    "s = {1,2,3,4,5,6}\n",
    "print(len(s))\n",
    "print(sum(s))\n",
    "min(s)\n",
    "max(s)"
   ]
  },
  {
   "cell_type": "code",
   "execution_count": 2,
   "id": "c5900211",
   "metadata": {},
   "outputs": [
    {
     "name": "stdout",
     "output_type": "stream",
     "text": [
      "{1, 2, 3, 4, 5, 6, 7, 8, 9}\n",
      "{8, 9, 6, 7}\n"
     ]
    }
   ],
   "source": [
    "#union/update\n",
    "s1 = {1,2,3,4,5}\n",
    "s2 = {6,7,8,9}\n",
    "\n",
    "s1.update(s2)\n",
    "\n",
    "print(s1)\n",
    "print(s2)"
   ]
  },
  {
   "cell_type": "code",
   "execution_count": 4,
   "id": "5b484851",
   "metadata": {},
   "outputs": [
    {
     "name": "stdout",
     "output_type": "stream",
     "text": [
      "{2, 3}\n",
      "{2, 3, 6, 7, 8, 9}\n"
     ]
    }
   ],
   "source": [
    "#intersection/intersection_update\n",
    "s1 = {1,2,3,4,5}\n",
    "s2 = {2,3,6,7,8,9}\n",
    "\n",
    "s1.intersection_update(s2)\n",
    "print(s1)\n",
    "print(s2)"
   ]
  },
  {
   "cell_type": "code",
   "execution_count": 5,
   "id": "7baab705",
   "metadata": {},
   "outputs": [
    {
     "name": "stdout",
     "output_type": "stream",
     "text": [
      "{1, 4, 5}\n",
      "{2, 3, 6, 7, 8, 9}\n"
     ]
    }
   ],
   "source": [
    "\n",
    "s1 = {1,2,3,4,5}\n",
    "s2 = {2,3,6,7,8,9}\n",
    "\n",
    "s1.difference_update(s2)\n",
    "\n",
    "print(s1)\n",
    "print(s2)"
   ]
  },
  {
   "cell_type": "code",
   "execution_count": 6,
   "id": "9bf07b46",
   "metadata": {},
   "outputs": [
    {
     "name": "stdout",
     "output_type": "stream",
     "text": [
      "{1, 2, 3, 6, 7, 8}\n"
     ]
    }
   ],
   "source": [
    "#symmetric_difference/symmetric_difference_update\n",
    "s1 = {1,2,3,4,5}\n",
    "s2 = {4,5,6,7,8}\n",
    "\n",
    "s1.symmetric_difference_update(s2)\n",
    "\n",
    "print(s1)"
   ]
  },
  {
   "cell_type": "code",
   "execution_count": 9,
   "id": "5780e0ea",
   "metadata": {},
   "outputs": [
    {
     "name": "stdout",
     "output_type": "stream",
     "text": [
      "False\n",
      "False\n",
      "False\n"
     ]
    }
   ],
   "source": [
    "#isdisjoint/issubset/issuperset\n",
    "\n",
    "s1 = {1,2,3,4}\n",
    "s2 = {3,4,5,6}\n",
    "\n",
    "print(s1.isdisjoint(s2))\n",
    "\n",
    "print(s1.issubset(s2))\n",
    "\n",
    "print(s1.issuperset(s2))"
   ]
  },
  {
   "cell_type": "code",
   "execution_count": 10,
   "id": "80a51a05",
   "metadata": {},
   "outputs": [
    {
     "name": "stdout",
     "output_type": "stream",
     "text": [
      "{1, 2, 3} {1, 2, 3}\n"
     ]
    }
   ],
   "source": [
    "#copy shallow copy\n",
    "\n",
    "s1 = {1,2,3}\n",
    "s2 = s1.copy()\n",
    "\n",
    "print(s1,s2)"
   ]
  },
  {
   "cell_type": "code",
   "execution_count": null,
   "id": "9a56b328",
   "metadata": {},
   "outputs": [
    {
     "data": {
      "text/plain": [
       "frozenset({1, 2, 3})"
      ]
     },
     "execution_count": 11,
     "metadata": {},
     "output_type": "execute_result"
    }
   ],
   "source": [
    "#frozenset - immutable version of set\n",
    "\n",
    "fs = frozenset([1,2,3])\n",
    "fs"
   ]
  },
  {
   "cell_type": "code",
   "execution_count": null,
   "id": "b7d585e8",
   "metadata": {},
   "outputs": [],
   "source": [
    "#what works and what does not\n",
    "#works -> all read function\n",
    "#doesn't work -> write operations"
   ]
  },
  {
   "cell_type": "code",
   "execution_count": 12,
   "id": "bbf039ba",
   "metadata": {},
   "outputs": [
    {
     "data": {
      "text/plain": [
       "frozenset({1, 2, frozenset({3, 5})})"
      ]
     },
     "execution_count": 12,
     "metadata": {},
     "output_type": "execute_result"
    }
   ],
   "source": [
    "# When to use\n",
    "#2D set\n",
    "fs = frozenset([1,2,frozenset([3,5])])\n",
    "fs"
   ]
  },
  {
   "cell_type": "code",
   "execution_count": 13,
   "id": "6658cb0c",
   "metadata": {},
   "outputs": [
    {
     "data": {
      "text/plain": [
       "{1, 2, 3, 4, 5, 6, 7, 8, 9, 10}"
      ]
     },
     "execution_count": 13,
     "metadata": {},
     "output_type": "execute_result"
    }
   ],
   "source": [
    "#Set comprehension\n",
    "\n",
    "# examples\n",
    "\n",
    "{i for i in range(1,11)}"
   ]
  },
  {
   "cell_type": "code",
   "execution_count": null,
   "id": "e15220f9",
   "metadata": {},
   "outputs": [],
   "source": [
    "#Dictionary\n",
    "\n",
    "#mutable, indexing has no meaning ,\n",
    "#keys can't be duplicted , keys can't be mutable items"
   ]
  }
 ],
 "metadata": {
  "kernelspec": {
   "display_name": "base",
   "language": "python",
   "name": "python3"
  },
  "language_info": {
   "codemirror_mode": {
    "name": "ipython",
    "version": 3
   },
   "file_extension": ".py",
   "mimetype": "text/x-python",
   "name": "python",
   "nbconvert_exporter": "python",
   "pygments_lexer": "ipython3",
   "version": "3.13.5"
  }
 },
 "nbformat": 4,
 "nbformat_minor": 5
}
