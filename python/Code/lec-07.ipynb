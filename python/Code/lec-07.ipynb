{
 "cells": [
  {
   "cell_type": "markdown",
   "id": "b82d9387",
   "metadata": {},
   "source": [
    "OOP\n"
   ]
  },
  {
   "cell_type": "code",
   "execution_count": 3,
   "id": "fa1f1a63",
   "metadata": {},
   "outputs": [
    {
     "data": {
      "text/plain": [
       "list"
      ]
     },
     "execution_count": 3,
     "metadata": {},
     "output_type": "execute_result"
    }
   ],
   "source": [
    "# syntax to create an object\n",
    "\n",
    "#  objectname = classname()\n",
    "l = list()\n",
    "type(l)"
   ]
  },
  {
   "cell_type": "code",
   "execution_count": 4,
   "id": "9aa5636d",
   "metadata": {},
   "outputs": [],
   "source": [
    "#object literal\n",
    "l = [1,2,3]"
   ]
  },
  {
   "cell_type": "code",
   "execution_count": null,
   "id": "423a10da",
   "metadata": {},
   "outputs": [],
   "source": [
    "class Atm:\n",
    "\n",
    "    # constructor\n",
    "    def __init__(self):\n",
    "        print(self)\n",
    "        self.pin = ''\n",
    "        self.balance = 0\n",
    "        print('mai toh execute hogyayaaa')\n",
    "        self.menu()\n",
    "\n",
    "    def menu(self):\n",
    "        user_input = input(\"\"\"\n",
    "        hi how can I help you ?\n",
    "              1. Press 1 to create pin\n",
    "              2.Press 2 to change pin\n",
    "              3.Press 3 to check balance\n",
    "              4.Press 4 to withdraw\n",
    "              5.Anything else to exit\n",
    "        \"\"\")    \n",
    "        if user_input == '1':\n",
    "            #create pin\n",
    "            self.create_pin()\n",
    "            print()\n",
    "        elif user_input == '2': \n",
    "            #change pin \n",
    "            self.change_pin()\n",
    "            pass\n",
    "        elif user_input == '3':   \n",
    "            #check balance\n",
    "            self.check_balance()\n",
    "            pass\n",
    "        elif user_input == '4': \n",
    "            self.withdraw()\n",
    "            pass\n",
    "        else :\n",
    "            exit()    \n",
    "\n",
    "    def create_pin(self):\n",
    "        user_pin = input('enter your pin')\n",
    "        self.pin = user_pin\n",
    "\n",
    "        user_balance = int(input('enter balance'))\n",
    "        self.balance - user_balance\n",
    "\n",
    "        print(\"pin created successfully\")\n",
    "        self.menu()\n",
    "\n",
    "    def change_pin(self):\n",
    "        old_pin = input(\"Enter old pin\")\n",
    "\n",
    "        if old_pin==self.pin :\n",
    "            #let him change the pin\n",
    "            new_pin = input(\"Enter new pin\")\n",
    "            self.pin = new_pin\n",
    "            print(\"pin change successful\")\n",
    "            self.menu()\n",
    "        else:\n",
    "            print(\"nai karne de sakta re baba\")\n",
    "            self.menu()\n",
    "\n",
    "    def check_balance(self):\n",
    "        user_pin = input(\"Enter your pin\")\n",
    "        if user_pin == self.pin:\n",
    "            print(\"Your balance is \",self.balance)\n",
    "        else:\n",
    "            print(\"nahi batunga\")\n",
    "            self.menu()\n",
    "\n",
    "    def withdraw(self):\n",
    "        user_pin = input(\"Enter your pin\")\n",
    "        if user_pin == self.pin:\n",
    "            #allow to withdraw\n",
    "            amount = int(input(\"Enter the amount\"))\n",
    "            if amount <= self.balance:\n",
    "                self.balance = self.balance - amount\n",
    "                print(\"Withdrawl successful\")\n",
    "            else:\n",
    "                print('Aukaat mai')\n",
    "        else:\n",
    "            print('saale chor hai tu')\n",
    "        self.menu()"
   ]
  },
  {
   "cell_type": "code",
   "execution_count": null,
   "id": "b7fb4f07",
   "metadata": {},
   "outputs": [
    {
     "name": "stdout",
     "output_type": "stream",
     "text": [
      "mai toh execute hogyayaaa\n",
      "pin created successfully\n",
      "\n"
     ]
    }
   ],
   "source": [
    "obj = Atm()\n",
    "\n",
    "# the golden rule of OOP is only objects can access methods or data in the classes\n",
    "# So to access a method from another method , we use self which is actually the object\n",
    "# address of self = address of obj\n",
    "# the object automatically passes to the parameters whenever we called a method\n",
    "# 'self' is convention means we can assign different name to it .\n",
    "# self point to always current object."
   ]
  },
  {
   "cell_type": "code",
   "execution_count": null,
   "id": "88eab354",
   "metadata": {},
   "outputs": [],
   "source": [
    "L = [1,2,3]\n",
    "len(L) # len is a function bcoz it is outside list class\n",
    "L.append(4) # it is method bcoz it is inside class 'list'"
   ]
  },
  {
   "cell_type": "code",
   "execution_count": null,
   "id": "acf078b3",
   "metadata": {},
   "outputs": [],
   "source": [
    "# Magic or Dunder mathod ->special -> superpower \n",
    "#syntax def __name__ (e.g constructor)\n",
    "\n",
    "\n",
    "\n"
   ]
  },
  {
   "cell_type": "code",
   "execution_count": 37,
   "id": "96874b9c",
   "metadata": {},
   "outputs": [
    {
     "name": "stdout",
     "output_type": "stream",
     "text": [
      "3/4\n",
      "1/2\n",
      "10/8\n",
      "3/8\n",
      "2/8\n",
      "6/4\n",
      "0.75\n"
     ]
    }
   ],
   "source": [
    "# Creating a new datatype\n",
    "\n",
    "# parameterized constructor\n",
    "class Fraction:\n",
    "    def __init__(self,x,y):\n",
    "        self.num = x\n",
    "        self.den = y\n",
    "        \n",
    "    def __str__(self):\n",
    "        return '{}/{}'.format(self.num,self.den)\n",
    "    \n",
    "    def __add__(self,other):\n",
    "        new_num = self.num*other.den + other.num*self.den\n",
    "        new_den = self.den*other.den\n",
    "        return '{}/{}'.format(new_num,new_den)\n",
    "    \n",
    "    def __sub__(self,other):\n",
    "        new_num = self.num*other.den - other.num*self.den\n",
    "        new_den = self.den*other.den\n",
    "        return '{}/{}'.format(new_num,new_den)\n",
    "    \n",
    "    def __mul__(self,other):\n",
    "        new_num = self.num* other.num\n",
    "        new_den = self.den*other.den\n",
    "        return '{}/{}'.format(new_num,new_den)\n",
    "    \n",
    "    def __truediv__(self,other):\n",
    "        new_num = self.num*other.den \n",
    "        new_den = self.den*other.num\n",
    "        return '{}/{}'.format(new_num,new_den)\n",
    "    \n",
    "    def convert_to_decimal(self):\n",
    "        return self.num/self.den\n",
    "\n",
    "fr1 = Fraction(3,4)\n",
    "fr2 = Fraction(1,2)\n",
    "print(fr1)\n",
    "print(fr2)\n",
    "print(fr1 + fr2)\n",
    "print(fr1 * fr2)\n",
    "print(fr1 - fr2)\n",
    "print(fr1 / fr2)\n",
    "print(fr1.convert_to_decimal())\n",
    "\n"
   ]
  },
  {
   "cell_type": "markdown",
   "id": "a9e7258e",
   "metadata": {},
   "source": [
    "HW\n"
   ]
  },
  {
   "cell_type": "code",
   "execution_count": 1,
   "id": "731500d1",
   "metadata": {},
   "outputs": [
    {
     "name": "stdout",
     "output_type": "stream",
     "text": [
      "Length of rec -  3\n",
      "Breadth of rec -  4\n",
      "perimeter -  14\n",
      "Area -  12\n"
     ]
    }
   ],
   "source": [
    "class Rectangle:\n",
    "\n",
    "    def __init__(self,x,y):\n",
    "        self.length = x\n",
    "        self.breadth = y\n",
    "        \n",
    "    def perimeter(self):\n",
    "        print(\"perimeter - \",2*(self.length+self.breadth))\n",
    "\n",
    "    def area(self):\n",
    "        print(\"Area - \",self.length*self.breadth)\n",
    "\n",
    "    def display(self):\n",
    "        print(\"Length of rec - \",self.length)\n",
    "        print(\"Breadth of rec - \",self.breadth)\n",
    "        self.perimeter()\n",
    "        self.area()\n",
    "\n",
    "r1 = Rectangle(3,4)\n",
    "r1.display()"
   ]
  },
  {
   "cell_type": "code",
   "execution_count": null,
   "id": "c5a71b0b",
   "metadata": {},
   "outputs": [
    {
     "ename": "_IncompleteInputError",
     "evalue": "incomplete input (2389462667.py, line 8)",
     "output_type": "error",
     "traceback": [
      "\u001b[1;36m  Cell \u001b[1;32mIn[3], line 8\u001b[1;36m\u001b[0m\n\u001b[1;33m    def deposit(self):\u001b[0m\n\u001b[1;37m                      ^\u001b[0m\n\u001b[1;31m_IncompleteInputError\u001b[0m\u001b[1;31m:\u001b[0m incomplete input\n"
     ]
    }
   ],
   "source": [
    "class BankAccount:\n",
    "\n",
    "    def __init__(self,accountnumber,name,balance):\n",
    "        self.accountnumber = accountnumber\n",
    "        self.name = name\n",
    "        self.balance = balance\n",
    "\n",
    "    def deposit(self):\n",
    "        acc_no = int(input(\"Enter accountnumber\"))\n",
    "        if acc_no == self.accountnumber :\n",
    "            amount = int(input(\"Enter amount\"))\n",
    "            balance += amount\n",
    "        else :\n",
    "            print(\"incorrect accountnumber\")"
   ]
  }
 ],
 "metadata": {
  "kernelspec": {
   "display_name": "base",
   "language": "python",
   "name": "python3"
  },
  "language_info": {
   "codemirror_mode": {
    "name": "ipython",
    "version": 3
   },
   "file_extension": ".py",
   "mimetype": "text/x-python",
   "name": "python",
   "nbconvert_exporter": "python",
   "pygments_lexer": "ipython3",
   "version": "3.13.5"
  }
 },
 "nbformat": 4,
 "nbformat_minor": 5
}
