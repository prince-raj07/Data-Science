{
 "cells": [
  {
   "cell_type": "markdown",
   "id": "be3d8ff9",
   "metadata": {},
   "source": [
    "### Some Theory\n",
    "\n",
    "##### Types of data used for I/O:\n",
    "- Text - '12345' as a sequence of unicode chars\n",
    "- Binary - 12345 as a sequence of bytes of its binary equivalent\n",
    "\n",
    "##### Hence there are 2 file types to deal with\n",
    "- Text files - All program files are text files\n",
    "- Binary Files - Images,music,video,exe files"
   ]
  },
  {
   "cell_type": "markdown",
   "id": "b11b8804",
   "metadata": {},
   "source": [
    "### How File I/O is done in most programming languages\n",
    "\n",
    "- Open a file\n",
    "- Read/Write data\n",
    "- Close the file"
   ]
  },
  {
   "cell_type": "markdown",
   "id": "8c55a9b6",
   "metadata": {},
   "source": [
    "Writing to a file\n"
   ]
  },
  {
   "cell_type": "code",
   "execution_count": 25,
   "id": "b7cf1fda",
   "metadata": {},
   "outputs": [
    {
     "ename": "ValueError",
     "evalue": "I/O operation on closed file.",
     "output_type": "error",
     "traceback": [
      "\u001b[1;31m---------------------------------------------------------------------------\u001b[0m",
      "\u001b[1;31mValueError\u001b[0m                                Traceback (most recent call last)",
      "Cell \u001b[1;32mIn[25], line 7\u001b[0m\n\u001b[0;32m      5\u001b[0m f\u001b[38;5;241m.\u001b[39mclose()\n\u001b[0;32m      6\u001b[0m \u001b[38;5;66;03m# since file is closed hence this will not work\u001b[39;00m\n\u001b[1;32m----> 7\u001b[0m f\u001b[38;5;241m.\u001b[39mwrite(\u001b[38;5;124m'\u001b[39m\u001b[38;5;124mheelo2\u001b[39m\u001b[38;5;124m'\u001b[39m)\n",
      "\u001b[1;31mValueError\u001b[0m: I/O operation on closed file."
     ]
    }
   ],
   "source": [
    "#case 1 - If the file is not present\n",
    "\n",
    "f = open('sample.txt','w')\n",
    "f.write('hello world')\n",
    "f.close()\n",
    "# since file is closed hence this will not work\n",
    "f.write('heelo2')"
   ]
  },
  {
   "cell_type": "code",
   "execution_count": 1,
   "id": "0cc53164",
   "metadata": {},
   "outputs": [],
   "source": [
    "#write multiline string\n",
    "f = open('sample2.txt','w')\n",
    "f.write('hello world')\n",
    "f.write('\\nhow are you')\n",
    "f.close()"
   ]
  },
  {
   "cell_type": "code",
   "execution_count": null,
   "id": "24cd2cb3",
   "metadata": {},
   "outputs": [],
   "source": [
    "# case 2 - if the file is already present\n",
    "f = open('sample.txt','w')\n",
    "f.write('salman khan')\n",
    "f.close()"
   ]
  },
  {
   "cell_type": "code",
   "execution_count": null,
   "id": "7e66c639",
   "metadata": {},
   "outputs": [],
   "source": [
    "# how exactly open() works ?\n"
   ]
  },
  {
   "cell_type": "code",
   "execution_count": null,
   "id": "2fa7b696",
   "metadata": {},
   "outputs": [],
   "source": [
    "#Problem with w mode\n",
    "# introducing the append mode\n",
    "\n",
    "f= open('sample.txt','a')\n",
    "f.write('\\nI am fine')\n",
    "f.close()"
   ]
  },
  {
   "cell_type": "code",
   "execution_count": 2,
   "id": "ca53d639",
   "metadata": {},
   "outputs": [],
   "source": [
    "# write lines\n",
    "\n",
    "L = ['hello\\n','hi\\n','how are you\\n','I am fine']\n",
    "\n",
    "f = open('sample2.txt','w')\n",
    "f.writelines(L)\n",
    "f.close()"
   ]
  },
  {
   "cell_type": "code",
   "execution_count": null,
   "id": "ed48b5a9",
   "metadata": {},
   "outputs": [
    {
     "name": "stdout",
     "output_type": "stream",
     "text": [
      "hello\n",
      "hi\n",
      "how are you\n",
      "I am fine\n"
     ]
    }
   ],
   "source": [
    "# reading from lines\n",
    "f = open('sample2.txt','r')\n",
    "s = f.read()\n",
    "print(s)\n",
    "f.close()"
   ]
  },
  {
   "cell_type": "code",
   "execution_count": null,
   "id": "6e55d344",
   "metadata": {},
   "outputs": [
    {
     "name": "stdout",
     "output_type": "stream",
     "text": [
      "hello\n",
      "hi\n",
      "h\n"
     ]
    }
   ],
   "source": [
    "#reading upto n chars\n",
    "f = open('sample2.txt','r')\n",
    "s = f.read(10)\n",
    "print(s)\n",
    "f.close()"
   ]
  },
  {
   "cell_type": "code",
   "execution_count": null,
   "id": "4634aee2",
   "metadata": {},
   "outputs": [
    {
     "name": "stdout",
     "output_type": "stream",
     "text": [
      "hello\n",
      "hi\n",
      " "
     ]
    }
   ],
   "source": [
    "# readline() ->to read line by line\n",
    "f = open('sample2.txt','r')\n",
    "print(f.readline(),end='')\n",
    "print(f.readline(),end=' ')\n",
    "f.close()"
   ]
  },
  {
   "cell_type": "code",
   "execution_count": null,
   "id": "72f0df26",
   "metadata": {},
   "outputs": [
    {
     "name": "stdout",
     "output_type": "stream",
     "text": [
      "hello\n",
      "hi\n",
      "how are you\n",
      "I am fine"
     ]
    }
   ],
   "source": [
    "#reading entire using readline\n",
    "f = open('sample2.txt','r')\n",
    "\n",
    "while True:\n",
    "\n",
    "    data = f.readline()\n",
    "\n",
    "    if data=='':\n",
    "        break\n",
    "    else:\n",
    "        print(data,end='')\n",
    "\n",
    "f.close()"
   ]
  },
  {
   "cell_type": "markdown",
   "id": "01e6fa55",
   "metadata": {},
   "source": [
    "### Using Context Manager (With)\n",
    "\n",
    "- It's a good idea to close a file after usage as it will free up the resources\n",
    "- If we dont close it, garbage collector would close it\n",
    "- with keyword closes the file as soon as the usage is over\n"
   ]
  },
  {
   "cell_type": "code",
   "execution_count": 3,
   "id": "6c08110c",
   "metadata": {},
   "outputs": [],
   "source": [
    "#with\n",
    "\n",
    "with open('sample2.txt','a') as f :\n",
    "    f.write('\\nselmon bhai')"
   ]
  },
  {
   "cell_type": "code",
   "execution_count": null,
   "id": "eaa7cf51",
   "metadata": {},
   "outputs": [
    {
     "name": "stdout",
     "output_type": "stream",
     "text": [
      "hello\n",
      "hi\n",
      "how are you\n",
      "I am fineselmon bhai\n",
      "selmon bhai\n"
     ]
    }
   ],
   "source": [
    "# try f.read() now\n",
    "with open('sample2.txt','r') as f :\n",
    "    print(f.read())"
   ]
  },
  {
   "cell_type": "code",
   "execution_count": null,
   "id": "327bef32",
   "metadata": {},
   "outputs": [
    {
     "name": "stdout",
     "output_type": "stream",
     "text": [
      "hello\n",
      "hi\n",
      "how are you\n"
     ]
    }
   ],
   "source": [
    "#moving within a file -> 10 char then  10  char\n",
    "with open('sample2.txt','r') as f :\n",
    "    print(f.read(10),end='')\n",
    "    print(f.read(10))"
   ]
  },
  {
   "cell_type": "code",
   "execution_count": null,
   "id": "e5ea933b",
   "metadata": {},
   "outputs": [
    {
     "name": "stdout",
     "output_type": "stream",
     "text": [
      "20\n"
     ]
    }
   ],
   "source": [
    "# benefit? -> to load a big file in memory\n",
    "big_L = ['helloworld' for i in range(20)]\n",
    "\n",
    "print(len(big_L))\n",
    "with open('big.txt','w') as f:\n",
    "  f.writelines(big_L)\n"
   ]
  },
  {
   "cell_type": "code",
   "execution_count": null,
   "id": "0f66e65d",
   "metadata": {},
   "outputs": [
    {
     "name": "stdout",
     "output_type": "stream",
     "text": [
      "helloworld\n",
      "helloworld\n",
      "helloworld\n",
      "helloworld\n",
      "helloworld\n",
      "helloworld\n",
      "helloworld\n",
      "helloworld\n",
      "helloworld\n",
      "helloworld\n",
      "helloworld\n",
      "helloworld\n",
      "helloworld\n",
      "helloworld\n",
      "helloworld\n",
      "helloworld\n",
      "helloworld\n",
      "helloworld\n",
      "helloworld\n",
      "helloworld\n"
     ]
    }
   ],
   "source": [
    "with open('big.txt','r') as f:\n",
    "  #print(f.read())\n",
    "  chunk_size = 10\n",
    "  s = f.read(chunk_size)\n",
    "  while len(s) > 0:\n",
    "    print(s,end='\\n')\n",
    "    s = f.read(chunk_size)"
   ]
  },
  {
   "cell_type": "code",
   "execution_count": null,
   "id": "b9b5286e",
   "metadata": {},
   "outputs": [
    {
     "name": "stdout",
     "output_type": "stream",
     "text": [
      "ow are you\n",
      "22\n",
      "hello\n",
      "hi\n",
      "h\n",
      "12\n"
     ]
    }
   ],
   "source": [
    "#seek and tell function\n",
    "\n",
    "with open('sample2.txt','r') as f:\n",
    "    f.seek(12)\n",
    "    print(f.read(10))\n",
    "    print(f.tell())\n",
    "    f.seek(0)\n",
    "    print(f.read(10))\n",
    "    print(f.tell())"
   ]
  },
  {
   "cell_type": "code",
   "execution_count": null,
   "id": "bbaf9f21",
   "metadata": {},
   "outputs": [],
   "source": [
    "# seek during write\n",
    "with open('sample.txt','w') as f:\n",
    "    f.write('hello')\n",
    "    f.seek(0)\n",
    "    f.write('x')"
   ]
  },
  {
   "cell_type": "markdown",
   "id": "1ddfc614",
   "metadata": {},
   "source": [
    "Problems with working in text mode\n",
    "\n",
    "- can't work with binary files like images\n",
    "- not good for other data types like int/float/list/tuples"
   ]
  },
  {
   "cell_type": "code",
   "execution_count": null,
   "id": "96721a33",
   "metadata": {},
   "outputs": [],
   "source": [
    "#working with binary file :\n",
    "with open('ss.png','rb') as f :\n",
    "    with open('ss1.png','wb') as wf:\n",
    "        wf.write(f.read())"
   ]
  },
  {
   "cell_type": "code",
   "execution_count": null,
   "id": "d7936c21",
   "metadata": {},
   "outputs": [
    {
     "ename": "TypeError",
     "evalue": "write() argument must be str, not int",
     "output_type": "error",
     "traceback": [
      "\u001b[1;31m---------------------------------------------------------------------------\u001b[0m",
      "\u001b[1;31mTypeError\u001b[0m                                 Traceback (most recent call last)",
      "Cell \u001b[1;32mIn[11], line 4\u001b[0m\n\u001b[0;32m      1\u001b[0m \u001b[38;5;66;03m#working with other dat types\u001b[39;00m\n\u001b[0;32m      3\u001b[0m \u001b[38;5;28;01mwith\u001b[39;00m \u001b[38;5;28mopen\u001b[39m(\u001b[38;5;124m'\u001b[39m\u001b[38;5;124msample.txt\u001b[39m\u001b[38;5;124m'\u001b[39m,\u001b[38;5;124m'\u001b[39m\u001b[38;5;124ma\u001b[39m\u001b[38;5;124m'\u001b[39m) \u001b[38;5;28;01mas\u001b[39;00m f:\n\u001b[1;32m----> 4\u001b[0m     f\u001b[38;5;241m.\u001b[39mwrite(\u001b[38;5;241m5\u001b[39m)\n",
      "\u001b[1;31mTypeError\u001b[0m: write() argument must be str, not int"
     ]
    }
   ],
   "source": [
    "#working with other dat types\n",
    "\n",
    "with open('sample.txt','a') as f:\n",
    "    f.write(5)"
   ]
  },
  {
   "cell_type": "code",
   "execution_count": null,
   "id": "b49aaf85",
   "metadata": {},
   "outputs": [],
   "source": [
    "# more complex data\n",
    "\n",
    "d = {\n",
    "    'name' : 'nitish',\n",
    "    'age' : 33,\n",
    "    'gender':'male'\n",
    "    }\n",
    "\n",
    "with open('sample.txt','a') as f :\n",
    "    f.write(str(d))"
   ]
  },
  {
   "cell_type": "markdown",
   "id": "2fc87083",
   "metadata": {},
   "source": [
    "Serialization and Deserialization\n",
    "\n",
    "- Serilization - process of converting data types to JSON format\n",
    "- Deserialization - process of converting JSON to python data types"
   ]
  },
  {
   "cell_type": "code",
   "execution_count": null,
   "id": "c7e9bf46",
   "metadata": {},
   "outputs": [],
   "source": [
    "# serialization using JSON module\n",
    "# list\n",
    "\n",
    "import json\n",
    "\n",
    "l = [1,2,3,4]\n",
    "\n",
    "with open('demo.json','w') as f:\n",
    "    json.dump(l,f)"
   ]
  },
  {
   "cell_type": "code",
   "execution_count": null,
   "id": "e22daa82",
   "metadata": {},
   "outputs": [],
   "source": [
    "# dict\n",
    "\n",
    "d = {\n",
    "    'name' : 'nitish',\n",
    "    'age' : 33,\n",
    "    'gender':'male'\n",
    "    }\n",
    "\n",
    "with open('demo.json','w') as f:\n",
    "    json.dump(d,f,indent = 4)"
   ]
  },
  {
   "cell_type": "code",
   "execution_count": null,
   "id": "766966d0",
   "metadata": {},
   "outputs": [
    {
     "name": "stdout",
     "output_type": "stream",
     "text": [
      "{'name': 'nitish', 'age': 33, 'gender': 'male'}\n",
      "<class 'dict'>\n"
     ]
    }
   ],
   "source": [
    "# deserializaation\n",
    "import json\n",
    "\n",
    "with open('demo.json','r') as f:\n",
    "    d = json.load(f)\n",
    "    print(d)\n",
    "    print(type(d))"
   ]
  },
  {
   "cell_type": "code",
   "execution_count": null,
   "id": "e581e675",
   "metadata": {},
   "outputs": [],
   "source": [
    "# serialize and deserialize tuple:\n",
    "# tuple load and dump as list\n",
    "import json\n",
    "\n",
    "t = (1,2,3,4,5)\n",
    "\n",
    "with open('demo1.json','w') as f:\n",
    "    json.dump(t,f)"
   ]
  },
  {
   "cell_type": "markdown",
   "id": "1512c5b4",
   "metadata": {},
   "source": [
    "Serializing and Deserializing custom objects"
   ]
  },
  {
   "cell_type": "code",
   "execution_count": 6,
   "id": "5d550f11",
   "metadata": {},
   "outputs": [],
   "source": [
    "class Person :\n",
    "\n",
    "    def __init__(self,fname,lname,age,gender):\n",
    "        self.fname = fname\n",
    "        self.lname = lname\n",
    "        self.age = age\n",
    "        self.gender = gender\n",
    "\n",
    "# format to printed in\n",
    "# -> Nitish Singh age -> 33 gender -> male"
   ]
  },
  {
   "cell_type": "code",
   "execution_count": 7,
   "id": "0139056e",
   "metadata": {},
   "outputs": [],
   "source": [
    "person = Person('Nitish','Singh',33,'male')"
   ]
  },
  {
   "cell_type": "code",
   "execution_count": 8,
   "id": "b47e6cd2",
   "metadata": {},
   "outputs": [],
   "source": [
    "# As a string\n",
    "import json\n",
    "\n",
    "def show_object(person):\n",
    "  if isinstance(person,Person):\n",
    "    return \"{} {} age -> {} gender -> {}\".format(person.fname,person.lname,person.age,person.gender)\n",
    "\n",
    "with open('demo2.json','w') as f:\n",
    "  json.dump(person,f,default=show_object)"
   ]
  },
  {
   "cell_type": "code",
   "execution_count": 33,
   "id": "e1e73787",
   "metadata": {},
   "outputs": [],
   "source": [
    "# As a dict\n",
    "import json\n",
    "\n",
    "def show_object(person):\n",
    "  if isinstance(person,Person):\n",
    "    return {'name':person.fname + ' ' + person.lname,'age':person.age,'gender':person.gender}\n",
    "\n",
    "with open('demo.json','w') as f:\n",
    "  json.dump(person,f,default=show_object,indent=4)"
   ]
  },
  {
   "cell_type": "code",
   "execution_count": 34,
   "id": "ebc27409",
   "metadata": {},
   "outputs": [
    {
     "name": "stdout",
     "output_type": "stream",
     "text": [
      "{'name': 'Nitish Singh', 'age': 33, 'gender': 'male'}\n",
      "<class 'dict'>\n"
     ]
    }
   ],
   "source": [
    "# deserializing\n",
    "import json\n",
    "\n",
    "with open('demo.json','r') as f:\n",
    "  d = json.load(f)\n",
    "  print(d)\n",
    "  print(type(d))"
   ]
  },
  {
   "cell_type": "markdown",
   "id": "ecc7da39",
   "metadata": {},
   "source": [
    "### Pickling\n",
    "`Pickling` is the process whereby a Python object hierarchy is converted into a byte stream, and `unpickling` is the inverse operation, whereby a byte stream (from a binary file or bytes-like object) is converted back into an object hierarchy.\n"
   ]
  },
  {
   "cell_type": "markdown",
   "id": "93fbf00b",
   "metadata": {},
   "source": [
    "### Pickle Vs Json\n",
    "\n",
    "- Pickle lets the user to store data in binary format. JSON lets the user store data in a human-readable text format."
   ]
  },
  {
   "cell_type": "code",
   "execution_count": 35,
   "id": "c544296a",
   "metadata": {},
   "outputs": [],
   "source": [
    "class Person:\n",
    "\n",
    "  def __init__(self,name,age):\n",
    "    self.name = name\n",
    "    self.age = age\n",
    "\n",
    "  def display_info(self):\n",
    "    print('Hi my name is',self.name,'and I am ',self.age,'years old')"
   ]
  },
  {
   "cell_type": "code",
   "execution_count": 36,
   "id": "234b4bcb",
   "metadata": {},
   "outputs": [],
   "source": [
    "p = Person('nitish',33)"
   ]
  },
  {
   "cell_type": "code",
   "execution_count": 37,
   "id": "78c5c827",
   "metadata": {},
   "outputs": [],
   "source": [
    "# pickle dump\n",
    "import pickle\n",
    "with open('person.pkl','wb') as f:\n",
    "  pickle.dump(p,f)"
   ]
  },
  {
   "cell_type": "code",
   "execution_count": 38,
   "id": "f71bd427",
   "metadata": {},
   "outputs": [
    {
     "name": "stdout",
     "output_type": "stream",
     "text": [
      "Hi my name is nitish and I am  33 years old\n"
     ]
    }
   ],
   "source": [
    "# pickle load\n",
    "import pickle\n",
    "with open('person.pkl','rb') as f:\n",
    "  p = pickle.load(f)\n",
    "\n",
    "p.display_info()"
   ]
  },
  {
   "cell_type": "markdown",
   "id": "a50cbb4b",
   "metadata": {},
   "source": [
    "HW"
   ]
  },
  {
   "cell_type": "code",
   "execution_count": null,
   "id": "172e466a",
   "metadata": {},
   "outputs": [
    {
     "name": "stdout",
     "output_type": "stream",
     "text": [
      "selmon bhai\n"
     ]
    }
   ],
   "source": [
    "#1\n",
    "def get_final_line(filename):\n",
    "    s = open(filename,'r')\n",
    "    str2 =\"\"\n",
    "    p = open(filename,'r')\n",
    "    while True:\n",
    "        str1 = s.readline()\n",
    "        \n",
    "        if str1=='':\n",
    "            return str2\n",
    "        else:\n",
    "            str2 = p.readline()\n",
    "         \n",
    "\n",
    "print(get_final_line(\"sample2.txt\"))"
   ]
  },
  {
   "cell_type": "code",
   "execution_count": 15,
   "id": "97829603",
   "metadata": {},
   "outputs": [
    {
     "name": "stdout",
     "output_type": "stream",
     "text": [
      "hello\n",
      "\n",
      "hi\n",
      "\n",
      "how are you\n",
      "\n",
      "I am fine\n",
      "\n",
      "selmon bhai\n"
     ]
    }
   ],
   "source": [
    "for  i in open('sample2.txt','r'):\n",
    "    print(i)"
   ]
  },
  {
   "cell_type": "code",
   "execution_count": 17,
   "id": "4464d545",
   "metadata": {},
   "outputs": [
    {
     "name": "stdout",
     "output_type": "stream",
     "text": [
      "{'a': 0, 'e': 0, 'i': 0, 'o': 0, 'u': 0}\n"
     ]
    },
    {
     "data": {
      "text/plain": [
       "{'a': 3, 'e': 4, 'i': 3, 'o': 4, 'u': 1}"
      ]
     },
     "execution_count": 17,
     "metadata": {},
     "output_type": "execute_result"
    }
   ],
   "source": [
    "#2\n",
    "def vowels_count(filename):\n",
    "    vowel = ['a','e','i','o','u']\n",
    "    dic = {i:0 for i in vowel}\n",
    "    print(dic)\n",
    "    for current_line in open(filename,'r'):\n",
    "        for i in current_line:\n",
    "            if i in vowel:\n",
    "                dic[i] += 1\n",
    "\n",
    "    return dic\n",
    "vowels_count(\"sample2.txt\")"
   ]
  },
  {
   "cell_type": "code",
   "execution_count": 27,
   "id": "ef873abe",
   "metadata": {},
   "outputs": [
    {
     "name": "stdout",
     "output_type": "stream",
     "text": [
      "['1\\t2', '3\\t4', '5\\t6', '7\\t8', '9\\t10']\n"
     ]
    }
   ],
   "source": [
    "f = open(\"hw1.txt\",'w')\n",
    "for i in range(1,11,2):\n",
    "    line = \"{}\\t{}\\n\".format(i,i+1)\n",
    "    f.writelines(line)\n",
    "f.close()\n",
    "\n",
    "with open(\"hw1.txt\",'r') as f :\n",
    "    lines = f.read().splitlines()\n",
    "    print(lines)\n",
    "\n",
    "total = 0\n",
    "\n",
    "with open(\"hw1.txt\",'w') as f:\n",
    "    for line in lines:\n",
    "        a,b = line.split(\"\\t\")\n",
    "        res = int(a)*int(b)\n",
    "        total += res\n",
    "        a = \"{}\\t{}\\t{}\\n\".format(a,b,res)\n",
    "        f.write(a)\n",
    "    f.write(\"total\\t\"+str(total))"
   ]
  },
  {
   "cell_type": "code",
   "execution_count": 40,
   "id": "34a26219",
   "metadata": {},
   "outputs": [],
   "source": [
    "def new_file(file1,file3):\n",
    "    f1 = open(file1,'r')\n",
    "    f2 = open(file3,'w')\n",
    "\n",
    "    lines = f1.read().splitlines()\n",
    "    for line in lines:\n",
    "        f2.write(line[::-1]+\"\\n\")\n",
    "\n",
    "    f1.close()\n",
    "    f2.close()\n",
    "\n",
    "f = open(\"hw4.txt\",'w')\n",
    "for i in range(2):\n",
    "    first = input(\"Ente first string\")\n",
    "    second = input(\"Ente second string\")\n",
    "    f.write(first+\" \"+second+\"\\n\")\n",
    "f.close()\n",
    "\n",
    "new_file(\"hw4.txt\",\"hw4-1.txt\")\n"
   ]
  },
  {
   "cell_type": "code",
   "execution_count": 2,
   "id": "d205234d",
   "metadata": {},
   "outputs": [
    {
     "name": "stdout",
     "output_type": "stream",
     "text": [
      "alice 3\n",
      "wonder 0\n",
      "natural 0\n"
     ]
    }
   ],
   "source": [
    "strings = \"\"\"Alice was beginning to get very tired of sitting by her sister\n",
    "            on the bank, and of having nothing to do:  once or twice she had\n",
    "            peeped into the book her sister was reading, but it had no\n",
    "            pictures or conversations in it, `and what is the use of a book,'\n",
    "            thought Alice `without pictures or conversation?'\n",
    "\n",
    "            So she was considering in her own mind (as well as she could,\n",
    "            for the hot day made her feel very sleepy and stupid), whether\n",
    "            the pleasure of making a daisy-chain would be worth the trouble\n",
    "            of getting up and picking the daisies, when suddenly a White\n",
    "            Rabbit with pink eyes ran close by her.\n",
    "\n",
    "            There was nothing so VERY remarkable in that; nor did Alice\n",
    "            think it so VERY much out of the way to hear the Rabbit say to\n",
    "            itself, `Oh dear!  Oh dear!  I shall be late!'  (when she thought\n",
    "            it over afterwards, it occurred to her that she ought to have\n",
    "            wondered at this, but at the time it all seemed quite natural);\n",
    "            but when the Rabbit actually TOOK A WATCH OUT OF ITS WAISTCOAT-\n",
    "            POCKET, and looked at it, and then hurried on, Alice started to\n",
    "            her feet, for it flashed across her mind that she had never\n",
    "            before seen a rabbit with either a waistcoat-pocket, or a watch to\n",
    "            take out of it, and burning with curiosity, she ran across the\n",
    "            field after it, and fortunately was just in time to see it pop\n",
    "            down a large rabbit-hole under the hedge.\"\"\"\n",
    "\n",
    "word_list = ['alice', 'wonder', 'natural']\n",
    "\n",
    "word_lists = dict()\n",
    "\n",
    "for i in strings.lower().split(' '):\n",
    "    try:\n",
    "        word_lists[i] += 1\n",
    "    except:\n",
    "        word_lists[i] = 1\n",
    "\n",
    "import pickle\n",
    "\n",
    "with open(\"word_counthw.pkl\",'wb') as f:\n",
    "    pickle.dump(word_lists,f)\n",
    "\n",
    "with open(\"word_counthw.pkl\",'rb') as f:\n",
    "    word_count = pickle.load(f)\n",
    "\n",
    "for s in word_list:\n",
    "    try:\n",
    "        print(s,word_count[s])\n",
    "    except :\n",
    "        print(s,0)\n"
   ]
  }
 ],
 "metadata": {
  "kernelspec": {
   "display_name": "base",
   "language": "python",
   "name": "python3"
  },
  "language_info": {
   "codemirror_mode": {
    "name": "ipython",
    "version": 3
   },
   "file_extension": ".py",
   "mimetype": "text/x-python",
   "name": "python",
   "nbconvert_exporter": "python",
   "pygments_lexer": "ipython3",
   "version": "3.13.5"
  }
 },
 "nbformat": 4,
 "nbformat_minor": 5
}
