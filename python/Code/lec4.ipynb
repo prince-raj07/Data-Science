{
 "cells": [
  {
   "cell_type": "code",
   "execution_count": null,
   "id": "ab39486f",
   "metadata": {},
   "outputs": [],
   "source": [
    "# List can store many type of data type at same time.\n",
    "# It is dynamic array in nature.\n",
    "#Speed of executiom is slow than array\n"
   ]
  },
  {
   "cell_type": "code",
   "execution_count": 1,
   "id": "8a68f535",
   "metadata": {},
   "outputs": [
    {
     "name": "stdout",
     "output_type": "stream",
     "text": [
      "2287042815552\n",
      "140716503774120\n",
      "140716503774152\n",
      "140716503774184\n",
      "140716503774120\n",
      "140716503774152\n",
      "140716503774184\n"
     ]
    }
   ],
   "source": [
    "# id function print address\n",
    "L  =[1,2,3]\n",
    "\n",
    "print(id(L))\n",
    "print(id(L[0]))\n",
    "print(id(L[1]))\n",
    "print(id(L[2]))\n",
    "print(id(1))\n",
    "print(id(2))\n",
    "print(id(3))"
   ]
  },
  {
   "cell_type": "code",
   "execution_count": 3,
   "id": "e7346281",
   "metadata": {},
   "outputs": [
    {
     "name": "stdout",
     "output_type": "stream",
     "text": [
      "[]\n",
      "[1, 2, 3, 4, 5]\n",
      "[1, 2, 3, [4, 5]]\n",
      "[[[1, 2], [3, 4]], [[5, 6], [7, 8]]]\n",
      "[1, True, 5.6, 'hekllo']\n",
      "['h', 'e', 'l', 'l', 'o', ' ', 'w', 'r', 'o', 'l', 'd']\n",
      "['1', '2', '3', '4']\n"
     ]
    }
   ],
   "source": [
    "print([])\n",
    "print([1,2,3,4,5])\n",
    "#2d\n",
    "print([1,2,3,[4,5]])\n",
    "#3d\n",
    "print([[[1,2],[3,4]],[[5,6],[7,8]]])\n",
    "print([1,True,5.6,\"hekllo\"])\n",
    "#Using type conversion\n",
    "print(list('hello wrold'))\n",
    "print(list('1234'))"
   ]
  },
  {
   "cell_type": "code",
   "execution_count": 10,
   "id": "dc289179",
   "metadata": {},
   "outputs": [
    {
     "name": "stdout",
     "output_type": "stream",
     "text": [
      "1\n",
      "5\n",
      "5\n",
      "3\n",
      "4\n",
      "5\n"
     ]
    }
   ],
   "source": [
    "# Indexing\n",
    "L = [1,2,3,4,5]\n",
    "#positive\n",
    "print(L[0])\n",
    "print(L[4])\n",
    "#negative\n",
    "print(L[-1])\n",
    "print(L[-3])\n",
    "print(L[-2])\n",
    "\n",
    "l = [1,2,3,4,[5,6]]\n",
    "print(l[-1][0])"
   ]
  },
  {
   "cell_type": "code",
   "execution_count": 11,
   "id": "c2d8bfd1",
   "metadata": {},
   "outputs": [
    {
     "name": "stdout",
     "output_type": "stream",
     "text": [
      "5\n"
     ]
    }
   ],
   "source": [
    "l = [[[1,2],[3,4]],[[5,6],[7,8]]]\n",
    "print(l[1][0][0])"
   ]
  },
  {
   "cell_type": "code",
   "execution_count": 9,
   "id": "22a3a160",
   "metadata": {},
   "outputs": [
    {
     "name": "stdout",
     "output_type": "stream",
     "text": [
      "[4, 3, 2, 1]\n",
      "[6, 5, 4, 3, 2, 1]\n",
      "[]\n"
     ]
    }
   ],
   "source": [
    "# Slicing\n",
    "L = [1,2,3,4,5,6]\n",
    "print(L[-3:-7:-1])\n",
    "\n",
    "print(L[::-1])\n",
    "\n",
    "print(L[1:4:-1])"
   ]
  },
  {
   "cell_type": "code",
   "execution_count": 21,
   "id": "2fd14d64",
   "metadata": {},
   "outputs": [
    {
     "name": "stdout",
     "output_type": "stream",
     "text": [
      "[1, 2, 3, 4, 5, [6, 7, 8], True]\n"
     ]
    }
   ],
   "source": [
    "# Adding item to a list\n",
    "\n",
    "#append\n",
    "l =[1,2,3,4,5]\n",
    "l.append([6,7,8])\n",
    "l.append(True)\n",
    "print(l)"
   ]
  },
  {
   "cell_type": "code",
   "execution_count": 22,
   "id": "12845ce5",
   "metadata": {},
   "outputs": [
    {
     "name": "stdout",
     "output_type": "stream",
     "text": [
      "[1, 2, 3, 4, 5, 6, 7, 8, 'd', 'e', 'l', 'h', 'i']\n"
     ]
    }
   ],
   "source": [
    "# extend\n",
    "l =[1,2,3,4,5]\n",
    "l.extend([6,7,8])\n",
    "l.extend('delhi')\n",
    "print(l)"
   ]
  },
  {
   "cell_type": "code",
   "execution_count": 23,
   "id": "f8bf5478",
   "metadata": {},
   "outputs": [
    {
     "name": "stdout",
     "output_type": "stream",
     "text": [
      "[1, 100, 2, 3, 4, 5]\n"
     ]
    }
   ],
   "source": [
    "#insert\n",
    "l = [1,2,3,4,5]\n",
    "l.insert(1,100)\n",
    "print(l)"
   ]
  },
  {
   "cell_type": "code",
   "execution_count": null,
   "id": "5d9366f8",
   "metadata": {},
   "outputs": [
    {
     "name": "stdout",
     "output_type": "stream",
     "text": [
      "[1, 200, 300, 400, 500]\n"
     ]
    }
   ],
   "source": [
    "#Editing item in a  list\n",
    "\n",
    "l = [1,2,3,4,5]\n",
    "l[-1] = 500\n",
    "\n",
    "# editing with slicing\n",
    "l[1:4] = [200,300,400]\n",
    "\n",
    "print(l)"
   ]
  },
  {
   "cell_type": "code",
   "execution_count": 27,
   "id": "8979dc2d",
   "metadata": {},
   "outputs": [
    {
     "name": "stdout",
     "output_type": "stream",
     "text": [
      "[1, 2, 3, 4, 5, 6]\n",
      "[1, 2, 3, 4, 5]\n",
      "[1, 4, 5]\n"
     ]
    },
    {
     "ename": "NameError",
     "evalue": "name 'l' is not defined",
     "output_type": "error",
     "traceback": [
      "\u001b[1;31m---------------------------------------------------------------------------\u001b[0m",
      "\u001b[1;31mNameError\u001b[0m                                 Traceback (most recent call last)",
      "Cell \u001b[1;32mIn[27], line 12\u001b[0m\n\u001b[0;32m     10\u001b[0m \u001b[38;5;28mprint\u001b[39m (l)\n\u001b[0;32m     11\u001b[0m \u001b[38;5;28;01mdel\u001b[39;00m l\n\u001b[1;32m---> 12\u001b[0m \u001b[38;5;28mprint\u001b[39m(l)\n",
      "\u001b[1;31mNameError\u001b[0m: name 'l' is not defined"
     ]
    }
   ],
   "source": [
    "# Deleting  \n",
    "\n",
    "#del \n",
    "l = [1,2,3,4,5,6]\n",
    "print(l)\n",
    "#indexing\n",
    "del l[-1]\n",
    "print(l)\n",
    "del l[1:3]\n",
    "print (l)\n",
    "del l\n",
    "print(l)"
   ]
  },
  {
   "cell_type": "code",
   "execution_count": 28,
   "id": "21405aca",
   "metadata": {},
   "outputs": [
    {
     "name": "stdout",
     "output_type": "stream",
     "text": [
      "[1, 2, 3, 4]\n"
     ]
    }
   ],
   "source": [
    "# remove\n",
    "\n",
    "l = [1,2,3,4,5]\n",
    "\n",
    "l.remove(5)\n",
    "print(l)"
   ]
  },
  {
   "cell_type": "code",
   "execution_count": null,
   "id": "732745d1",
   "metadata": {},
   "outputs": [
    {
     "name": "stdout",
     "output_type": "stream",
     "text": [
      "[2, 3, 4]\n"
     ]
    }
   ],
   "source": [
    "#pop\n",
    "\n",
    "l = [1,2,3,4,5]\n",
    "\n",
    "l.pop(0)\n",
    "l.pop() \n",
    "print(l)"
   ]
  },
  {
   "cell_type": "code",
   "execution_count": 31,
   "id": "88dcc3b9",
   "metadata": {},
   "outputs": [
    {
     "name": "stdout",
     "output_type": "stream",
     "text": [
      "[]\n"
     ]
    }
   ],
   "source": [
    "#clear \n",
    "\n",
    "l = [1,2,3,4,5]\n",
    "\n",
    "l.clear()\n",
    "\n",
    "print(l)"
   ]
  },
  {
   "cell_type": "code",
   "execution_count": 33,
   "id": "5881592d",
   "metadata": {},
   "outputs": [
    {
     "name": "stdout",
     "output_type": "stream",
     "text": [
      "[1, 2, 3, 4, 5, 6, 7, 8]\n",
      "[1, 2, 3, 4, 1, 2, 3, 4, 1, 2, 3, 4]\n"
     ]
    }
   ],
   "source": [
    "#operations on list\n",
    "\n",
    "#arithmetic (+,*)\n",
    "\n",
    "l1 = [1,2,3,4]\n",
    "l2 = [5,6,7,8]\n",
    "\n",
    "print(l1+l2) #merging\n",
    "\n",
    "print(l1*3)\n"
   ]
  },
  {
   "cell_type": "code",
   "execution_count": 10,
   "id": "895a7ed9",
   "metadata": {},
   "outputs": [
    {
     "name": "stdout",
     "output_type": "stream",
     "text": [
      "False\n",
      "True\n"
     ]
    }
   ],
   "source": [
    "#membership\n",
    "\n",
    "l1 = [1,2,3,4,5]\n",
    "l2 = [1,2,3,4,5,[6,8]]\n",
    "\n",
    "print(5 not in l1)\n",
    "print(6 in l2[5])"
   ]
  },
  {
   "cell_type": "code",
   "execution_count": 38,
   "id": "23c2c91c",
   "metadata": {},
   "outputs": [
    {
     "name": "stdout",
     "output_type": "stream",
     "text": [
      "1\n",
      "2\n",
      "3\n",
      "45\n",
      "5\n",
      "1\n",
      "2\n",
      "3\n",
      "4\n",
      "[5, 6]\n"
     ]
    }
   ],
   "source": [
    "#loops\n",
    "l1 = [1,2,3,45,5]\n",
    "l2 = [1,2,3,4,[5,6]]\n",
    "for i in l1:\n",
    "    print(i)\n",
    "for i in l2:\n",
    "    print(i)"
   ]
  },
  {
   "cell_type": "code",
   "execution_count": 13,
   "id": "3dfe2231",
   "metadata": {},
   "outputs": [
    {
     "name": "stdout",
     "output_type": "stream",
     "text": [
      "5\n",
      "0\n",
      "7\n",
      "[7, 5, 2, 1, 0]\n"
     ]
    }
   ],
   "source": [
    "#list functions\n",
    "\n",
    "#len/min/max/sorted\n",
    "\n",
    "l = [2,1,5,7,0]\n",
    "\n",
    "print(len(l))\n",
    "print(min(l))\n",
    "print(max(l))\n",
    "print(sorted(l,reverse=True))"
   ]
  },
  {
   "cell_type": "code",
   "execution_count": 15,
   "id": "490e5383",
   "metadata": {},
   "outputs": [
    {
     "name": "stdout",
     "output_type": "stream",
     "text": [
      "3\n"
     ]
    },
    {
     "data": {
      "text/plain": [
       "0"
      ]
     },
     "execution_count": 15,
     "metadata": {},
     "output_type": "execute_result"
    }
   ],
   "source": [
    "#count\n",
    "\n",
    "l=[1,2,1,3,4,1]\n",
    "\n",
    "print(l.count(1))\n",
    "l.count(7)"
   ]
  },
  {
   "cell_type": "code",
   "execution_count": 42,
   "id": "cc351766",
   "metadata": {},
   "outputs": [
    {
     "data": {
      "text/plain": [
       "3"
      ]
     },
     "execution_count": 42,
     "metadata": {},
     "output_type": "execute_result"
    }
   ],
   "source": [
    "#index\n",
    "l=[1,2,3,4,5,6]\n",
    "l.index(4)"
   ]
  },
  {
   "cell_type": "code",
   "execution_count": 43,
   "id": "08c2297b",
   "metadata": {},
   "outputs": [
    {
     "name": "stdout",
     "output_type": "stream",
     "text": [
      "[8, 7, 5, 1, 2]\n"
     ]
    }
   ],
   "source": [
    "#reverse\n",
    "l = [2,1,5,7,8]\n",
    "#permanently reverses the list\n",
    "l.reverse()\n",
    "print(l)"
   ]
  },
  {
   "cell_type": "code",
   "execution_count": 48,
   "id": "4b8c40a3",
   "metadata": {},
   "outputs": [
    {
     "name": "stdout",
     "output_type": "stream",
     "text": [
      "[2, 3, 4, 8, 1, 6]\n",
      "[1, 2, 3, 4, 6, 8]\n",
      "[2, 3, 4, 8, 1, 6]\n",
      "[1, 2, 3, 4, 6, 8]\n"
     ]
    }
   ],
   "source": [
    "#sort (vs sorted)\n",
    "\n",
    "l = [2,3,4,8,1,6]\n",
    "\n",
    "print(l)\n",
    "print(sorted(l))\n",
    "print(l)\n",
    "l.sort()\n",
    "print(l)"
   ]
  },
  {
   "cell_type": "code",
   "execution_count": 49,
   "id": "a2c5adfb",
   "metadata": {},
   "outputs": [
    {
     "name": "stdout",
     "output_type": "stream",
     "text": [
      "[2, 1, 5, 7, 8]\n",
      "2287042845696\n",
      "[2, 1, 5, 7, 8]\n",
      "2287043596224\n"
     ]
    }
   ],
   "source": [
    "#copy\n",
    "\n",
    "l = [2,1,5,7,8]\n",
    "print(l)\n",
    "print(id(l))\n",
    "l1 = l.copy()\n",
    "print(l1)\n",
    "print(id(l1))"
   ]
  },
  {
   "cell_type": "code",
   "execution_count": 50,
   "id": "f19d2394",
   "metadata": {},
   "outputs": [
    {
     "name": "stdout",
     "output_type": "stream",
     "text": [
      "[1, 2, 3, 4, 5, 6, 7, 8, 9, 10]\n"
     ]
    }
   ],
   "source": [
    "#list comprehension\n",
    "\n",
    "# add 1 to 10 number to a list\n",
    "\n",
    "l = [i for i in range(1,11)]\n",
    "print(l)"
   ]
  },
  {
   "cell_type": "code",
   "execution_count": 51,
   "id": "6166f767",
   "metadata": {},
   "outputs": [
    {
     "data": {
      "text/plain": [
       "[-6, -9, -12]"
      ]
     },
     "execution_count": 51,
     "metadata": {},
     "output_type": "execute_result"
    }
   ],
   "source": [
    "#scaler multiplication on a vector\n",
    "v = [2,3,4]\n",
    "\n",
    "s = -3\n",
    "\n",
    "[s*i for i in v]"
   ]
  },
  {
   "cell_type": "code",
   "execution_count": 52,
   "id": "21d2eedc",
   "metadata": {},
   "outputs": [
    {
     "data": {
      "text/plain": [
       "[1, 4, 9, 16, 25]"
      ]
     },
     "execution_count": 52,
     "metadata": {},
     "output_type": "execute_result"
    }
   ],
   "source": [
    "#add squares\n",
    "\n",
    "l = [1,2,3,4,5]\n",
    "\n",
    "[i**2 for i in l]"
   ]
  },
  {
   "cell_type": "code",
   "execution_count": 54,
   "id": "f7a0b58e",
   "metadata": {},
   "outputs": [
    {
     "data": {
      "text/plain": [
       "[5, 10, 15, 20, 25, 30, 35, 40, 45, 50]"
      ]
     },
     "execution_count": 54,
     "metadata": {},
     "output_type": "execute_result"
    }
   ],
   "source": [
    "#Print all numbers divisible by 5 in the range of 1 to 50\n",
    "\n",
    "[i for i in range(1,51) if i%5==0]"
   ]
  },
  {
   "cell_type": "code",
   "execution_count": 55,
   "id": "02e3ca35",
   "metadata": {},
   "outputs": [
    {
     "data": {
      "text/plain": [
       "['apple']"
      ]
     },
     "execution_count": 55,
     "metadata": {},
     "output_type": "execute_result"
    }
   ],
   "source": [
    "#nested if with list comprehension\n",
    "basket = ['apple','guave','cherry','banana']\n",
    "my_fruits = ['apple','kiwi','grapes','banna']\n",
    "             \n",
    "             #add new list from my_fruits and items if the fruit exists in basket and also starts with 'a]\n",
    "\n",
    "[fruit for fruit in my_fruits  if fruit in basket if fruit.startswith('a')]          "
   ]
  },
  {
   "cell_type": "code",
   "execution_count": 20,
   "id": "6017cab2",
   "metadata": {},
   "outputs": [
    {
     "data": {
      "text/plain": [
       "[0, 0, 0, 0]"
      ]
     },
     "execution_count": 20,
     "metadata": {},
     "output_type": "execute_result"
    }
   ],
   "source": [
    "# Write a program to add 2 list indexwise\n",
    "\n",
    "l1 = [1,2,3,4]\n",
    "l2 = [-1,-2,-3,-4]\n",
    "\n",
    "list(zip(l1,l2))\n",
    "\n",
    "[i+j for i,j in zip(l1,l2)]"
   ]
  },
  {
   "cell_type": "code",
   "execution_count": 23,
   "id": "47a13f56",
   "metadata": {},
   "outputs": [
    {
     "name": "stdout",
     "output_type": "stream",
     "text": [
      "11\n",
      "22\n",
      "33\n",
      "44\n",
      "0 11\n",
      "1 22\n",
      "2 33\n",
      "3 44\n"
     ]
    }
   ],
   "source": [
    "# 2 ways to itereate a list\n",
    "\n",
    "#itemwise\n",
    "\n",
    "l=[11,22,33,44]\n",
    "\n",
    "for i in l:\n",
    "    print(i)\n",
    "\n",
    "#indexwise\n",
    "\n",
    "for i in range(0,len(l)):\n",
    "    print(i,l[i])"
   ]
  },
  {
   "cell_type": "markdown",
   "id": "3b88d8bb",
   "metadata": {},
   "source": [
    "HW"
   ]
  },
  {
   "cell_type": "code",
   "execution_count": 24,
   "id": "b64766ae",
   "metadata": {},
   "outputs": [
    {
     "data": {
      "text/plain": [
       "[('M', 'y'), ('na', 'me0'), ('i', 's'), ('kh', 'an')]"
      ]
     },
     "execution_count": 24,
     "metadata": {},
     "output_type": "execute_result"
    }
   ],
   "source": [
    "#1\n",
    "\n",
    "l1 = [\"M\",\"na\",\"i\",\"kh\"]\n",
    "l2 = [\"y\",\"me0\",\"s\",\"an\"]\n",
    "\n",
    "list(zip(l1,l2))\n"
   ]
  },
  {
   "cell_type": "code",
   "execution_count": 30,
   "id": "148d04bf",
   "metadata": {},
   "outputs": [
    {
     "name": "stdout",
     "output_type": "stream",
     "text": [
      "[10, 20, [300, 400, [5000, 6000, 7000], 500], 30, 40]\n"
     ]
    }
   ],
   "source": [
    "#2\n",
    "\n",
    "list1 = [10, 20, [300, 400, [5000, 6000], 500], 30, 40]\n",
    "\n",
    "list1[2][2].insert(2,7000)\n",
    "print(list1)"
   ]
  },
  {
   "cell_type": "code",
   "execution_count": 33,
   "id": "4bbae184",
   "metadata": {},
   "outputs": [
    {
     "name": "stdout",
     "output_type": "stream",
     "text": [
      "[('Jelly Belly', 10), ('Kit Kat', 20), ('Double Bubble', 34), ('Milky Way', 74), ('Three Musketeers', 32)]\n",
      "Jelly Belly - 10\n",
      "Kit Kat - 20\n",
      "Double Bubble - 34\n",
      "Milky Way - 74\n",
      "Three Musketeers - 32\n"
     ]
    },
    {
     "data": {
      "text/plain": [
       "[None, None, None, None, None]"
      ]
     },
     "execution_count": 33,
     "metadata": {},
     "output_type": "execute_result"
    }
   ],
   "source": [
    "# 3\n",
    "\n",
    "candy_list = ['Jelly Belly','Kit Kat','Double Bubble','Milky Way','Three Musketeers']\n",
    "no_of_items = [10,20,34,74,32]\n",
    "\n",
    "l = list(zip(candy_list,no_of_items))\n",
    "\n",
    "print(l)\n",
    "\n",
    "[print(i,\"-\",j) for i,j in l]\n"
   ]
  },
  {
   "cell_type": "code",
   "execution_count": 42,
   "id": "66732689",
   "metadata": {},
   "outputs": [
    {
     "name": "stdout",
     "output_type": "stream",
     "text": [
      "[11, 13, 16, 20, 25, 31]\n"
     ]
    }
   ],
   "source": [
    "#4\n",
    "\n",
    "list1 = [11,2,3,4,5,6]\n",
    "\n",
    "l = []\n",
    "\n",
    "for i in range(0,len(list1)):\n",
    "    a = 0\n",
    "    for j in range(0,i+1):\n",
    "        a += list1[j]\n",
    "    l.append(a)    \n",
    "\n",
    "print(l)"
   ]
  },
  {
   "cell_type": "code",
   "execution_count": 47,
   "id": "0fbba409",
   "metadata": {},
   "outputs": [
    {
     "name": "stdout",
     "output_type": "stream",
     "text": [
      "[22, 20, 16, 10, 23]\n"
     ]
    }
   ],
   "source": [
    "#5\n",
    "\n",
    "list1 = [2,4,6,10,1]\n",
    "l=[]\n",
    "for i in list1:\n",
    "    a = 0\n",
    "    for j in list1:\n",
    "        if j>i:\n",
    "            a+=j\n",
    "    l.append(a+i)     \n",
    "\n",
    "print(l)  \n"
   ]
  },
  {
   "cell_type": "code",
   "execution_count": 49,
   "id": "5819b91d",
   "metadata": {},
   "outputs": [
    {
     "data": {
      "text/plain": [
       "[34, 67, 89]"
      ]
     },
     "execution_count": 49,
     "metadata": {},
     "output_type": "execute_result"
    }
   ],
   "source": [
    "#6\n",
    "num1 = [23,45,67,78,89,34]\n",
    "num2 = [34,89,55,56,39,67]\n",
    "\n",
    "sorted([i for i in num1 if i in num2])"
   ]
  },
  {
   "cell_type": "code",
   "execution_count": 70,
   "id": "9bc5aa61",
   "metadata": {},
   "outputs": [
    {
     "name": "stdout",
     "output_type": "stream",
     "text": [
      "[2, 6, 120, 0, 1, 1]\n",
      "['456', '23fg', '098d', '1ac21', '1', 'kls']\n"
     ]
    }
   ],
   "source": [
    "l1 = ['1ac21', '23fg', '456', '098d','1','kls']\n",
    "l=[]\n",
    "for i in l1:\n",
    "    a=1\n",
    "    if i.isalnum():\n",
    "        for j in i:\n",
    "            if j.isdigit():\n",
    "                a*=int(j)\n",
    "    l.append(a)\n",
    "\n",
    "print(l)   \n",
    "\n",
    "for i in range(0,len(l)):\n",
    "    for j in range(0,len(l)):\n",
    "        if l[i]>l[j]:\n",
    "            l1[i],l1[j]=l1[j],l1[i]\n",
    "\n",
    "\n",
    "print(l1)"
   ]
  },
  {
   "cell_type": "code",
   "execution_count": null,
   "id": "b1743eee",
   "metadata": {},
   "outputs": [],
   "source": []
  }
 ],
 "metadata": {
  "kernelspec": {
   "display_name": "base",
   "language": "python",
   "name": "python3"
  },
  "language_info": {
   "codemirror_mode": {
    "name": "ipython",
    "version": 3
   },
   "file_extension": ".py",
   "mimetype": "text/x-python",
   "name": "python",
   "nbconvert_exporter": "python",
   "pygments_lexer": "ipython3",
   "version": "3.13.5"
  }
 },
 "nbformat": 4,
 "nbformat_minor": 5
}
