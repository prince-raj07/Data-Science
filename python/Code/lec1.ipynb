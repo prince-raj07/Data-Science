{
 "cells": [
  {
   "cell_type": "markdown",
   "id": "ec90bb52",
   "metadata": {},
   "source": [
    "Lec - 01\n"
   ]
  },
  {
   "cell_type": "code",
   "execution_count": 1,
   "id": "5ab373cd",
   "metadata": {},
   "outputs": [
    {
     "name": "stdout",
     "output_type": "stream",
     "text": [
      "Hello, World! True 3.14 [1, 2, 3] {'key': 'value'}\n"
     ]
    }
   ],
   "source": [
    "print(\"Hello, World!\",True, 3.14, [1, 2, 3], {\"key\": \"value\"})"
   ]
  },
  {
   "cell_type": "code",
   "execution_count": 1,
   "id": "cf183bb8",
   "metadata": {},
   "outputs": [
    {
     "name": "stdout",
     "output_type": "stream",
     "text": [
      "This is a test message.-Welcome\n",
      "Hello/1/4.5/True\n"
     ]
    }
   ],
   "source": [
    "print(\"This is a test message.\",\"Welcome\",sep='-')\n",
    "print('Hello',1,4.5,True,sep='/')"
   ]
  },
  {
   "cell_type": "code",
   "execution_count": 15,
   "id": "79802d1a",
   "metadata": {},
   "outputs": [
    {
     "name": "stdout",
     "output_type": "stream",
     "text": [
      "hello-world\n",
      "nice\n"
     ]
    }
   ],
   "source": [
    "print(\"hello\",end=\"-\")\n",
    "print(\"world\")\n",
    "print(\"nice\")"
   ]
  },
  {
   "cell_type": "code",
   "execution_count": 16,
   "id": "029d7547",
   "metadata": {},
   "outputs": [
    {
     "name": "stdout",
     "output_type": "stream",
     "text": [
      "<class 'list'>\n",
      "<class 'tuple'>\n"
     ]
    }
   ],
   "source": [
    "# type keyword\n",
    "print(type([1,2,3]))\n",
    "print(type((1,2,3,4)))"
   ]
  },
  {
   "cell_type": "code",
   "execution_count": null,
   "id": "a207c031",
   "metadata": {},
   "outputs": [
    {
     "name": "stdout",
     "output_type": "stream",
     "text": [
      "5\n",
      "hello\n"
     ]
    }
   ],
   "source": [
    "#Dynamic Binding\n",
    "a = 5\n",
    "print(a)\n",
    "a = \"hello\"\n",
    "print(a)"
   ]
  },
  {
   "cell_type": "code",
   "execution_count": 19,
   "id": "b0ad796b",
   "metadata": {},
   "outputs": [
    {
     "name": "stdout",
     "output_type": "stream",
     "text": [
      "1 hello True\n"
     ]
    }
   ],
   "source": [
    "a,b,c = 1,\"hello\",True\n",
    "print(a,b,c)"
   ]
  },
  {
   "cell_type": "code",
   "execution_count": 20,
   "id": "069f0890",
   "metadata": {},
   "outputs": [
    {
     "name": "stdout",
     "output_type": "stream",
     "text": [
      "4 <class 'str'>\n"
     ]
    }
   ],
   "source": [
    "# Any input you give wrapped in a string \n",
    "a = input(\"Enter a number\")\n",
    "print(a,type(a))"
   ]
  },
  {
   "cell_type": "code",
   "execution_count": 22,
   "id": "ae600ec7",
   "metadata": {},
   "outputs": [
    {
     "name": "stdout",
     "output_type": "stream",
     "text": [
      "11 <class 'int'>\n"
     ]
    }
   ],
   "source": [
    "fnum = int(input(\"Enter first number\"))\n",
    "snum = int(input(\"Enter second number\"))\n",
    "\n",
    "num = fnum + snum\n",
    "print(num,type(num))"
   ]
  },
  {
   "cell_type": "code",
   "execution_count": null,
   "id": "37db2d96",
   "metadata": {},
   "outputs": [
    {
     "name": "stdout",
     "output_type": "stream",
     "text": [
      "<class 'int'> <class 'str'>\n",
      "6\n",
      "<class 'int'>\n",
      "46\n"
     ]
    }
   ],
   "source": [
    "# Explicit conversion\n",
    "\n",
    "a = 2\n",
    "b = \"4\"\n",
    "c = \"6\"\n",
    "print(type(a),type(b))\n",
    "print(a+int(b))\n",
    "print(type(int(b))) \n",
    "print(b+c)"
   ]
  },
  {
   "cell_type": "code",
   "execution_count": 2,
   "id": "a2a537b5",
   "metadata": {},
   "outputs": [
    {
     "name": "stdout",
     "output_type": "stream",
     "text": [
      "This is Pythonwelcome to python\n",
      "welcome to pythonA\n",
      "This is a multiline string with more than \n",
      "one line of code.\n",
      "It feels amazing to be here and honour to share the stage with all of you\n",
      "This is a multiline string with more than one line of code.It feels amazing to be here and honour to share the stage with all of you\n"
     ]
    }
   ],
   "source": [
    "string1 = 'This is Python'\n",
    "string2 = \"welcome to python\"\n",
    "print(string1+string2)\n",
    "char = \"A\"\n",
    "print(string2+char)\n",
    "multi_line = \"\"\"This is a multiline string with more than \n",
    "one line of code.\n",
    "It feels amazing to be here and honour to share the stage with all of you\"\"\"\n",
    "print(multi_line)\n",
    "\n",
    "#Can not do with single doulbe colon pair\n",
    "multi_line2 = \"This is a multiline string with \" \\\n",
    "\"more than one line of code.\" \\\n",
    "\"It feels amazing to be here and honour to share the stage with all of you\"\n",
    "print(multi_line2)"
   ]
  },
  {
   "cell_type": "markdown",
   "id": "a34920de",
   "metadata": {},
   "source": [
    "Homework"
   ]
  },
  {
   "cell_type": "code",
   "execution_count": 32,
   "id": "8ea1b9ff",
   "metadata": {},
   "outputs": [
    {
     "name": "stdout",
     "output_type": "stream",
     "text": [
      "Data-Science-Mentorship-Program-started-By-CampusX\n"
     ]
    }
   ],
   "source": [
    "# Q1\n",
    "\n",
    "print(\"Data\",\"Science\",\"Mentorship\",\"Program\",\"started\",\"By\",\"CampusX\",sep=\"-\")"
   ]
  },
  {
   "cell_type": "code",
   "execution_count": null,
   "id": "72939f85",
   "metadata": {},
   "outputs": [],
   "source": [
    "# Q2"
   ]
  },
  {
   "cell_type": "code",
   "execution_count": 33,
   "id": "38722c7d",
   "metadata": {},
   "outputs": [
    {
     "name": "stdout",
     "output_type": "stream",
     "text": [
      "4 6\n",
      "6 4\n"
     ]
    }
   ],
   "source": [
    "# Q3\n",
    "\n",
    "num1 = int(input(\"Enter first number\"))\n",
    "num2 = int(input(\"Enter second number\"))\n",
    "\n",
    "print(num1,num2)\n",
    "\n",
    "swap = num1\n",
    "num1 = num2\n",
    "num2 = swap\n",
    "\n",
    "print(num1,num2)"
   ]
  },
  {
   "cell_type": "code",
   "execution_count": null,
   "id": "e3f278bd",
   "metadata": {},
   "outputs": [],
   "source": [
    "# Q4"
   ]
  },
  {
   "cell_type": "code",
   "execution_count": 34,
   "id": "3da96301",
   "metadata": {},
   "outputs": [
    {
     "name": "stdout",
     "output_type": "stream",
     "text": [
      "1000.0\n"
     ]
    }
   ],
   "source": [
    "# Q5\n",
    "P = int(input(\"Enter principal amount\"))\n",
    "T = float(input(\"Enter time period\"))\n",
    "R = float(input(\"Enter interest\"))\n",
    "\n",
    "SI = (P*T*R)/100\n",
    "\n",
    "print(SI)"
   ]
  },
  {
   "cell_type": "code",
   "execution_count": null,
   "id": "d9db6eb6",
   "metadata": {},
   "outputs": [
    {
     "name": "stdout",
     "output_type": "stream",
     "text": [
      "chicken =  2.0 goat =  2.0\n"
     ]
    }
   ],
   "source": [
    "# Q6\n",
    "legs =  int(input(\"Enter number of legs\"))\n",
    "heads = int(input(\"Enter number of heads\"))\n",
    "if legs%4==heads:\n",
    "    print(\"chicken = 0 and goat = \",legs/4)\n",
    "elif legs%2==heads:\n",
    "    print(\"goat = 0 and chicken =\",legs/2)\n",
    "else :\n",
    "    chicken = ((heads*4)-legs)/2\n",
    "    goat = heads - chicken    \n",
    "    print(\"chicken = \",chicken,\"goat = \",goat)"
   ]
  }
 ],
 "metadata": {
  "kernelspec": {
   "display_name": "base",
   "language": "python",
   "name": "python3"
  },
  "language_info": {
   "codemirror_mode": {
    "name": "ipython",
    "version": 3
   },
   "file_extension": ".py",
   "mimetype": "text/x-python",
   "name": "python",
   "nbconvert_exporter": "python",
   "pygments_lexer": "ipython3",
   "version": "3.13.5"
  }
 },
 "nbformat": 4,
 "nbformat_minor": 5
}
